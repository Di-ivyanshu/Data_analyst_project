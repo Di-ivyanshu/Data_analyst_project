{
 "cells": [
  {
   "cell_type": "markdown",
   "id": "dc988395",
   "metadata": {},
   "source": [
    "# 1. Importing Libraries"
   ]
  },
  {
   "cell_type": "code",
   "execution_count": 86,
   "id": "d4f0d497",
   "metadata": {},
   "outputs": [
    {
     "data": {
      "text/html": [
       "        <script type=\"text/javascript\">\n",
       "        window.PlotlyConfig = {MathJaxConfig: 'local'};\n",
       "        if (window.MathJax && window.MathJax.Hub && window.MathJax.Hub.Config) {window.MathJax.Hub.Config({SVG: {font: \"STIX-Web\"}});}\n",
       "        if (typeof require !== 'undefined') {\n",
       "        require.undef(\"plotly\");\n",
       "        requirejs.config({\n",
       "            paths: {\n",
       "                'plotly': ['https://cdn.plot.ly/plotly-2.35.2.min']\n",
       "            }\n",
       "        });\n",
       "        require(['plotly'], function(Plotly) {\n",
       "            window._Plotly = Plotly;\n",
       "        });\n",
       "        }\n",
       "        </script>\n",
       "        "
      ]
     },
     "metadata": {},
     "output_type": "display_data"
    }
   ],
   "source": [
    "import pandas as pd\n",
    "import numpy as np\n",
    "import matplotlib.pyplot as plt\n",
    "import seaborn as sns\n",
    "import plotly.express as px\n",
    "import plotly.graph_objects as go\n",
    "from plotly.offline import init_notebook_mode\n",
    "init_notebook_mode(connected=True)\n",
    "from wordcloud import WordCloud, STOPWORDS\n",
    "import warnings\n",
    "warnings.filterwarnings(\"ignore\")"
   ]
  },
  {
   "cell_type": "code",
   "execution_count": 87,
   "id": "53fb4bba",
   "metadata": {},
   "outputs": [],
   "source": [
    "# Reading the data\n",
    "df = pd.read_csv(r\"C:\\Users\\Divyanshu\\Downloads\\world_population.csv\")\n",
    "\n"
   ]
  },
  {
   "cell_type": "markdown",
   "id": "0b96f618",
   "metadata": {},
   "source": [
    "# 2. Dataset "
   ]
  },
  {
   "cell_type": "markdown",
   "id": "43f1c1b6",
   "metadata": {},
   "source": [
    "- Rank - Rank by Population\n",
    "- CCA3 - 3 Digit Country/Territories Code\n",
    "- Country - Name of the Country\n",
    "- Continent - Name of the Continent\n",
    "- 2023 Population - Population of the Country in the year 2023\n",
    "- 2022 Population - Population of the Country in the year 2022\n",
    "- 2020 Population - Population of the Country in the year 2020\n",
    "- 2015 Population - Population of the Country in the year 2015\n",
    "- 2010 Population - Population of the Country in the year 2010\n",
    "- 2000 Population - Population of the Country in the year 2000\n",
    "- 1990 Population - Population of the Country in the year 1990\n",
    "- 1980 Population - Population of the Country in the year 1980\n",
    "- 1970 Population - Population of the Country in the year 1970\n",
    "- Area (km²) - Area size of the Country/Territories in square kilometer\n",
    "- Density (km²) - Population Density per square kilometer\n",
    "- Growth Rate - Population Growth Rate by Country\n",
    "- World Population Percentage - The population percentage by each Country"
   ]
  },
  {
   "cell_type": "code",
   "execution_count": 88,
   "id": "26fc13a6",
   "metadata": {},
   "outputs": [
    {
     "data": {
      "text/html": [
       "<style type=\"text/css\">\n",
       "#T_0b8e5_row0_col0, #T_0b8e5_row0_col1, #T_0b8e5_row0_col2, #T_0b8e5_row0_col3, #T_0b8e5_row0_col4, #T_0b8e5_row0_col5, #T_0b8e5_row0_col6, #T_0b8e5_row0_col7, #T_0b8e5_row0_col8, #T_0b8e5_row0_col9, #T_0b8e5_row0_col10, #T_0b8e5_row0_col11, #T_0b8e5_row0_col12, #T_0b8e5_row0_col13, #T_0b8e5_row0_col14, #T_0b8e5_row0_col15, #T_0b8e5_row0_col16, #T_0b8e5_row1_col0, #T_0b8e5_row1_col1, #T_0b8e5_row1_col2, #T_0b8e5_row1_col3, #T_0b8e5_row1_col4, #T_0b8e5_row1_col5, #T_0b8e5_row1_col6, #T_0b8e5_row1_col7, #T_0b8e5_row1_col8, #T_0b8e5_row1_col9, #T_0b8e5_row1_col10, #T_0b8e5_row1_col11, #T_0b8e5_row1_col12, #T_0b8e5_row1_col13, #T_0b8e5_row1_col14, #T_0b8e5_row1_col15, #T_0b8e5_row1_col16, #T_0b8e5_row2_col0, #T_0b8e5_row2_col1, #T_0b8e5_row2_col2, #T_0b8e5_row2_col3, #T_0b8e5_row2_col4, #T_0b8e5_row2_col5, #T_0b8e5_row2_col6, #T_0b8e5_row2_col7, #T_0b8e5_row2_col8, #T_0b8e5_row2_col9, #T_0b8e5_row2_col10, #T_0b8e5_row2_col11, #T_0b8e5_row2_col12, #T_0b8e5_row2_col13, #T_0b8e5_row2_col14, #T_0b8e5_row2_col15, #T_0b8e5_row2_col16, #T_0b8e5_row3_col0, #T_0b8e5_row3_col1, #T_0b8e5_row3_col2, #T_0b8e5_row3_col3, #T_0b8e5_row3_col4, #T_0b8e5_row3_col5, #T_0b8e5_row3_col6, #T_0b8e5_row3_col7, #T_0b8e5_row3_col8, #T_0b8e5_row3_col9, #T_0b8e5_row3_col10, #T_0b8e5_row3_col11, #T_0b8e5_row3_col12, #T_0b8e5_row3_col13, #T_0b8e5_row3_col14, #T_0b8e5_row3_col15, #T_0b8e5_row3_col16, #T_0b8e5_row4_col0, #T_0b8e5_row4_col1, #T_0b8e5_row4_col2, #T_0b8e5_row4_col3, #T_0b8e5_row4_col4, #T_0b8e5_row4_col5, #T_0b8e5_row4_col6, #T_0b8e5_row4_col7, #T_0b8e5_row4_col8, #T_0b8e5_row4_col9, #T_0b8e5_row4_col10, #T_0b8e5_row4_col11, #T_0b8e5_row4_col12, #T_0b8e5_row4_col13, #T_0b8e5_row4_col14, #T_0b8e5_row4_col15, #T_0b8e5_row4_col16 {\n",
       "  background-color: #417894;\n",
       "  color: white;\n",
       "  border: 1.5px  solid black;\n",
       "}\n",
       "</style>\n",
       "<table id=\"T_0b8e5_\">\n",
       "  <thead>\n",
       "    <tr>\n",
       "      <th class=\"blank level0\" >&nbsp;</th>\n",
       "      <th class=\"col_heading level0 col0\" >Rank</th>\n",
       "      <th class=\"col_heading level0 col1\" >CCA3</th>\n",
       "      <th class=\"col_heading level0 col2\" >Country/Territory</th>\n",
       "      <th class=\"col_heading level0 col3\" >Capital</th>\n",
       "      <th class=\"col_heading level0 col4\" >Continent</th>\n",
       "      <th class=\"col_heading level0 col5\" >2022 Population</th>\n",
       "      <th class=\"col_heading level0 col6\" >2020 Population</th>\n",
       "      <th class=\"col_heading level0 col7\" >2015 Population</th>\n",
       "      <th class=\"col_heading level0 col8\" >2010 Population</th>\n",
       "      <th class=\"col_heading level0 col9\" >2000 Population</th>\n",
       "      <th class=\"col_heading level0 col10\" >1990 Population</th>\n",
       "      <th class=\"col_heading level0 col11\" >1980 Population</th>\n",
       "      <th class=\"col_heading level0 col12\" >1970 Population</th>\n",
       "      <th class=\"col_heading level0 col13\" >Area (km²)</th>\n",
       "      <th class=\"col_heading level0 col14\" >Density (per km²)</th>\n",
       "      <th class=\"col_heading level0 col15\" >Growth Rate</th>\n",
       "      <th class=\"col_heading level0 col16\" >World Population Percentage</th>\n",
       "    </tr>\n",
       "  </thead>\n",
       "  <tbody>\n",
       "    <tr>\n",
       "      <th id=\"T_0b8e5_level0_row0\" class=\"row_heading level0 row0\" >0</th>\n",
       "      <td id=\"T_0b8e5_row0_col0\" class=\"data row0 col0\" >36</td>\n",
       "      <td id=\"T_0b8e5_row0_col1\" class=\"data row0 col1\" >AFG</td>\n",
       "      <td id=\"T_0b8e5_row0_col2\" class=\"data row0 col2\" >Afghanistan</td>\n",
       "      <td id=\"T_0b8e5_row0_col3\" class=\"data row0 col3\" >Kabul</td>\n",
       "      <td id=\"T_0b8e5_row0_col4\" class=\"data row0 col4\" >Asia</td>\n",
       "      <td id=\"T_0b8e5_row0_col5\" class=\"data row0 col5\" >41128771</td>\n",
       "      <td id=\"T_0b8e5_row0_col6\" class=\"data row0 col6\" >38972230</td>\n",
       "      <td id=\"T_0b8e5_row0_col7\" class=\"data row0 col7\" >33753499</td>\n",
       "      <td id=\"T_0b8e5_row0_col8\" class=\"data row0 col8\" >28189672</td>\n",
       "      <td id=\"T_0b8e5_row0_col9\" class=\"data row0 col9\" >19542982</td>\n",
       "      <td id=\"T_0b8e5_row0_col10\" class=\"data row0 col10\" >10694796</td>\n",
       "      <td id=\"T_0b8e5_row0_col11\" class=\"data row0 col11\" >12486631</td>\n",
       "      <td id=\"T_0b8e5_row0_col12\" class=\"data row0 col12\" >10752971</td>\n",
       "      <td id=\"T_0b8e5_row0_col13\" class=\"data row0 col13\" >652230</td>\n",
       "      <td id=\"T_0b8e5_row0_col14\" class=\"data row0 col14\" >63.058700</td>\n",
       "      <td id=\"T_0b8e5_row0_col15\" class=\"data row0 col15\" >1.025700</td>\n",
       "      <td id=\"T_0b8e5_row0_col16\" class=\"data row0 col16\" >0.520000</td>\n",
       "    </tr>\n",
       "    <tr>\n",
       "      <th id=\"T_0b8e5_level0_row1\" class=\"row_heading level0 row1\" >1</th>\n",
       "      <td id=\"T_0b8e5_row1_col0\" class=\"data row1 col0\" >138</td>\n",
       "      <td id=\"T_0b8e5_row1_col1\" class=\"data row1 col1\" >ALB</td>\n",
       "      <td id=\"T_0b8e5_row1_col2\" class=\"data row1 col2\" >Albania</td>\n",
       "      <td id=\"T_0b8e5_row1_col3\" class=\"data row1 col3\" >Tirana</td>\n",
       "      <td id=\"T_0b8e5_row1_col4\" class=\"data row1 col4\" >Europe</td>\n",
       "      <td id=\"T_0b8e5_row1_col5\" class=\"data row1 col5\" >2842321</td>\n",
       "      <td id=\"T_0b8e5_row1_col6\" class=\"data row1 col6\" >2866849</td>\n",
       "      <td id=\"T_0b8e5_row1_col7\" class=\"data row1 col7\" >2882481</td>\n",
       "      <td id=\"T_0b8e5_row1_col8\" class=\"data row1 col8\" >2913399</td>\n",
       "      <td id=\"T_0b8e5_row1_col9\" class=\"data row1 col9\" >3182021</td>\n",
       "      <td id=\"T_0b8e5_row1_col10\" class=\"data row1 col10\" >3295066</td>\n",
       "      <td id=\"T_0b8e5_row1_col11\" class=\"data row1 col11\" >2941651</td>\n",
       "      <td id=\"T_0b8e5_row1_col12\" class=\"data row1 col12\" >2324731</td>\n",
       "      <td id=\"T_0b8e5_row1_col13\" class=\"data row1 col13\" >28748</td>\n",
       "      <td id=\"T_0b8e5_row1_col14\" class=\"data row1 col14\" >98.870200</td>\n",
       "      <td id=\"T_0b8e5_row1_col15\" class=\"data row1 col15\" >0.995700</td>\n",
       "      <td id=\"T_0b8e5_row1_col16\" class=\"data row1 col16\" >0.040000</td>\n",
       "    </tr>\n",
       "    <tr>\n",
       "      <th id=\"T_0b8e5_level0_row2\" class=\"row_heading level0 row2\" >2</th>\n",
       "      <td id=\"T_0b8e5_row2_col0\" class=\"data row2 col0\" >34</td>\n",
       "      <td id=\"T_0b8e5_row2_col1\" class=\"data row2 col1\" >DZA</td>\n",
       "      <td id=\"T_0b8e5_row2_col2\" class=\"data row2 col2\" >Algeria</td>\n",
       "      <td id=\"T_0b8e5_row2_col3\" class=\"data row2 col3\" >Algiers</td>\n",
       "      <td id=\"T_0b8e5_row2_col4\" class=\"data row2 col4\" >Africa</td>\n",
       "      <td id=\"T_0b8e5_row2_col5\" class=\"data row2 col5\" >44903225</td>\n",
       "      <td id=\"T_0b8e5_row2_col6\" class=\"data row2 col6\" >43451666</td>\n",
       "      <td id=\"T_0b8e5_row2_col7\" class=\"data row2 col7\" >39543154</td>\n",
       "      <td id=\"T_0b8e5_row2_col8\" class=\"data row2 col8\" >35856344</td>\n",
       "      <td id=\"T_0b8e5_row2_col9\" class=\"data row2 col9\" >30774621</td>\n",
       "      <td id=\"T_0b8e5_row2_col10\" class=\"data row2 col10\" >25518074</td>\n",
       "      <td id=\"T_0b8e5_row2_col11\" class=\"data row2 col11\" >18739378</td>\n",
       "      <td id=\"T_0b8e5_row2_col12\" class=\"data row2 col12\" >13795915</td>\n",
       "      <td id=\"T_0b8e5_row2_col13\" class=\"data row2 col13\" >2381741</td>\n",
       "      <td id=\"T_0b8e5_row2_col14\" class=\"data row2 col14\" >18.853100</td>\n",
       "      <td id=\"T_0b8e5_row2_col15\" class=\"data row2 col15\" >1.016400</td>\n",
       "      <td id=\"T_0b8e5_row2_col16\" class=\"data row2 col16\" >0.560000</td>\n",
       "    </tr>\n",
       "    <tr>\n",
       "      <th id=\"T_0b8e5_level0_row3\" class=\"row_heading level0 row3\" >3</th>\n",
       "      <td id=\"T_0b8e5_row3_col0\" class=\"data row3 col0\" >213</td>\n",
       "      <td id=\"T_0b8e5_row3_col1\" class=\"data row3 col1\" >ASM</td>\n",
       "      <td id=\"T_0b8e5_row3_col2\" class=\"data row3 col2\" >American Samoa</td>\n",
       "      <td id=\"T_0b8e5_row3_col3\" class=\"data row3 col3\" >Pago Pago</td>\n",
       "      <td id=\"T_0b8e5_row3_col4\" class=\"data row3 col4\" >Oceania</td>\n",
       "      <td id=\"T_0b8e5_row3_col5\" class=\"data row3 col5\" >44273</td>\n",
       "      <td id=\"T_0b8e5_row3_col6\" class=\"data row3 col6\" >46189</td>\n",
       "      <td id=\"T_0b8e5_row3_col7\" class=\"data row3 col7\" >51368</td>\n",
       "      <td id=\"T_0b8e5_row3_col8\" class=\"data row3 col8\" >54849</td>\n",
       "      <td id=\"T_0b8e5_row3_col9\" class=\"data row3 col9\" >58230</td>\n",
       "      <td id=\"T_0b8e5_row3_col10\" class=\"data row3 col10\" >47818</td>\n",
       "      <td id=\"T_0b8e5_row3_col11\" class=\"data row3 col11\" >32886</td>\n",
       "      <td id=\"T_0b8e5_row3_col12\" class=\"data row3 col12\" >27075</td>\n",
       "      <td id=\"T_0b8e5_row3_col13\" class=\"data row3 col13\" >199</td>\n",
       "      <td id=\"T_0b8e5_row3_col14\" class=\"data row3 col14\" >222.477400</td>\n",
       "      <td id=\"T_0b8e5_row3_col15\" class=\"data row3 col15\" >0.983100</td>\n",
       "      <td id=\"T_0b8e5_row3_col16\" class=\"data row3 col16\" >0.000000</td>\n",
       "    </tr>\n",
       "    <tr>\n",
       "      <th id=\"T_0b8e5_level0_row4\" class=\"row_heading level0 row4\" >4</th>\n",
       "      <td id=\"T_0b8e5_row4_col0\" class=\"data row4 col0\" >203</td>\n",
       "      <td id=\"T_0b8e5_row4_col1\" class=\"data row4 col1\" >AND</td>\n",
       "      <td id=\"T_0b8e5_row4_col2\" class=\"data row4 col2\" >Andorra</td>\n",
       "      <td id=\"T_0b8e5_row4_col3\" class=\"data row4 col3\" >Andorra la Vella</td>\n",
       "      <td id=\"T_0b8e5_row4_col4\" class=\"data row4 col4\" >Europe</td>\n",
       "      <td id=\"T_0b8e5_row4_col5\" class=\"data row4 col5\" >79824</td>\n",
       "      <td id=\"T_0b8e5_row4_col6\" class=\"data row4 col6\" >77700</td>\n",
       "      <td id=\"T_0b8e5_row4_col7\" class=\"data row4 col7\" >71746</td>\n",
       "      <td id=\"T_0b8e5_row4_col8\" class=\"data row4 col8\" >71519</td>\n",
       "      <td id=\"T_0b8e5_row4_col9\" class=\"data row4 col9\" >66097</td>\n",
       "      <td id=\"T_0b8e5_row4_col10\" class=\"data row4 col10\" >53569</td>\n",
       "      <td id=\"T_0b8e5_row4_col11\" class=\"data row4 col11\" >35611</td>\n",
       "      <td id=\"T_0b8e5_row4_col12\" class=\"data row4 col12\" >19860</td>\n",
       "      <td id=\"T_0b8e5_row4_col13\" class=\"data row4 col13\" >468</td>\n",
       "      <td id=\"T_0b8e5_row4_col14\" class=\"data row4 col14\" >170.564100</td>\n",
       "      <td id=\"T_0b8e5_row4_col15\" class=\"data row4 col15\" >1.010000</td>\n",
       "      <td id=\"T_0b8e5_row4_col16\" class=\"data row4 col16\" >0.000000</td>\n",
       "    </tr>\n",
       "  </tbody>\n",
       "</table>\n"
      ],
      "text/plain": [
       "<pandas.io.formats.style.Styler at 0x1b454b4fca0>"
      ]
     },
     "execution_count": 88,
     "metadata": {},
     "output_type": "execute_result"
    }
   ],
   "source": [
    "df.head(n=5).style.set_properties(**{\"background-color\": \"#417894\",\"color\":\"white\",\"border\": \"1.5px  solid black\"})"
   ]
  },
  {
   "cell_type": "markdown",
   "id": "47a90b27",
   "metadata": {},
   "source": [
    "# 3. Exploration"
   ]
  },
  {
   "cell_type": "code",
   "execution_count": 89,
   "id": "94c1dddf",
   "metadata": {},
   "outputs": [
    {
     "name": "stdout",
     "output_type": "stream",
     "text": [
      "Shape Of The Dataset: (234, 17)\n"
     ]
    }
   ],
   "source": [
    "# Checking shape of the dataset\n",
    "print(f\"Shape Of The Dataset: {df.shape}\")"
   ]
  },
  {
   "cell_type": "markdown",
   "id": "e9c23760",
   "metadata": {},
   "source": [
    "### Summary of the Dataset"
   ]
  },
  {
   "cell_type": "code",
   "execution_count": 90,
   "id": "7b2f1f1e",
   "metadata": {},
   "outputs": [
    {
     "data": {
      "text/html": [
       "<style type=\"text/css\">\n",
       "#T_3fbc6_row0_col0, #T_3fbc6_row0_col1, #T_3fbc6_row0_col2, #T_3fbc6_row0_col3, #T_3fbc6_row0_col4, #T_3fbc6_row0_col5, #T_3fbc6_row0_col6, #T_3fbc6_row0_col7, #T_3fbc6_row0_col8, #T_3fbc6_row0_col9, #T_3fbc6_row0_col10, #T_3fbc6_row0_col11, #T_3fbc6_row0_col12, #T_3fbc6_row1_col0, #T_3fbc6_row1_col1, #T_3fbc6_row1_col2, #T_3fbc6_row1_col3, #T_3fbc6_row1_col4, #T_3fbc6_row1_col5, #T_3fbc6_row1_col6, #T_3fbc6_row1_col7, #T_3fbc6_row1_col8, #T_3fbc6_row1_col9, #T_3fbc6_row1_col10, #T_3fbc6_row1_col11, #T_3fbc6_row1_col12, #T_3fbc6_row2_col0, #T_3fbc6_row2_col1, #T_3fbc6_row2_col2, #T_3fbc6_row2_col3, #T_3fbc6_row2_col4, #T_3fbc6_row2_col5, #T_3fbc6_row2_col6, #T_3fbc6_row2_col7, #T_3fbc6_row2_col8, #T_3fbc6_row2_col9, #T_3fbc6_row2_col10, #T_3fbc6_row2_col11, #T_3fbc6_row2_col12, #T_3fbc6_row3_col0, #T_3fbc6_row3_col1, #T_3fbc6_row3_col2, #T_3fbc6_row3_col3, #T_3fbc6_row3_col4, #T_3fbc6_row3_col5, #T_3fbc6_row3_col6, #T_3fbc6_row3_col7, #T_3fbc6_row3_col8, #T_3fbc6_row3_col9, #T_3fbc6_row3_col10, #T_3fbc6_row3_col11, #T_3fbc6_row3_col12, #T_3fbc6_row4_col0, #T_3fbc6_row4_col1, #T_3fbc6_row4_col2, #T_3fbc6_row4_col3, #T_3fbc6_row4_col4, #T_3fbc6_row4_col5, #T_3fbc6_row4_col6, #T_3fbc6_row4_col7, #T_3fbc6_row4_col8, #T_3fbc6_row4_col9, #T_3fbc6_row4_col10, #T_3fbc6_row4_col11, #T_3fbc6_row4_col12, #T_3fbc6_row5_col0, #T_3fbc6_row5_col1, #T_3fbc6_row5_col2, #T_3fbc6_row5_col3, #T_3fbc6_row5_col4, #T_3fbc6_row5_col5, #T_3fbc6_row5_col6, #T_3fbc6_row5_col7, #T_3fbc6_row5_col8, #T_3fbc6_row5_col9, #T_3fbc6_row5_col10, #T_3fbc6_row5_col11, #T_3fbc6_row5_col12, #T_3fbc6_row6_col0, #T_3fbc6_row6_col1, #T_3fbc6_row6_col2, #T_3fbc6_row6_col3, #T_3fbc6_row6_col4, #T_3fbc6_row6_col5, #T_3fbc6_row6_col6, #T_3fbc6_row6_col7, #T_3fbc6_row6_col8, #T_3fbc6_row6_col9, #T_3fbc6_row6_col10, #T_3fbc6_row6_col11, #T_3fbc6_row6_col12, #T_3fbc6_row7_col0, #T_3fbc6_row7_col1, #T_3fbc6_row7_col2, #T_3fbc6_row7_col3, #T_3fbc6_row7_col4, #T_3fbc6_row7_col5, #T_3fbc6_row7_col6, #T_3fbc6_row7_col7, #T_3fbc6_row7_col8, #T_3fbc6_row7_col9, #T_3fbc6_row7_col10, #T_3fbc6_row7_col11, #T_3fbc6_row7_col12 {\n",
       "  background-color: #417885;\n",
       "  color: white;\n",
       "  border: 1.5px solid black;\n",
       "}\n",
       "</style>\n",
       "<table id=\"T_3fbc6_\">\n",
       "  <thead>\n",
       "    <tr>\n",
       "      <th class=\"blank level0\" >&nbsp;</th>\n",
       "      <th class=\"col_heading level0 col0\" >Rank</th>\n",
       "      <th class=\"col_heading level0 col1\" >2022 Population</th>\n",
       "      <th class=\"col_heading level0 col2\" >2020 Population</th>\n",
       "      <th class=\"col_heading level0 col3\" >2015 Population</th>\n",
       "      <th class=\"col_heading level0 col4\" >2010 Population</th>\n",
       "      <th class=\"col_heading level0 col5\" >2000 Population</th>\n",
       "      <th class=\"col_heading level0 col6\" >1990 Population</th>\n",
       "      <th class=\"col_heading level0 col7\" >1980 Population</th>\n",
       "      <th class=\"col_heading level0 col8\" >1970 Population</th>\n",
       "      <th class=\"col_heading level0 col9\" >Area (km²)</th>\n",
       "      <th class=\"col_heading level0 col10\" >Density (per km²)</th>\n",
       "      <th class=\"col_heading level0 col11\" >Growth Rate</th>\n",
       "      <th class=\"col_heading level0 col12\" >World Population Percentage</th>\n",
       "    </tr>\n",
       "  </thead>\n",
       "  <tbody>\n",
       "    <tr>\n",
       "      <th id=\"T_3fbc6_level0_row0\" class=\"row_heading level0 row0\" >count</th>\n",
       "      <td id=\"T_3fbc6_row0_col0\" class=\"data row0 col0\" >234.000000</td>\n",
       "      <td id=\"T_3fbc6_row0_col1\" class=\"data row0 col1\" >234.000000</td>\n",
       "      <td id=\"T_3fbc6_row0_col2\" class=\"data row0 col2\" >234.000000</td>\n",
       "      <td id=\"T_3fbc6_row0_col3\" class=\"data row0 col3\" >234.000000</td>\n",
       "      <td id=\"T_3fbc6_row0_col4\" class=\"data row0 col4\" >234.000000</td>\n",
       "      <td id=\"T_3fbc6_row0_col5\" class=\"data row0 col5\" >234.000000</td>\n",
       "      <td id=\"T_3fbc6_row0_col6\" class=\"data row0 col6\" >234.000000</td>\n",
       "      <td id=\"T_3fbc6_row0_col7\" class=\"data row0 col7\" >234.000000</td>\n",
       "      <td id=\"T_3fbc6_row0_col8\" class=\"data row0 col8\" >234.000000</td>\n",
       "      <td id=\"T_3fbc6_row0_col9\" class=\"data row0 col9\" >234.000000</td>\n",
       "      <td id=\"T_3fbc6_row0_col10\" class=\"data row0 col10\" >234.000000</td>\n",
       "      <td id=\"T_3fbc6_row0_col11\" class=\"data row0 col11\" >234.000000</td>\n",
       "      <td id=\"T_3fbc6_row0_col12\" class=\"data row0 col12\" >234.000000</td>\n",
       "    </tr>\n",
       "    <tr>\n",
       "      <th id=\"T_3fbc6_level0_row1\" class=\"row_heading level0 row1\" >mean</th>\n",
       "      <td id=\"T_3fbc6_row1_col0\" class=\"data row1 col0\" >117.500000</td>\n",
       "      <td id=\"T_3fbc6_row1_col1\" class=\"data row1 col1\" >34074414.709402</td>\n",
       "      <td id=\"T_3fbc6_row1_col2\" class=\"data row1 col2\" >33501070.952991</td>\n",
       "      <td id=\"T_3fbc6_row1_col3\" class=\"data row1 col3\" >31729956.243590</td>\n",
       "      <td id=\"T_3fbc6_row1_col4\" class=\"data row1 col4\" >29845235.034188</td>\n",
       "      <td id=\"T_3fbc6_row1_col5\" class=\"data row1 col5\" >26269468.816239</td>\n",
       "      <td id=\"T_3fbc6_row1_col6\" class=\"data row1 col6\" >22710220.790598</td>\n",
       "      <td id=\"T_3fbc6_row1_col7\" class=\"data row1 col7\" >18984616.970085</td>\n",
       "      <td id=\"T_3fbc6_row1_col8\" class=\"data row1 col8\" >15786908.807692</td>\n",
       "      <td id=\"T_3fbc6_row1_col9\" class=\"data row1 col9\" >581449.384615</td>\n",
       "      <td id=\"T_3fbc6_row1_col10\" class=\"data row1 col10\" >452.127044</td>\n",
       "      <td id=\"T_3fbc6_row1_col11\" class=\"data row1 col11\" >1.009577</td>\n",
       "      <td id=\"T_3fbc6_row1_col12\" class=\"data row1 col12\" >0.427051</td>\n",
       "    </tr>\n",
       "    <tr>\n",
       "      <th id=\"T_3fbc6_level0_row2\" class=\"row_heading level0 row2\" >std</th>\n",
       "      <td id=\"T_3fbc6_row2_col0\" class=\"data row2 col0\" >67.694165</td>\n",
       "      <td id=\"T_3fbc6_row2_col1\" class=\"data row2 col1\" >136766424.804763</td>\n",
       "      <td id=\"T_3fbc6_row2_col2\" class=\"data row2 col2\" >135589876.924439</td>\n",
       "      <td id=\"T_3fbc6_row2_col3\" class=\"data row2 col3\" >130404992.751760</td>\n",
       "      <td id=\"T_3fbc6_row2_col4\" class=\"data row2 col4\" >124218487.632998</td>\n",
       "      <td id=\"T_3fbc6_row2_col5\" class=\"data row2 col5\" >111698206.719070</td>\n",
       "      <td id=\"T_3fbc6_row2_col6\" class=\"data row2 col6\" >97832173.346751</td>\n",
       "      <td id=\"T_3fbc6_row2_col7\" class=\"data row2 col7\" >81785186.084201</td>\n",
       "      <td id=\"T_3fbc6_row2_col8\" class=\"data row2 col8\" >67795091.643236</td>\n",
       "      <td id=\"T_3fbc6_row2_col9\" class=\"data row2 col9\" >1761840.864063</td>\n",
       "      <td id=\"T_3fbc6_row2_col10\" class=\"data row2 col10\" >2066.121904</td>\n",
       "      <td id=\"T_3fbc6_row2_col11\" class=\"data row2 col11\" >0.013385</td>\n",
       "      <td id=\"T_3fbc6_row2_col12\" class=\"data row2 col12\" >1.714977</td>\n",
       "    </tr>\n",
       "    <tr>\n",
       "      <th id=\"T_3fbc6_level0_row3\" class=\"row_heading level0 row3\" >min</th>\n",
       "      <td id=\"T_3fbc6_row3_col0\" class=\"data row3 col0\" >1.000000</td>\n",
       "      <td id=\"T_3fbc6_row3_col1\" class=\"data row3 col1\" >510.000000</td>\n",
       "      <td id=\"T_3fbc6_row3_col2\" class=\"data row3 col2\" >520.000000</td>\n",
       "      <td id=\"T_3fbc6_row3_col3\" class=\"data row3 col3\" >564.000000</td>\n",
       "      <td id=\"T_3fbc6_row3_col4\" class=\"data row3 col4\" >596.000000</td>\n",
       "      <td id=\"T_3fbc6_row3_col5\" class=\"data row3 col5\" >651.000000</td>\n",
       "      <td id=\"T_3fbc6_row3_col6\" class=\"data row3 col6\" >700.000000</td>\n",
       "      <td id=\"T_3fbc6_row3_col7\" class=\"data row3 col7\" >733.000000</td>\n",
       "      <td id=\"T_3fbc6_row3_col8\" class=\"data row3 col8\" >752.000000</td>\n",
       "      <td id=\"T_3fbc6_row3_col9\" class=\"data row3 col9\" >1.000000</td>\n",
       "      <td id=\"T_3fbc6_row3_col10\" class=\"data row3 col10\" >0.026100</td>\n",
       "      <td id=\"T_3fbc6_row3_col11\" class=\"data row3 col11\" >0.912000</td>\n",
       "      <td id=\"T_3fbc6_row3_col12\" class=\"data row3 col12\" >0.000000</td>\n",
       "    </tr>\n",
       "    <tr>\n",
       "      <th id=\"T_3fbc6_level0_row4\" class=\"row_heading level0 row4\" >25%</th>\n",
       "      <td id=\"T_3fbc6_row4_col0\" class=\"data row4 col0\" >59.250000</td>\n",
       "      <td id=\"T_3fbc6_row4_col1\" class=\"data row4 col1\" >419738.500000</td>\n",
       "      <td id=\"T_3fbc6_row4_col2\" class=\"data row4 col2\" >415284.500000</td>\n",
       "      <td id=\"T_3fbc6_row4_col3\" class=\"data row4 col3\" >404676.000000</td>\n",
       "      <td id=\"T_3fbc6_row4_col4\" class=\"data row4 col4\" >393149.000000</td>\n",
       "      <td id=\"T_3fbc6_row4_col5\" class=\"data row4 col5\" >327242.000000</td>\n",
       "      <td id=\"T_3fbc6_row4_col6\" class=\"data row4 col6\" >264115.750000</td>\n",
       "      <td id=\"T_3fbc6_row4_col7\" class=\"data row4 col7\" >229614.250000</td>\n",
       "      <td id=\"T_3fbc6_row4_col8\" class=\"data row4 col8\" >155997.000000</td>\n",
       "      <td id=\"T_3fbc6_row4_col9\" class=\"data row4 col9\" >2650.000000</td>\n",
       "      <td id=\"T_3fbc6_row4_col10\" class=\"data row4 col10\" >38.417875</td>\n",
       "      <td id=\"T_3fbc6_row4_col11\" class=\"data row4 col11\" >1.001775</td>\n",
       "      <td id=\"T_3fbc6_row4_col12\" class=\"data row4 col12\" >0.010000</td>\n",
       "    </tr>\n",
       "    <tr>\n",
       "      <th id=\"T_3fbc6_level0_row5\" class=\"row_heading level0 row5\" >50%</th>\n",
       "      <td id=\"T_3fbc6_row5_col0\" class=\"data row5 col0\" >117.500000</td>\n",
       "      <td id=\"T_3fbc6_row5_col1\" class=\"data row5 col1\" >5559944.500000</td>\n",
       "      <td id=\"T_3fbc6_row5_col2\" class=\"data row5 col2\" >5493074.500000</td>\n",
       "      <td id=\"T_3fbc6_row5_col3\" class=\"data row5 col3\" >5307400.000000</td>\n",
       "      <td id=\"T_3fbc6_row5_col4\" class=\"data row5 col4\" >4942770.500000</td>\n",
       "      <td id=\"T_3fbc6_row5_col5\" class=\"data row5 col5\" >4292907.000000</td>\n",
       "      <td id=\"T_3fbc6_row5_col6\" class=\"data row5 col6\" >3825409.500000</td>\n",
       "      <td id=\"T_3fbc6_row5_col7\" class=\"data row5 col7\" >3141145.500000</td>\n",
       "      <td id=\"T_3fbc6_row5_col8\" class=\"data row5 col8\" >2604830.000000</td>\n",
       "      <td id=\"T_3fbc6_row5_col9\" class=\"data row5 col9\" >81199.500000</td>\n",
       "      <td id=\"T_3fbc6_row5_col10\" class=\"data row5 col10\" >95.346750</td>\n",
       "      <td id=\"T_3fbc6_row5_col11\" class=\"data row5 col11\" >1.007900</td>\n",
       "      <td id=\"T_3fbc6_row5_col12\" class=\"data row5 col12\" >0.070000</td>\n",
       "    </tr>\n",
       "    <tr>\n",
       "      <th id=\"T_3fbc6_level0_row6\" class=\"row_heading level0 row6\" >75%</th>\n",
       "      <td id=\"T_3fbc6_row6_col0\" class=\"data row6 col0\" >175.750000</td>\n",
       "      <td id=\"T_3fbc6_row6_col1\" class=\"data row6 col1\" >22476504.750000</td>\n",
       "      <td id=\"T_3fbc6_row6_col2\" class=\"data row6 col2\" >21447979.500000</td>\n",
       "      <td id=\"T_3fbc6_row6_col3\" class=\"data row6 col3\" >19730853.750000</td>\n",
       "      <td id=\"T_3fbc6_row6_col4\" class=\"data row6 col4\" >19159567.500000</td>\n",
       "      <td id=\"T_3fbc6_row6_col5\" class=\"data row6 col5\" >15762301.000000</td>\n",
       "      <td id=\"T_3fbc6_row6_col6\" class=\"data row6 col6\" >11869231.000000</td>\n",
       "      <td id=\"T_3fbc6_row6_col7\" class=\"data row6 col7\" >9826053.750000</td>\n",
       "      <td id=\"T_3fbc6_row6_col8\" class=\"data row6 col8\" >8817329.000000</td>\n",
       "      <td id=\"T_3fbc6_row6_col9\" class=\"data row6 col9\" >430425.750000</td>\n",
       "      <td id=\"T_3fbc6_row6_col10\" class=\"data row6 col10\" >238.933250</td>\n",
       "      <td id=\"T_3fbc6_row6_col11\" class=\"data row6 col11\" >1.016950</td>\n",
       "      <td id=\"T_3fbc6_row6_col12\" class=\"data row6 col12\" >0.280000</td>\n",
       "    </tr>\n",
       "    <tr>\n",
       "      <th id=\"T_3fbc6_level0_row7\" class=\"row_heading level0 row7\" >max</th>\n",
       "      <td id=\"T_3fbc6_row7_col0\" class=\"data row7 col0\" >234.000000</td>\n",
       "      <td id=\"T_3fbc6_row7_col1\" class=\"data row7 col1\" >1425887337.000000</td>\n",
       "      <td id=\"T_3fbc6_row7_col2\" class=\"data row7 col2\" >1424929781.000000</td>\n",
       "      <td id=\"T_3fbc6_row7_col3\" class=\"data row7 col3\" >1393715448.000000</td>\n",
       "      <td id=\"T_3fbc6_row7_col4\" class=\"data row7 col4\" >1348191368.000000</td>\n",
       "      <td id=\"T_3fbc6_row7_col5\" class=\"data row7 col5\" >1264099069.000000</td>\n",
       "      <td id=\"T_3fbc6_row7_col6\" class=\"data row7 col6\" >1153704252.000000</td>\n",
       "      <td id=\"T_3fbc6_row7_col7\" class=\"data row7 col7\" >982372466.000000</td>\n",
       "      <td id=\"T_3fbc6_row7_col8\" class=\"data row7 col8\" >822534450.000000</td>\n",
       "      <td id=\"T_3fbc6_row7_col9\" class=\"data row7 col9\" >17098242.000000</td>\n",
       "      <td id=\"T_3fbc6_row7_col10\" class=\"data row7 col10\" >23172.266700</td>\n",
       "      <td id=\"T_3fbc6_row7_col11\" class=\"data row7 col11\" >1.069100</td>\n",
       "      <td id=\"T_3fbc6_row7_col12\" class=\"data row7 col12\" >17.880000</td>\n",
       "    </tr>\n",
       "  </tbody>\n",
       "</table>\n"
      ],
      "text/plain": [
       "<pandas.io.formats.style.Styler at 0x1b44f57fac0>"
      ]
     },
     "execution_count": 90,
     "metadata": {},
     "output_type": "execute_result"
    }
   ],
   "source": [
    "df.describe().style.set_properties(**{\"background-color\": \"#417885\", \"color\": \"white\", \"border\": \"1.5px solid black\"})"
   ]
  },
  {
   "cell_type": "markdown",
   "id": "8f1f45d5",
   "metadata": {},
   "source": [
    "### Data Types"
   ]
  },
  {
   "cell_type": "code",
   "execution_count": 91,
   "id": "27ab4ba4",
   "metadata": {},
   "outputs": [
    {
     "name": "stdout",
     "output_type": "stream",
     "text": [
      "<class 'pandas.core.frame.DataFrame'>\n",
      "RangeIndex: 234 entries, 0 to 233\n",
      "Data columns (total 17 columns):\n",
      " #   Column                       Non-Null Count  Dtype  \n",
      "---  ------                       --------------  -----  \n",
      " 0   Rank                         234 non-null    int64  \n",
      " 1   CCA3                         234 non-null    object \n",
      " 2   Country/Territory            234 non-null    object \n",
      " 3   Capital                      234 non-null    object \n",
      " 4   Continent                    234 non-null    object \n",
      " 5   2022 Population              234 non-null    int64  \n",
      " 6   2020 Population              234 non-null    int64  \n",
      " 7   2015 Population              234 non-null    int64  \n",
      " 8   2010 Population              234 non-null    int64  \n",
      " 9   2000 Population              234 non-null    int64  \n",
      " 10  1990 Population              234 non-null    int64  \n",
      " 11  1980 Population              234 non-null    int64  \n",
      " 12  1970 Population              234 non-null    int64  \n",
      " 13  Area (km²)                   234 non-null    int64  \n",
      " 14  Density (per km²)            234 non-null    float64\n",
      " 15  Growth Rate                  234 non-null    float64\n",
      " 16  World Population Percentage  234 non-null    float64\n",
      "dtypes: float64(3), int64(10), object(4)\n",
      "memory usage: 31.2+ KB\n"
     ]
    }
   ],
   "source": [
    "# information about the dataset\n",
    "df.info()\n"
   ]
  },
  {
   "cell_type": "markdown",
   "id": "549d3703",
   "metadata": {},
   "source": [
    "### Checking the Missing Value"
   ]
  },
  {
   "cell_type": "code",
   "execution_count": 92,
   "id": "d853c1e9",
   "metadata": {},
   "outputs": [
    {
     "data": {
      "text/html": [
       "<style type=\"text/css\">\n",
       "#T_38c36_row0_col0, #T_38c36_row0_col1, #T_38c36_row0_col2, #T_38c36_row0_col3, #T_38c36_row0_col4, #T_38c36_row0_col5, #T_38c36_row0_col6, #T_38c36_row0_col7, #T_38c36_row0_col8, #T_38c36_row0_col9, #T_38c36_row0_col10, #T_38c36_row0_col11, #T_38c36_row0_col12, #T_38c36_row0_col13, #T_38c36_row0_col14, #T_38c36_row0_col15, #T_38c36_row0_col16 {\n",
       "  background-color: #417885;\n",
       "  color: white;\n",
       "  border: 1.5px  solid black;\n",
       "}\n",
       "</style>\n",
       "<table id=\"T_38c36_\">\n",
       "  <thead>\n",
       "    <tr>\n",
       "      <th class=\"blank level0\" >&nbsp;</th>\n",
       "      <th class=\"col_heading level0 col0\" >Rank</th>\n",
       "      <th class=\"col_heading level0 col1\" >CCA3</th>\n",
       "      <th class=\"col_heading level0 col2\" >Country/Territory</th>\n",
       "      <th class=\"col_heading level0 col3\" >Capital</th>\n",
       "      <th class=\"col_heading level0 col4\" >Continent</th>\n",
       "      <th class=\"col_heading level0 col5\" >2022 Population</th>\n",
       "      <th class=\"col_heading level0 col6\" >2020 Population</th>\n",
       "      <th class=\"col_heading level0 col7\" >2015 Population</th>\n",
       "      <th class=\"col_heading level0 col8\" >2010 Population</th>\n",
       "      <th class=\"col_heading level0 col9\" >2000 Population</th>\n",
       "      <th class=\"col_heading level0 col10\" >1990 Population</th>\n",
       "      <th class=\"col_heading level0 col11\" >1980 Population</th>\n",
       "      <th class=\"col_heading level0 col12\" >1970 Population</th>\n",
       "      <th class=\"col_heading level0 col13\" >Area (km²)</th>\n",
       "      <th class=\"col_heading level0 col14\" >Density (per km²)</th>\n",
       "      <th class=\"col_heading level0 col15\" >Growth Rate</th>\n",
       "      <th class=\"col_heading level0 col16\" >World Population Percentage</th>\n",
       "    </tr>\n",
       "  </thead>\n",
       "  <tbody>\n",
       "    <tr>\n",
       "      <th id=\"T_38c36_level0_row0\" class=\"row_heading level0 row0\" >0</th>\n",
       "      <td id=\"T_38c36_row0_col0\" class=\"data row0 col0\" >0</td>\n",
       "      <td id=\"T_38c36_row0_col1\" class=\"data row0 col1\" >0</td>\n",
       "      <td id=\"T_38c36_row0_col2\" class=\"data row0 col2\" >0</td>\n",
       "      <td id=\"T_38c36_row0_col3\" class=\"data row0 col3\" >0</td>\n",
       "      <td id=\"T_38c36_row0_col4\" class=\"data row0 col4\" >0</td>\n",
       "      <td id=\"T_38c36_row0_col5\" class=\"data row0 col5\" >0</td>\n",
       "      <td id=\"T_38c36_row0_col6\" class=\"data row0 col6\" >0</td>\n",
       "      <td id=\"T_38c36_row0_col7\" class=\"data row0 col7\" >0</td>\n",
       "      <td id=\"T_38c36_row0_col8\" class=\"data row0 col8\" >0</td>\n",
       "      <td id=\"T_38c36_row0_col9\" class=\"data row0 col9\" >0</td>\n",
       "      <td id=\"T_38c36_row0_col10\" class=\"data row0 col10\" >0</td>\n",
       "      <td id=\"T_38c36_row0_col11\" class=\"data row0 col11\" >0</td>\n",
       "      <td id=\"T_38c36_row0_col12\" class=\"data row0 col12\" >0</td>\n",
       "      <td id=\"T_38c36_row0_col13\" class=\"data row0 col13\" >0</td>\n",
       "      <td id=\"T_38c36_row0_col14\" class=\"data row0 col14\" >0</td>\n",
       "      <td id=\"T_38c36_row0_col15\" class=\"data row0 col15\" >0</td>\n",
       "      <td id=\"T_38c36_row0_col16\" class=\"data row0 col16\" >0</td>\n",
       "    </tr>\n",
       "  </tbody>\n",
       "</table>\n"
      ],
      "text/plain": [
       "<pandas.io.formats.style.Styler at 0x1b44f52e790>"
      ]
     },
     "execution_count": 92,
     "metadata": {},
     "output_type": "execute_result"
    }
   ],
   "source": [
    "# Checking if there any Null value present in the dataset\n",
    "df.isnull().sum().to_frame().T.style.set_properties(**{\"background-color\": \"#417885\",\"color\":\"white\",\"border\": \"1.5px  solid black\"})"
   ]
  },
  {
   "cell_type": "markdown",
   "id": "889d92d2",
   "metadata": {},
   "source": [
    "# 4. Dataset Summary"
   ]
  },
  {
   "cell_type": "markdown",
   "id": "02769f3e",
   "metadata": {},
   "source": [
    "### Duplicate Value"
   ]
  },
  {
   "cell_type": "code",
   "execution_count": 93,
   "id": "da042b5b",
   "metadata": {},
   "outputs": [
    {
     "name": "stdout",
     "output_type": "stream",
     "text": [
      "There is 0 duplicate value.\n"
     ]
    }
   ],
   "source": [
    "# Checking if there any duplicate value present in the dataset\n",
    "print(f'There is {df.duplicated().sum()} duplicate value.')"
   ]
  },
  {
   "cell_type": "markdown",
   "id": "19a20638",
   "metadata": {},
   "source": [
    "### Unique Value"
   ]
  },
  {
   "cell_type": "code",
   "execution_count": 94,
   "id": "53b83c1c",
   "metadata": {},
   "outputs": [
    {
     "data": {
      "text/html": [
       "<style type=\"text/css\">\n",
       "#T_204e6_row0_col0, #T_204e6_row0_col1, #T_204e6_row0_col2, #T_204e6_row0_col3, #T_204e6_row0_col4, #T_204e6_row0_col5, #T_204e6_row0_col6, #T_204e6_row0_col7, #T_204e6_row0_col8, #T_204e6_row0_col9, #T_204e6_row0_col10, #T_204e6_row0_col11, #T_204e6_row0_col12, #T_204e6_row0_col13, #T_204e6_row0_col14, #T_204e6_row0_col15, #T_204e6_row0_col16 {\n",
       "  background-color: #417885;\n",
       "  color: white;\n",
       "  border: 1.5px solid black;\n",
       "}\n",
       "</style>\n",
       "<table id=\"T_204e6_\">\n",
       "  <thead>\n",
       "    <tr>\n",
       "      <th class=\"blank level0\" >&nbsp;</th>\n",
       "      <th class=\"col_heading level0 col0\" >Rank</th>\n",
       "      <th class=\"col_heading level0 col1\" >CCA3</th>\n",
       "      <th class=\"col_heading level0 col2\" >Country/Territory</th>\n",
       "      <th class=\"col_heading level0 col3\" >Capital</th>\n",
       "      <th class=\"col_heading level0 col4\" >Continent</th>\n",
       "      <th class=\"col_heading level0 col5\" >2022 Population</th>\n",
       "      <th class=\"col_heading level0 col6\" >2020 Population</th>\n",
       "      <th class=\"col_heading level0 col7\" >2015 Population</th>\n",
       "      <th class=\"col_heading level0 col8\" >2010 Population</th>\n",
       "      <th class=\"col_heading level0 col9\" >2000 Population</th>\n",
       "      <th class=\"col_heading level0 col10\" >1990 Population</th>\n",
       "      <th class=\"col_heading level0 col11\" >1980 Population</th>\n",
       "      <th class=\"col_heading level0 col12\" >1970 Population</th>\n",
       "      <th class=\"col_heading level0 col13\" >Area (km²)</th>\n",
       "      <th class=\"col_heading level0 col14\" >Density (per km²)</th>\n",
       "      <th class=\"col_heading level0 col15\" >Growth Rate</th>\n",
       "      <th class=\"col_heading level0 col16\" >World Population Percentage</th>\n",
       "    </tr>\n",
       "  </thead>\n",
       "  <tbody>\n",
       "    <tr>\n",
       "      <th id=\"T_204e6_level0_row0\" class=\"row_heading level0 row0\" >0</th>\n",
       "      <td id=\"T_204e6_row0_col0\" class=\"data row0 col0\" >234</td>\n",
       "      <td id=\"T_204e6_row0_col1\" class=\"data row0 col1\" >234</td>\n",
       "      <td id=\"T_204e6_row0_col2\" class=\"data row0 col2\" >234</td>\n",
       "      <td id=\"T_204e6_row0_col3\" class=\"data row0 col3\" >234</td>\n",
       "      <td id=\"T_204e6_row0_col4\" class=\"data row0 col4\" >6</td>\n",
       "      <td id=\"T_204e6_row0_col5\" class=\"data row0 col5\" >234</td>\n",
       "      <td id=\"T_204e6_row0_col6\" class=\"data row0 col6\" >234</td>\n",
       "      <td id=\"T_204e6_row0_col7\" class=\"data row0 col7\" >234</td>\n",
       "      <td id=\"T_204e6_row0_col8\" class=\"data row0 col8\" >234</td>\n",
       "      <td id=\"T_204e6_row0_col9\" class=\"data row0 col9\" >234</td>\n",
       "      <td id=\"T_204e6_row0_col10\" class=\"data row0 col10\" >234</td>\n",
       "      <td id=\"T_204e6_row0_col11\" class=\"data row0 col11\" >234</td>\n",
       "      <td id=\"T_204e6_row0_col12\" class=\"data row0 col12\" >234</td>\n",
       "      <td id=\"T_204e6_row0_col13\" class=\"data row0 col13\" >233</td>\n",
       "      <td id=\"T_204e6_row0_col14\" class=\"data row0 col14\" >234</td>\n",
       "      <td id=\"T_204e6_row0_col15\" class=\"data row0 col15\" >180</td>\n",
       "      <td id=\"T_204e6_row0_col16\" class=\"data row0 col16\" >70</td>\n",
       "    </tr>\n",
       "  </tbody>\n",
       "</table>\n"
      ],
      "text/plain": [
       "<pandas.io.formats.style.Styler at 0x1b44f518cd0>"
      ]
     },
     "execution_count": 94,
     "metadata": {},
     "output_type": "execute_result"
    }
   ],
   "source": [
    "# Checking the number of unique values\n",
    "df.nunique().to_frame().T.style.set_properties(**{\"background-color\": \"#417885\", \"color\": \"white\", \"border\": \"1.5px solid black\"})"
   ]
  },
  {
   "cell_type": "markdown",
   "id": "a817fa18",
   "metadata": {},
   "source": [
    "### Data Types of the Features"
   ]
  },
  {
   "cell_type": "code",
   "execution_count": 95,
   "id": "df9b302e",
   "metadata": {},
   "outputs": [
    {
     "data": {
      "text/html": [
       "<style type=\"text/css\">\n",
       "#T_87673_row0_col0, #T_87673_row0_col1, #T_87673_row0_col2, #T_87673_row0_col3, #T_87673_row0_col4, #T_87673_row0_col5, #T_87673_row0_col6, #T_87673_row0_col7, #T_87673_row0_col8, #T_87673_row0_col9, #T_87673_row0_col10, #T_87673_row0_col11, #T_87673_row0_col12, #T_87673_row0_col13, #T_87673_row0_col14, #T_87673_row0_col15, #T_87673_row0_col16 {\n",
       "  background-color: #417894;\n",
       "  color: white;\n",
       "  border: 1.5px  solid black;\n",
       "}\n",
       "</style>\n",
       "<table id=\"T_87673_\">\n",
       "  <thead>\n",
       "    <tr>\n",
       "      <th class=\"blank level0\" >&nbsp;</th>\n",
       "      <th class=\"col_heading level0 col0\" >Rank</th>\n",
       "      <th class=\"col_heading level0 col1\" >CCA3</th>\n",
       "      <th class=\"col_heading level0 col2\" >Country/Territory</th>\n",
       "      <th class=\"col_heading level0 col3\" >Capital</th>\n",
       "      <th class=\"col_heading level0 col4\" >Continent</th>\n",
       "      <th class=\"col_heading level0 col5\" >2022 Population</th>\n",
       "      <th class=\"col_heading level0 col6\" >2020 Population</th>\n",
       "      <th class=\"col_heading level0 col7\" >2015 Population</th>\n",
       "      <th class=\"col_heading level0 col8\" >2010 Population</th>\n",
       "      <th class=\"col_heading level0 col9\" >2000 Population</th>\n",
       "      <th class=\"col_heading level0 col10\" >1990 Population</th>\n",
       "      <th class=\"col_heading level0 col11\" >1980 Population</th>\n",
       "      <th class=\"col_heading level0 col12\" >1970 Population</th>\n",
       "      <th class=\"col_heading level0 col13\" >Area (km²)</th>\n",
       "      <th class=\"col_heading level0 col14\" >Density (per km²)</th>\n",
       "      <th class=\"col_heading level0 col15\" >Growth Rate</th>\n",
       "      <th class=\"col_heading level0 col16\" >World Population Percentage</th>\n",
       "    </tr>\n",
       "  </thead>\n",
       "  <tbody>\n",
       "    <tr>\n",
       "      <th id=\"T_87673_level0_row0\" class=\"row_heading level0 row0\" >0</th>\n",
       "      <td id=\"T_87673_row0_col0\" class=\"data row0 col0\" >int64</td>\n",
       "      <td id=\"T_87673_row0_col1\" class=\"data row0 col1\" >object</td>\n",
       "      <td id=\"T_87673_row0_col2\" class=\"data row0 col2\" >object</td>\n",
       "      <td id=\"T_87673_row0_col3\" class=\"data row0 col3\" >object</td>\n",
       "      <td id=\"T_87673_row0_col4\" class=\"data row0 col4\" >object</td>\n",
       "      <td id=\"T_87673_row0_col5\" class=\"data row0 col5\" >int64</td>\n",
       "      <td id=\"T_87673_row0_col6\" class=\"data row0 col6\" >int64</td>\n",
       "      <td id=\"T_87673_row0_col7\" class=\"data row0 col7\" >int64</td>\n",
       "      <td id=\"T_87673_row0_col8\" class=\"data row0 col8\" >int64</td>\n",
       "      <td id=\"T_87673_row0_col9\" class=\"data row0 col9\" >int64</td>\n",
       "      <td id=\"T_87673_row0_col10\" class=\"data row0 col10\" >int64</td>\n",
       "      <td id=\"T_87673_row0_col11\" class=\"data row0 col11\" >int64</td>\n",
       "      <td id=\"T_87673_row0_col12\" class=\"data row0 col12\" >int64</td>\n",
       "      <td id=\"T_87673_row0_col13\" class=\"data row0 col13\" >int64</td>\n",
       "      <td id=\"T_87673_row0_col14\" class=\"data row0 col14\" >float64</td>\n",
       "      <td id=\"T_87673_row0_col15\" class=\"data row0 col15\" >float64</td>\n",
       "      <td id=\"T_87673_row0_col16\" class=\"data row0 col16\" >float64</td>\n",
       "    </tr>\n",
       "  </tbody>\n",
       "</table>\n"
      ],
      "text/plain": [
       "<pandas.io.formats.style.Styler at 0x1b454a16be0>"
      ]
     },
     "execution_count": 95,
     "metadata": {},
     "output_type": "execute_result"
    }
   ],
   "source": [
    "df.dtypes.to_frame().T.style.set_properties(**{\"background-color\": \"#417894\",\"color\":\"white\",\"border\": \"1.5px  solid black\"})"
   ]
  },
  {
   "cell_type": "code",
   "execution_count": 96,
   "id": "c19a4797",
   "metadata": {},
   "outputs": [
    {
     "data": {
      "text/html": [
       "<style type=\"text/css\">\n",
       "#T_57ed3_row0_col0, #T_57ed3_row0_col1, #T_57ed3_row0_col2, #T_57ed3_row0_col3, #T_57ed3_row1_col0, #T_57ed3_row1_col1, #T_57ed3_row1_col2, #T_57ed3_row1_col3, #T_57ed3_row2_col0, #T_57ed3_row2_col1, #T_57ed3_row2_col2, #T_57ed3_row2_col3, #T_57ed3_row3_col0, #T_57ed3_row3_col1, #T_57ed3_row3_col2, #T_57ed3_row3_col3 {\n",
       "  background-color: #417894;\n",
       "  color: white;\n",
       "  border: 1.5px  solid black;\n",
       "}\n",
       "</style>\n",
       "<table id=\"T_57ed3_\">\n",
       "  <thead>\n",
       "    <tr>\n",
       "      <th class=\"blank level0\" >&nbsp;</th>\n",
       "      <th class=\"col_heading level0 col0\" >count</th>\n",
       "      <th class=\"col_heading level0 col1\" >unique</th>\n",
       "      <th class=\"col_heading level0 col2\" >top</th>\n",
       "      <th class=\"col_heading level0 col3\" >freq</th>\n",
       "    </tr>\n",
       "  </thead>\n",
       "  <tbody>\n",
       "    <tr>\n",
       "      <th id=\"T_57ed3_level0_row0\" class=\"row_heading level0 row0\" >CCA3</th>\n",
       "      <td id=\"T_57ed3_row0_col0\" class=\"data row0 col0\" >234</td>\n",
       "      <td id=\"T_57ed3_row0_col1\" class=\"data row0 col1\" >234</td>\n",
       "      <td id=\"T_57ed3_row0_col2\" class=\"data row0 col2\" >AFG</td>\n",
       "      <td id=\"T_57ed3_row0_col3\" class=\"data row0 col3\" >1</td>\n",
       "    </tr>\n",
       "    <tr>\n",
       "      <th id=\"T_57ed3_level0_row1\" class=\"row_heading level0 row1\" >Country/Territory</th>\n",
       "      <td id=\"T_57ed3_row1_col0\" class=\"data row1 col0\" >234</td>\n",
       "      <td id=\"T_57ed3_row1_col1\" class=\"data row1 col1\" >234</td>\n",
       "      <td id=\"T_57ed3_row1_col2\" class=\"data row1 col2\" >Afghanistan</td>\n",
       "      <td id=\"T_57ed3_row1_col3\" class=\"data row1 col3\" >1</td>\n",
       "    </tr>\n",
       "    <tr>\n",
       "      <th id=\"T_57ed3_level0_row2\" class=\"row_heading level0 row2\" >Capital</th>\n",
       "      <td id=\"T_57ed3_row2_col0\" class=\"data row2 col0\" >234</td>\n",
       "      <td id=\"T_57ed3_row2_col1\" class=\"data row2 col1\" >234</td>\n",
       "      <td id=\"T_57ed3_row2_col2\" class=\"data row2 col2\" >Kabul</td>\n",
       "      <td id=\"T_57ed3_row2_col3\" class=\"data row2 col3\" >1</td>\n",
       "    </tr>\n",
       "    <tr>\n",
       "      <th id=\"T_57ed3_level0_row3\" class=\"row_heading level0 row3\" >Continent</th>\n",
       "      <td id=\"T_57ed3_row3_col0\" class=\"data row3 col0\" >234</td>\n",
       "      <td id=\"T_57ed3_row3_col1\" class=\"data row3 col1\" >6</td>\n",
       "      <td id=\"T_57ed3_row3_col2\" class=\"data row3 col2\" >Africa</td>\n",
       "      <td id=\"T_57ed3_row3_col3\" class=\"data row3 col3\" >57</td>\n",
       "    </tr>\n",
       "  </tbody>\n",
       "</table>\n"
      ],
      "text/plain": [
       "<pandas.io.formats.style.Styler at 0x1b44f6d5520>"
      ]
     },
     "execution_count": 96,
     "metadata": {},
     "output_type": "execute_result"
    }
   ],
   "source": [
    "# Summary statistics for categorical columns\n",
    "df.describe(include=\"object\").T.style.set_properties(**{\"background-color\": \"#417894\",\"color\":\"white\",\"border\": \"1.5px  solid black\"})"
   ]
  },
  {
   "cell_type": "markdown",
   "id": "a86b8246",
   "metadata": {},
   "source": [
    "# 5. Population Across Continent"
   ]
  },
  {
   "cell_type": "markdown",
   "id": "01893f71",
   "metadata": {},
   "source": [
    "### Distribution of Countries by Continent"
   ]
  },
  {
   "cell_type": "code",
   "execution_count": 97,
   "id": "f4e7eba4",
   "metadata": {},
   "outputs": [
    {
     "data": {
      "image/png": "[encoded data removed]",
      "text/plain": [
       "<Figure size 864x432 with 1 Axes>"
      ]
     },
     "metadata": {
      "needs_background": "light"
     },
     "output_type": "display_data"
    }
   ],
   "source": [
    "# Ensure column names are stripped of extra spaces and converted to lowercase\n",
    "df.columns = df.columns.str.strip().str.lower()\n",
    "\n",
    "# Check if 'continent' is in the DataFrame\n",
    "if 'continent' in df.columns:\n",
    "    # Set a color palette for the countplot\n",
    "    palette = \"mako\"\n",
    "\n",
    "    # Countplot of population distribution by continent\n",
    "    plt.figure(figsize=(12, 6))\n",
    "    ax = sns.countplot(x='continent', data=df, order=df['continent'].value_counts().index, palette=palette)\n",
    "\n",
    "    # Display values on top of the bars\n",
    "    for p in ax.patches:\n",
    "        ax.annotate(f'{p.get_height()}', (p.get_x() + p.get_width() / 2., p.get_height()), \n",
    "                    ha='center', va='center', xytext=(0, 10), textcoords='offset points')\n",
    "\n",
    "    # Title and labels\n",
    "    plt.title('Distribution of Countries by Continent', fontsize=16)\n",
    "    plt.xlabel('Continent', fontsize=14)\n",
    "    plt.ylabel('Count', fontsize=14)\n",
    "\n",
    "    # Rotate x-axis labels for better readability\n",
    "    plt.xticks(rotation=45, ha=\"right\")\n",
    "\n",
    "    # Remove grid lines\n",
    "    ax.yaxis.grid(False)\n",
    "\n",
    "    # Show the plot\n",
    "    plt.show()\n",
    "else:\n",
    "    print(\"Column 'continent' not found in the DataFrame.\")\n"
   ]
  },
  {
   "cell_type": "markdown",
   "id": "b1ee34e3",
   "metadata": {},
   "source": [
    "### Continent-wise Population"
   ]
  },
  {
   "cell_type": "code",
   "execution_count": 98,
   "id": "386261d5",
   "metadata": {},
   "outputs": [
    {
     "data": {
      "image/png": "[encoded data removed]",
      "text/plain": [
       "<Figure size 864x576 with 1 Axes>"
      ]
     },
     "metadata": {
      "needs_background": "light"
     },
     "output_type": "display_data"
    }
   ],
   "source": [
    "# Calculate total population for each continent\n",
    "continent_population = df.groupby('continent')['2022 population'].sum() / 1e6\n",
    "\n",
    "# Sort the continents by population\n",
    "sorted_continents = continent_population.sort_values(ascending=False).index\n",
    "\n",
    "# Set color palette for the bar plot\n",
    "palette = \"viridis\"\n",
    "\n",
    "# Create a vertical bar plot using seaborn\n",
    "plt.figure(figsize=(12, 8))\n",
    "ax = sns.barplot(x=sorted_continents, y=continent_population[sorted_continents], palette=palette)\n",
    "\n",
    "# Add values at the top of each bar\n",
    "for p in ax.patches:\n",
    "    ax.annotate(f'{int(p.get_height())}M', (p.get_x() + p.get_width() / 2., p.get_height()), ha='center', va='center', xytext=(0, 10), textcoords='offset points')\n",
    "\n",
    "# Title and labels\n",
    "plt.title('Continent-wise Population (in Millions)', fontsize=16)\n",
    "plt.xlabel('Continent', fontsize=14)\n",
    "plt.ylabel('Population (Millions)', fontsize=14)\n",
    "\n",
    "# Show the plot\n",
    "plt.show()"
   ]
  },
  {
   "cell_type": "markdown",
   "id": "87e458a8",
   "metadata": {},
   "source": [
    "### Continent-wise Population Distribution"
   ]
  },
  {
   "cell_type": "code",
   "execution_count": 99,
   "id": "256ec0ff",
   "metadata": {},
   "outputs": [
    {
     "data": {
      "image/png": "[encoded data removed]",
      "text/plain": [
       "<Figure size 720x576 with 1 Axes>"
      ]
     },
     "metadata": {},
     "output_type": "display_data"
    }
   ],
   "source": [
    "# Set a color palette for the pie chart\n",
    "colors = sns.color_palette('viridis')\n",
    "\n",
    "# Calculate total population for each continent\n",
    "continent_population = df.groupby('continent')['2022 population'].sum()\n",
    "\n",
    "# Create a full pie chart with the custom palette\n",
    "plt.figure(figsize=(10, 8))\n",
    "plt.pie(continent_population, labels=continent_population.index, autopct='%1.1f%%', colors=colors, startangle=90)\n",
    "\n",
    "# Title\n",
    "plt.title('Continent-wise Population Distribution', fontsize=16)\n",
    "\n",
    "# Show the plot\n",
    "plt.show()"
   ]
  },
  {
   "cell_type": "markdown",
   "id": "6cb629e1",
   "metadata": {},
   "source": [
    "# 6. Population Facts"
   ]
  },
  {
   "cell_type": "markdown",
   "id": "ece4105b",
   "metadata": {},
   "source": [
    "### Top 10 Most Populated Countries"
   ]
  },
  {
   "cell_type": "code",
   "execution_count": 100,
   "id": "c902d658",
   "metadata": {},
   "outputs": [
    {
     "data": {
      "image/png": "[encoded data removed]",
      "text/plain": [
       "<Figure size 864x432 with 1 Axes>"
      ]
     },
     "metadata": {
      "needs_background": "light"
     },
     "output_type": "display_data"
    }
   ],
   "source": [
    "# Convert population to millions\n",
    "df['2022 population (millions)'] = df['2022 population'] / 1e6\n",
    "\n",
    "# Sort the DataFrame by population in descending order\n",
    "df_sorted = df.sort_values(by='2022 population (millions)', ascending=False)\n",
    "\n",
    "# Take the top 10 populated countries\n",
    "top_10_countries = df_sorted.head(10)\n",
    "\n",
    "# Create a bar plot\n",
    "plt.figure(figsize=(12, 6))\n",
    "ax = sns.barplot(x='country/territory', y='2022 population (millions)', data=top_10_countries, palette='viridis')\n",
    "\n",
    "# Display values on top of the bars\n",
    "for p in ax.patches:\n",
    "    ax.annotate(f'{p.get_height():,.1f}M', (p.get_x() + p.get_width() / 2., p.get_height()), ha='center', va='center', xytext=(0, 10), textcoords='offset points')\n",
    "\n",
    "# Title and labels\n",
    "plt.title('Top 10 Most Populated Countries (2022)', fontsize=16)\n",
    "plt.xlabel('Country', fontsize=14)\n",
    "plt.ylabel('Population (Millions)', fontsize=14)\n",
    "\n",
    "# Rotate x-axis labels for better readability\n",
    "plt.xticks(rotation=45, ha=\"right\")\n",
    "\n",
    "# Remove grid lines\n",
    "ax.yaxis.grid(False)\n",
    "\n",
    "# Show the plot\n",
    "plt.show()"
   ]
  },
  {
   "cell_type": "markdown",
   "id": "fd2d891e",
   "metadata": {},
   "source": [
    "### Top 10 Least Populated Countries"
   ]
  },
  {
   "cell_type": "code",
   "execution_count": 101,
   "id": "7d9d979a",
   "metadata": {},
   "outputs": [
    {
     "data": {
      "image/png": "[encoded data removed]",
      "text/plain": [
       "<Figure size 864x432 with 1 Axes>"
      ]
     },
     "metadata": {
      "needs_background": "light"
     },
     "output_type": "display_data"
    }
   ],
   "source": [
    "# Sort the DataFrame by population in ascending order\n",
    "df_sorted = df.sort_values(by='2022 population')\n",
    "\n",
    "# Take the bottom 10 populated countries (least populated)\n",
    "bottom_10_countries = df_sorted.head(10)\n",
    "\n",
    "# Create a bar plot\n",
    "plt.figure(figsize=(12, 6))\n",
    "ax = sns.barplot(x='country/territory', y='2022 population', data=bottom_10_countries, palette='mako')\n",
    "\n",
    "# Display values at the top of the bars\n",
    "for p in ax.patches:\n",
    "    ax.annotate(f'{p.get_height():,.0f}', (p.get_x() + p.get_width() / 2., p.get_height()), ha='center', va='center', xytext=(0, 10), textcoords='offset points')\n",
    "\n",
    "# Title and labels\n",
    "plt.title('Top 10 Least Populated Countries (2022)', fontsize=16)\n",
    "plt.xlabel('country/territory', fontsize=14)\n",
    "plt.ylabel('Population', fontsize=14)\n",
    "\n",
    "# Rotate x-axis labels for better readability\n",
    "plt.xticks(rotation=45, ha=\"right\")\n",
    "\n",
    "# Remove grid lines\n",
    "ax.yaxis.grid(False)\n",
    "\n",
    "# Show the plot\n",
    "plt.show()"
   ]
  },
  {
   "cell_type": "markdown",
   "id": "5a48273e",
   "metadata": {},
   "source": [
    "### Top 10 Countries in Asia"
   ]
  },
  {
   "cell_type": "code",
   "execution_count": 102,
   "id": "177bf477",
   "metadata": {},
   "outputs": [
    {
     "data": {
      "image/png": "[encoded data removed]",
      "text/plain": [
       "<Figure size 1152x432 with 1 Axes>"
      ]
     },
     "metadata": {
      "needs_background": "light"
     },
     "output_type": "display_data"
    }
   ],
   "source": [
    "# Filter data for Asia and sort by population in 2022\n",
    "asia_population_2023 = df[df['continent'] == 'Asia'].sort_values(by='2022 population', ascending=False).head(10)\n",
    "\n",
    "# Vertical bar plot for top 10 countries in Asia by population in 2022\n",
    "plt.figure(figsize=(16, 6))\n",
    "ax = sns.barplot(x='country/territory', y='2022 population', data=asia_population_2023, palette='viridis')\n",
    "\n",
    "# Add population values at the top of each bar in millions\n",
    "for p in ax.patches:\n",
    "    ax.annotate(f'{p.get_height() / 1e6:.2f}M', (p.get_x() + p.get_width() / 2, p.get_height()),\n",
    "                ha='center', va='bottom', fontsize=12, color='black')\n",
    "\n",
    "# Title and labels\n",
    "plt.title('Top 10 Countries in Asia by Population (2022)', fontsize=16)\n",
    "plt.xlabel('country/territory', fontsize=14)\n",
    "plt.ylabel('Population in 2022', fontsize=14)\n",
    "\n",
    "# Remove grid lines\n",
    "ax.yaxis.grid(False)\n",
    "\n",
    "plt.show()"
   ]
  },
  {
   "cell_type": "markdown",
   "id": "ad481f10",
   "metadata": {},
   "source": [
    "### Top 10 Countries in Africa"
   ]
  },
  {
   "cell_type": "code",
   "execution_count": 103,
   "id": "f282170d",
   "metadata": {},
   "outputs": [
    {
     "data": {
      "image/png": "[encoded data removed]",
      "text/plain": [
       "<Figure size 1152x432 with 1 Axes>"
      ]
     },
     "metadata": {
      "needs_background": "light"
     },
     "output_type": "display_data"
    }
   ],
   "source": [
    "# Filter data for Africa and sort by population in 2022\n",
    "africa_population_2023 = df[df['continent'] == 'Africa'].sort_values(by='2022 population', ascending=False).head(10)\n",
    "\n",
    "# Vertical bar plot for top 10 countries in Africa by population in 2022\n",
    "plt.figure(figsize=(16, 6))\n",
    "ax = sns.barplot(x='country/territory', y='2022 population', data=africa_population_2023, palette='mako')\n",
    "\n",
    "# Add population values at the top of each bar in millions\n",
    "for p in ax.patches:\n",
    "    ax.annotate(f'{p.get_height() / 1e6:.2f}M', (p.get_x() + p.get_width() / 2, p.get_height()),\n",
    "                ha='center', va='bottom', fontsize=12, color='black')\n",
    "\n",
    "# Title and labels\n",
    "plt.title('Top 10 Countries in Africa by Population (2022)', fontsize=16)\n",
    "plt.xlabel('Country/territory', fontsize=14)\n",
    "plt.ylabel('Population in 2022', fontsize=14)\n",
    "\n",
    "# Remove grid lines\n",
    "ax.yaxis.grid(False)\n",
    "\n",
    "plt.show()"
   ]
  },
  {
   "cell_type": "markdown",
   "id": "0d318871",
   "metadata": {},
   "source": [
    "### Top 10 Countries in Europe"
   ]
  },
  {
   "cell_type": "code",
   "execution_count": 104,
   "id": "8581373c",
   "metadata": {},
   "outputs": [
    {
     "data": {
      "image/png": "[encoded data removed]",
      "text/plain": [
       "<Figure size 1152x432 with 1 Axes>"
      ]
     },
     "metadata": {
      "needs_background": "light"
     },
     "output_type": "display_data"
    }
   ],
   "source": [
    "# Filter data for Europe and sort by population in 2022\n",
    "europe_population_2022 = df[df['continent'] == 'Europe'].sort_values(by='2022 population', ascending=False).head(10)\n",
    "\n",
    "# Vertical bar plot for top 10 countries in Europe by population in 2022\n",
    "plt.figure(figsize=(16, 6))\n",
    "ax = sns.barplot(x='country/territory', y='2022 population', data=europe_population_2022, palette='viridis')\n",
    "\n",
    "# Add population values at the top of each bar in millions\n",
    "for p in ax.patches:\n",
    "    ax.annotate(f'{p.get_height() / 1e6:.2f}M', (p.get_x() + p.get_width() / 2, p.get_height()),\n",
    "                ha='center', va='bottom', fontsize=12, color='black')\n",
    "\n",
    "# Title and labels\n",
    "plt.title('Top 10 Countries in Europe by Population (2023)', fontsize=16)\n",
    "plt.xlabel('Country/territory', fontsize=14)\n",
    "plt.ylabel('Population in 2022', fontsize=14)\n",
    "\n",
    "# Remove grid lines\n",
    "ax.yaxis.grid(False)\n",
    "\n",
    "plt.show()"
   ]
  },
  {
   "cell_type": "markdown",
   "id": "f2656e5b",
   "metadata": {},
   "source": [
    "### Top 10 Countries in North America"
   ]
  },
  {
   "cell_type": "code",
   "execution_count": 105,
   "id": "884acbb8",
   "metadata": {},
   "outputs": [
    {
     "data": {
      "image/png": "[encoded data removed]",
      "text/plain": [
       "<Figure size 1152x432 with 1 Axes>"
      ]
     },
     "metadata": {
      "needs_background": "light"
     },
     "output_type": "display_data"
    }
   ],
   "source": [
    "# Filter data for North America and sort by population in 2022\n",
    "namerica_population_2022 = df[df['continent'] == 'North America'].sort_values(by='2022 population', ascending=False).head(10)\n",
    "\n",
    "# Vertical bar plot for top 10 countries in North America by population in 2022\n",
    "plt.figure(figsize=(16, 6))\n",
    "ax = sns.barplot(x='country/territory', y='2022 population', data=namerica_population_2022, palette='mako')\n",
    "\n",
    "# Add population values at the top of each bar in millions\n",
    "for p in ax.patches:\n",
    "    ax.annotate(f'{p.get_height() / 1e6:.2f}M', (p.get_x() + p.get_width() / 2, p.get_height()),\n",
    "                ha='center', va='bottom', fontsize=12, color='black')\n",
    "\n",
    "# Title and labels\n",
    "plt.title('Top 10 Countries in North America by Population (2023)', fontsize=16)\n",
    "plt.xlabel('Country/territory', fontsize=14)\n",
    "plt.ylabel('Population in 2022', fontsize=14)\n",
    "\n",
    "# Remove grid lines\n",
    "ax.yaxis.grid(False)\n",
    "\n",
    "plt.show()"
   ]
  },
  {
   "cell_type": "markdown",
   "id": "8c44ad80",
   "metadata": {},
   "source": [
    "### Top 10 Countries in Souh America"
   ]
  },
  {
   "cell_type": "code",
   "execution_count": 106,
   "id": "0fb90dcc",
   "metadata": {},
   "outputs": [
    {
     "data": {
      "image/png": "[encoded data removed]",
      "text/plain": [
       "<Figure size 1152x432 with 1 Axes>"
      ]
     },
     "metadata": {
      "needs_background": "light"
     },
     "output_type": "display_data"
    }
   ],
   "source": [
    "# Filter data for South America and sort by population in 2022\n",
    "south_america_population_2023 = df[df['continent'] == 'South America'].sort_values(by='2022 population', ascending=False).head(10)\n",
    "\n",
    "# Vertical bar plot for top 10 countries in South America by population in 2022\n",
    "plt.figure(figsize=(16, 6))\n",
    "ax = sns.barplot(x='country/territory', y='2022 population', data=south_america_population_2023, palette='viridis')\n",
    "\n",
    "# Add population values at the top of each bar in millions\n",
    "for p in ax.patches:\n",
    "    ax.annotate(f'{p.get_height() / 1e6:.2f}M', (p.get_x() + p.get_width() / 2, p.get_height()),\n",
    "                ha='center', va='bottom', fontsize=12, color='black')\n",
    "\n",
    "# Title and labels\n",
    "plt.title('Top 10 Countries in South America by Population (2022)', fontsize=16)\n",
    "plt.xlabel('Country', fontsize=14)\n",
    "plt.ylabel('Population in 2022', fontsize=14)\n",
    "\n",
    "# Remove grid lines\n",
    "ax.yaxis.grid(False)\n",
    "\n",
    "plt.show()"
   ]
  },
  {
   "cell_type": "markdown",
   "id": "c6d8c500",
   "metadata": {},
   "source": [
    "### Top 10 Countries in Ocenia"
   ]
  },
  {
   "cell_type": "code",
   "execution_count": 107,
   "id": "b60592ac",
   "metadata": {},
   "outputs": [
    {
     "data": {
      "image/png": "[encoded data removed]",
      "text/plain": [
       "<Figure size 1152x432 with 1 Axes>"
      ]
     },
     "metadata": {
      "needs_background": "light"
     },
     "output_type": "display_data"
    }
   ],
   "source": [
    "# Filter data for Oceania and sort by population in 2022\n",
    "oceania_population_2022 = df[df['continent'] == 'Oceania'].sort_values(by='2022 population', ascending=False).head(10)\n",
    "\n",
    "# Vertical bar plot for top 10 countries in Oceania by population in 2022\n",
    "plt.figure(figsize=(16, 6))\n",
    "ax = sns.barplot(x='country/territory', y='2022 population', data=oceania_population_2022, palette='mako')\n",
    "\n",
    "# Add population values at the top of each bar in millions\n",
    "for p in ax.patches:\n",
    "    ax.annotate(f'{p.get_height() / 1e6:.2f}M', (p.get_x() + p.get_width() / 2, p.get_height()),\n",
    "                ha='center', va='bottom', fontsize=12, color='black')\n",
    "\n",
    "# Title and labels\n",
    "plt.title('Top 10 Countries in Oceania by Population (2022)', fontsize=16)\n",
    "plt.xlabel('Country/territory', fontsize=14)\n",
    "plt.ylabel('Population in 2022', fontsize=14)\n",
    "\n",
    "# Remove grid lines\n",
    "ax.yaxis.grid(False)\n",
    "\n",
    "plt.show()"
   ]
  },
  {
   "cell_type": "markdown",
   "id": "61cebcf1",
   "metadata": {},
   "source": [
    "# 7. World Population"
   ]
  },
  {
   "cell_type": "markdown",
   "id": "d4f5efef",
   "metadata": {},
   "source": [
    "### Geographical Analysis of Population"
   ]
  },
  {
   "cell_type": "code",
   "execution_count": 108,
   "id": "fe708d71",
   "metadata": {
    "scrolled": true
   },
   "outputs": [
    {
     "data": {
      "application/vnd.plotly.v1+json": {
       "config": {
        "plotlyServerURL": "https://plot.ly"
       },
       "data": [
        {
         "coloraxis": "coloraxis",
         "geo": "geo",
         "hovertemplate": "<b>%{hovertext}</b><br><br>cca3=%{location}<br>Population=%{z}<extra></extra>",
         "hovertext": [
          "Afghanistan",
          "Albania",
          "Algeria",
          "American Samoa",
          "Andorra",
          "Angola",
          "Anguilla",
          "Antigua and Barbuda",
          "Argentina",
          "Armenia",
          "Aruba",
          "Australia",
          "Austria",
          "Azerbaijan",
          "Bahamas",
          "Bahrain",
          "Bangladesh",
          "Barbados",
          "Belarus",
          "Belgium",
          "Belize",
          "Benin",
          "Bermuda",
          "Bhutan",
          "Bolivia",
          "Bosnia and Herzegovina",
          "Botswana",
          "Brazil",
          "British Virgin Islands",
          "Brunei",
          "Bulgaria",
          "Burkina Faso",
          "Burundi",
          "Cambodia",
          "Cameroon",
          "Canada",
          "Cape Verde",
          "Cayman Islands",
          "Central African Republic",
          "Chad",
          "Chile",
          "China",
          "Colombia",
          "Comoros",
          "Cook Islands",
          "Costa Rica",
          "Croatia",
          "Cuba",
          "Curacao",
          "Cyprus",
          "Czech Republic",
          "Denmark",
          "Djibouti",
          "Dominica",
          "Dominican Republic",
          "DR Congo",
          "Ecuador",
          "Egypt",
          "El Salvador",
          "Equatorial Guinea",
          "Eritrea",
          "Estonia",
          "Eswatini",
          "Ethiopia",
          "Falkland Islands",
          "Faroe Islands",
          "Fiji",
          "Finland",
          "France",
          "French Guiana",
          "French Polynesia",
          "Gabon",
          "Gambia",
          "Georgia",
          "Germany",
          "Ghana",
          "Gibraltar",
          "Greece",
          "Greenland",
          "Grenada",
          "Guadeloupe",
          "Guam",
          "Guatemala",
          "Guernsey",
          "Guinea",
          "Guinea-Bissau",
          "Guyana",
          "Haiti",
          "Honduras",
          "Hong Kong",
          "Hungary",
          "Iceland",
          "India",
          "Indonesia",
          "Iran",
          "Iraq",
          "Ireland",
          "Isle of Man",
          "Israel",
          "Italy",
          "Ivory Coast",
          "Jamaica",
          "Japan",
          "Jersey",
          "Jordan",
          "Kazakhstan",
          "Kenya",
          "Kiribati",
          "Kuwait",
          "Kyrgyzstan",
          "Laos",
          "Latvia",
          "Lebanon",
          "Lesotho",
          "Liberia",
          "Libya",
          "Liechtenstein",
          "Lithuania",
          "Luxembourg",
          "Macau",
          "Madagascar",
          "Malawi",
          "Malaysia",
          "Maldives",
          "Mali",
          "Malta",
          "Marshall Islands",
          "Martinique",
          "Mauritania",
          "Mauritius",
          "Mayotte",
          "Mexico",
          "Micronesia",
          "Moldova",
          "Monaco",
          "Mongolia",
          "Montenegro",
          "Montserrat",
          "Morocco",
          "Mozambique",
          "Myanmar",
          "Namibia",
          "Nauru",
          "Nepal",
          "Netherlands",
          "New Caledonia",
          "New Zealand",
          "Nicaragua",
          "Niger",
          "Nigeria",
          "Niue",
          "North Korea",
          "North Macedonia",
          "Northern Mariana Islands",
          "Norway",
          "Oman",
          "Pakistan",
          "Palau",
          "Palestine",
          "Panama",
          "Papua New Guinea",
          "Paraguay",
          "Peru",
          "Philippines",
          "Poland",
          "Portugal",
          "Puerto Rico",
          "Qatar",
          "Republic of the Congo",
          "Reunion",
          "Romania",
          "Russia",
          "Rwanda",
          "Saint Barthelemy",
          "Saint Kitts and Nevis",
          "Saint Lucia",
          "Saint Martin",
          "Saint Pierre and Miquelon",
          "Saint Vincent and the Grenadines",
          "Samoa",
          "San Marino",
          "Sao Tome and Principe",
          "Saudi Arabia",
          "Senegal",
          "Serbia",
          "Seychelles",
          "Sierra Leone",
          "Singapore",
          "Sint Maarten",
          "Slovakia",
          "Slovenia",
          "Solomon Islands",
          "Somalia",
          "South Africa",
          "South Korea",
          "South Sudan",
          "Spain",
          "Sri Lanka",
          "Sudan",
          "Suriname",
          "Sweden",
          "Switzerland",
          "Syria",
          "Taiwan",
          "Tajikistan",
          "Tanzania",
          "Thailand",
          "Timor-Leste",
          "Togo",
          "Tokelau",
          "Tonga",
          "Trinidad and Tobago",
          "Tunisia",
          "Turkey",
          "Turkmenistan",
          "Turks and Caicos Islands",
          "Tuvalu",
          "Uganda",
          "Ukraine",
          "United Arab Emirates",
          "United Kingdom",
          "United States",
          "United States Virgin Islands",
          "Uruguay",
          "Uzbekistan",
          "Vanuatu",
          "Vatican City",
          "Venezuela",
          "Vietnam",
          "Wallis and Futuna",
          "Western Sahara",
          "Yemen",
          "Zambia",
          "Zimbabwe"
         ],
         "locations": [
          "AFG",
          "ALB",
          "DZA",
          "ASM",
          "AND",
          "AGO",
          "AIA",
          "ATG",
          "ARG",
          "ARM",
          "ABW",
          "AUS",
          "AUT",
          "AZE",
          "BHS",
          "BHR",
          "BGD",
          "BRB",
          "BLR",
          "BEL",
          "BLZ",
          "BEN",
          "BMU",
          "BTN",
          "BOL",
          "BIH",
          "BWA",
          "BRA",
          "VGB",
          "BRN",
          "BGR",
          "BFA",
          "BDI",
          "KHM",
          "CMR",
          "CAN",
          "CPV",
          "CYM",
          "CAF",
          "TCD",
          "CHL",
          "CHN",
          "COL",
          "COM",
          "COK",
          "CRI",
          "HRV",
          "CUB",
          "CUW",
          "CYP",
          "CZE",
          "DNK",
          "DJI",
          "DMA",
          "DOM",
          "COD",
          "ECU",
          "EGY",
          "SLV",
          "GNQ",
          "ERI",
          "EST",
          "SWZ",
          "ETH",
          "FLK",
          "FRO",
          "FJI",
          "FIN",
          "FRA",
          "GUF",
          "PYF",
          "GAB",
          "GMB",
          "GEO",
          "DEU",
          "GHA",
          "GIB",
          "GRC",
          "GRL",
          "GRD",
          "GLP",
          "GUM",
          "GTM",
          "GGY",
          "GIN",
          "GNB",
          "GUY",
          "HTI",
          "HND",
          "HKG",
          "HUN",
          "ISL",
          "IND",
          "IDN",
          "IRN",
          "IRQ",
          "IRL",
          "IMN",
          "ISR",
          "ITA",
          "CIV",
          "JAM",
          "JPN",
          "JEY",
          "JOR",
          "KAZ",
          "KEN",
          "KIR",
          "KWT",
          "KGZ",
          "LAO",
          "LVA",
          "LBN",
          "LSO",
          "LBR",
          "LBY",
          "LIE",
          "LTU",
          "LUX",
          "MAC",
          "MDG",
          "MWI",
          "MYS",
          "MDV",
          "MLI",
          "MLT",
          "MHL",
          "MTQ",
          "MRT",
          "MUS",
          "MYT",
          "MEX",
          "FSM",
          "MDA",
          "MCO",
          "MNG",
          "MNE",
          "MSR",
          "MAR",
          "MOZ",
          "MMR",
          "NAM",
          "NRU",
          "NPL",
          "NLD",
          "NCL",
          "NZL",
          "NIC",
          "NER",
          "NGA",
          "NIU",
          "PRK",
          "MKD",
          "NFK",
          "NOR",
          "OMN",
          "PAK",
          "PLW",
          "PSE",
          "PAN",
          "PNG",
          "PRY",
          "PER",
          "PHL",
          "POL",
          "PRT",
          "PRI",
          "QAT",
          "COG",
          "REU",
          "ROU",
          "RUS",
          "RWA",
          "BLM",
          "KNA",
          "LCA",
          "MAF",
          "SPM",
          "VCT",
          "WSM",
          "SMR",
          "STP",
          "SAU",
          "SEN",
          "SRB",
          "SYC",
          "SLE",
          "SGP",
          "SXM",
          "SVK",
          "SVN",
          "SLB",
          "SOM",
          "ZAF",
          "KOR",
          "SSD",
          "ESP",
          "LKA",
          "SDN",
          "SUR",
          "SWE",
          "CHE",
          "SYR",
          "TWN",
          "TJK",
          "TZA",
          "THA",
          "TLS",
          "TGO",
          "TKL",
          "TON",
          "TTO",
          "TUN",
          "TUR",
          "TKM",
          "TCA",
          "TUV",
          "UGA",
          "UKR",
          "ARE",
          "GBR",
          "USA",
          "VIR",
          "URY",
          "UZB",
          "VUT",
          "VAT",
          "VEN",
          "VNM",
          "WLF",
          "ESH",
          "YEM",
          "ZMB",
          "ZWE"
         ],
         "name": "",
         "type": "choropleth",
         "z": [
          41128771,
          2842321,
          44903225,
          44273,
          79824,
          35588987,
          15857,
          93763,
          45510318,
          2780469,
          106445,
          26177413,
          8939617,
          10358074,
          409984,
          1472233,
          171186372,
          281635,
          9534954,
          11655930,
          405272,
          13352864,
          64184,
          782455,
          12224110,
          3233526,
          2630296,
          215313498,
          31305,
          449002,
          6781953,
          22673762,
          12889576,
          16767842,
          27914536,
          38454327,
          593149,
          68706,
          5579144,
          17723315,
          19603733,
          1425887337,
          51874024,
          836774,
          17011,
          5180829,
          4030358,
          11212191,
          191163,
          1251488,
          10493986,
          5882261,
          1120849,
          72737,
          11228821,
          99010212,
          18001000,
          110990103,
          6336392,
          1674908,
          3684032,
          1326062,
          1201670,
          123379924,
          3780,
          53090,
          929766,
          5540745,
          64626628,
          304557,
          306279,
          2388992,
          2705992,
          3744385,
          83369843,
          33475870,
          32649,
          10384971,
          56466,
          125438,
          395752,
          171774,
          17843908,
          63301,
          13859341,
          2105566,
          808726,
          11584996,
          10432860,
          7488865,
          9967308,
          372899,
          1417173173,
          275501339,
          88550570,
          44496122,
          5023109,
          84519,
          9038309,
          59037474,
          28160542,
          2827377,
          123951692,
          110778,
          11285869,
          19397998,
          54027487,
          131232,
          4268873,
          6630623,
          7529475,
          1850651,
          5489739,
          2305825,
          5302681,
          6812341,
          39327,
          2750055,
          647599,
          695168,
          29611714,
          20405317,
          33938221,
          523787,
          22593590,
          533286,
          41569,
          367507,
          4736139,
          1299469,
          326101,
          127504125,
          114164,
          3272996,
          36469,
          3398366,
          627082,
          4390,
          37457971,
          32969517,
          54179306,
          2567012,
          12668,
          30547580,
          17564014,
          289950,
          5185288,
          6948392,
          26207977,
          218541212,
          1934,
          26069416,
          2093599,
          49551,
          5434319,
          4576298,
          235824862,
          18055,
          5250072,
          4408581,
          10142619,
          6780744,
          34049588,
          115559009,
          39857145,
          10270865,
          3252407,
          2695122,
          5970424,
          974052,
          19659267,
          144713314,
          13776698,
          10967,
          47657,
          179857,
          31791,
          5862,
          103948,
          222382,
          33660,
          227380,
          36408820,
          17316449,
          7221365,
          107118,
          8605718,
          5975689,
          44175,
          5643453,
          2119844,
          724273,
          17597511,
          59893885,
          51815810,
          10913164,
          47558630,
          21832143,
          46874204,
          618040,
          10549347,
          8740472,
          22125249,
          23893394,
          9952787,
          65497748,
          71697030,
          1341296,
          8848699,
          1871,
          106858,
          1531044,
          12356117,
          85341241,
          6430770,
          45703,
          11312,
          47249585,
          39701739,
          9441129,
          67508936,
          338289857,
          99465,
          3422794,
          34627652,
          326740,
          510,
          28301696,
          98186856,
          11572,
          575986,
          33696614,
          20017675,
          16320537
         ]
        }
       ],
       "layout": {
        "coloraxis": {
         "colorbar": {
          "title": {
           "text": "Population"
          }
         },
         "colorscale": [
          [
           0,
           "rgb(255,255,217)"
          ],
          [
           0.125,
           "rgb(237,248,177)"
          ],
          [
           0.25,
           "rgb(199,233,180)"
          ],
          [
           0.375,
           "rgb(127,205,187)"
          ],
          [
           0.5,
           "rgb(65,182,196)"
          ],
          [
           0.625,
           "rgb(29,145,192)"
          ],
          [
           0.75,
           "rgb(34,94,168)"
          ],
          [
           0.875,
           "rgb(37,52,148)"
          ],
          [
           1,
           "rgb(8,29,88)"
          ]
         ]
        },
        "geo": {
         "center": {},
         "domain": {
          "x": [
           0,
           1
          ],
          "y": [
           0,
           1
          ]
         }
        },
        "height": 800,
        "legend": {
         "tracegroupgap": 0
        },
        "template": {
         "data": {
          "bar": [
           {
            "error_x": {
             "color": "#2a3f5f"
            },
            "error_y": {
             "color": "#2a3f5f"
            },
            "marker": {
             "line": {
              "color": "#E5ECF6",
              "width": 0.5
             },
             "pattern": {
              "fillmode": "overlay",
              "size": 10,
              "solidity": 0.2
             }
            },
            "type": "bar"
           }
          ],
          "barpolar": [
           {
            "marker": {
             "line": {
              "color": "#E5ECF6",
              "width": 0.5
             },
             "pattern": {
              "fillmode": "overlay",
              "size": 10,
              "solidity": 0.2
             }
            },
            "type": "barpolar"
           }
          ],
          "carpet": [
           {
            "aaxis": {
             "endlinecolor": "#2a3f5f",
             "gridcolor": "white",
             "linecolor": "white",
             "minorgridcolor": "white",
             "startlinecolor": "#2a3f5f"
            },
            "baxis": {
             "endlinecolor": "#2a3f5f",
             "gridcolor": "white",
             "linecolor": "white",
             "minorgridcolor": "white",
             "startlinecolor": "#2a3f5f"
            },
            "type": "carpet"
           }
          ],
          "choropleth": [
           {
            "colorbar": {
             "outlinewidth": 0,
             "ticks": ""
            },
            "type": "choropleth"
           }
          ],
          "contour": [
           {
            "colorbar": {
             "outlinewidth": 0,
             "ticks": ""
            },
            "colorscale": [
             [
              0,
              "#0d0887"
             ],
             [
              0.1111111111111111,
              "#46039f"
             ],
             [
              0.2222222222222222,
              "#7201a8"
             ],
             [
              0.3333333333333333,
              "#9c179e"
             ],
             [
              0.4444444444444444,
              "#bd3786"
             ],
             [
              0.5555555555555556,
              "#d8576b"
             ],
             [
              0.6666666666666666,
              "#ed7953"
             ],
             [
              0.7777777777777778,
              "#fb9f3a"
             ],
             [
              0.8888888888888888,
              "#fdca26"
             ],
             [
              1,
              "#f0f921"
             ]
            ],
            "type": "contour"
           }
          ],
          "contourcarpet": [
           {
            "colorbar": {
             "outlinewidth": 0,
             "ticks": ""
            },
            "type": "contourcarpet"
           }
          ],
          "heatmap": [
           {
            "colorbar": {
             "outlinewidth": 0,
             "ticks": ""
            },
            "colorscale": [
             [
              0,
              "#0d0887"
             ],
             [
              0.1111111111111111,
              "#46039f"
             ],
             [
              0.2222222222222222,
              "#7201a8"
             ],
             [
              0.3333333333333333,
              "#9c179e"
             ],
             [
              0.4444444444444444,
              "#bd3786"
             ],
             [
              0.5555555555555556,
              "#d8576b"
             ],
             [
              0.6666666666666666,
              "#ed7953"
             ],
             [
              0.7777777777777778,
              "#fb9f3a"
             ],
             [
              0.8888888888888888,
              "#fdca26"
             ],
             [
              1,
              "#f0f921"
             ]
            ],
            "type": "heatmap"
           }
          ],
          "heatmapgl": [
           {
            "colorbar": {
             "outlinewidth": 0,
             "ticks": ""
            },
            "colorscale": [
             [
              0,
              "#0d0887"
             ],
             [
              0.1111111111111111,
              "#46039f"
             ],
             [
              0.2222222222222222,
              "#7201a8"
             ],
             [
              0.3333333333333333,
              "#9c179e"
             ],
             [
              0.4444444444444444,
              "#bd3786"
             ],
             [
              0.5555555555555556,
              "#d8576b"
             ],
             [
              0.6666666666666666,
              "#ed7953"
             ],
             [
              0.7777777777777778,
              "#fb9f3a"
             ],
             [
              0.8888888888888888,
              "#fdca26"
             ],
             [
              1,
              "#f0f921"
             ]
            ],
            "type": "heatmapgl"
           }
          ],
          "histogram": [
           {
            "marker": {
             "pattern": {
              "fillmode": "overlay",
              "size": 10,
              "solidity": 0.2
             }
            },
            "type": "histogram"
           }
          ],
          "histogram2d": [
           {
            "colorbar": {
             "outlinewidth": 0,
             "ticks": ""
            },
            "colorscale": [
             [
              0,
              "#0d0887"
             ],
             [
              0.1111111111111111,
              "#46039f"
             ],
             [
              0.2222222222222222,
              "#7201a8"
             ],
             [
              0.3333333333333333,
              "#9c179e"
             ],
             [
              0.4444444444444444,
              "#bd3786"
             ],
             [
              0.5555555555555556,
              "#d8576b"
             ],
             [
              0.6666666666666666,
              "#ed7953"
             ],
             [
              0.7777777777777778,
              "#fb9f3a"
             ],
             [
              0.8888888888888888,
              "#fdca26"
             ],
             [
              1,
              "#f0f921"
             ]
            ],
            "type": "histogram2d"
           }
          ],
          "histogram2dcontour": [
           {
            "colorbar": {
             "outlinewidth": 0,
             "ticks": ""
            },
            "colorscale": [
             [
              0,
              "#0d0887"
             ],
             [
              0.1111111111111111,
              "#46039f"
             ],
             [
              0.2222222222222222,
              "#7201a8"
             ],
             [
              0.3333333333333333,
              "#9c179e"
             ],
             [
              0.4444444444444444,
              "#bd3786"
             ],
             [
              0.5555555555555556,
              "#d8576b"
             ],
             [
              0.6666666666666666,
              "#ed7953"
             ],
             [
              0.7777777777777778,
              "#fb9f3a"
             ],
             [
              0.8888888888888888,
              "#fdca26"
             ],
             [
              1,
              "#f0f921"
             ]
            ],
            "type": "histogram2dcontour"
           }
          ],
          "mesh3d": [
           {
            "colorbar": {
             "outlinewidth": 0,
             "ticks": ""
            },
            "type": "mesh3d"
           }
          ],
          "parcoords": [
           {
            "line": {
             "colorbar": {
              "outlinewidth": 0,
              "ticks": ""
             }
            },
            "type": "parcoords"
           }
          ],
          "pie": [
           {
            "automargin": true,
            "type": "pie"
           }
          ],
          "scatter": [
           {
            "fillpattern": {
             "fillmode": "overlay",
             "size": 10,
             "solidity": 0.2
            },
            "type": "scatter"
           }
          ],
          "scatter3d": [
           {
            "line": {
             "colorbar": {
              "outlinewidth": 0,
              "ticks": ""
             }
            },
            "marker": {
             "colorbar": {
              "outlinewidth": 0,
              "ticks": ""
             }
            },
            "type": "scatter3d"
           }
          ],
          "scattercarpet": [
           {
            "marker": {
             "colorbar": {
              "outlinewidth": 0,
              "ticks": ""
             }
            },
            "type": "scattercarpet"
           }
          ],
          "scattergeo": [
           {
            "marker": {
             "colorbar": {
              "outlinewidth": 0,
              "ticks": ""
             }
            },
            "type": "scattergeo"
           }
          ],
          "scattergl": [
           {
            "marker": {
             "colorbar": {
              "outlinewidth": 0,
              "ticks": ""
             }
            },
            "type": "scattergl"
           }
          ],
          "scattermapbox": [
           {
            "marker": {
             "colorbar": {
              "outlinewidth": 0,
              "ticks": ""
             }
            },
            "type": "scattermapbox"
           }
          ],
          "scatterpolar": [
           {
            "marker": {
             "colorbar": {
              "outlinewidth": 0,
              "ticks": ""
             }
            },
            "type": "scatterpolar"
           }
          ],
          "scatterpolargl": [
           {
            "marker": {
             "colorbar": {
              "outlinewidth": 0,
              "ticks": ""
             }
            },
            "type": "scatterpolargl"
           }
          ],
          "scatterternary": [
           {
            "marker": {
             "colorbar": {
              "outlinewidth": 0,
              "ticks": ""
             }
            },
            "type": "scatterternary"
           }
          ],
          "surface": [
           {
            "colorbar": {
             "outlinewidth": 0,
             "ticks": ""
            },
            "colorscale": [
             [
              0,
              "#0d0887"
             ],
             [
              0.1111111111111111,
              "#46039f"
             ],
             [
              0.2222222222222222,
              "#7201a8"
             ],
             [
              0.3333333333333333,
              "#9c179e"
             ],
             [
              0.4444444444444444,
              "#bd3786"
             ],
             [
              0.5555555555555556,
              "#d8576b"
             ],
             [
              0.6666666666666666,
              "#ed7953"
             ],
             [
              0.7777777777777778,
              "#fb9f3a"
             ],
             [
              0.8888888888888888,
              "#fdca26"
             ],
             [
              1,
              "#f0f921"
             ]
            ],
            "type": "surface"
           }
          ],
          "table": [
           {
            "cells": {
             "fill": {
              "color": "#EBF0F8"
             },
             "line": {
              "color": "white"
             }
            },
            "header": {
             "fill": {
              "color": "#C8D4E3"
             },
             "line": {
              "color": "white"
             }
            },
            "type": "table"
           }
          ]
         },
         "layout": {
          "annotationdefaults": {
           "arrowcolor": "#2a3f5f",
           "arrowhead": 0,
           "arrowwidth": 1
          },
          "autotypenumbers": "strict",
          "coloraxis": {
           "colorbar": {
            "outlinewidth": 0,
            "ticks": ""
           }
          },
          "colorscale": {
           "diverging": [
            [
             0,
             "#8e0152"
            ],
            [
             0.1,
             "#c51b7d"
            ],
            [
             0.2,
             "#de77ae"
            ],
            [
             0.3,
             "#f1b6da"
            ],
            [
             0.4,
             "#fde0ef"
            ],
            [
             0.5,
             "#f7f7f7"
            ],
            [
             0.6,
             "#e6f5d0"
            ],
            [
             0.7,
             "#b8e186"
            ],
            [
             0.8,
             "#7fbc41"
            ],
            [
             0.9,
             "#4d9221"
            ],
            [
             1,
             "#276419"
            ]
           ],
           "sequential": [
            [
             0,
             "#0d0887"
            ],
            [
             0.1111111111111111,
             "#46039f"
            ],
            [
             0.2222222222222222,
             "#7201a8"
            ],
            [
             0.3333333333333333,
             "#9c179e"
            ],
            [
             0.4444444444444444,
             "#bd3786"
            ],
            [
             0.5555555555555556,
             "#d8576b"
            ],
            [
             0.6666666666666666,
             "#ed7953"
            ],
            [
             0.7777777777777778,
             "#fb9f3a"
            ],
            [
             0.8888888888888888,
             "#fdca26"
            ],
            [
             1,
             "#f0f921"
            ]
           ],
           "sequentialminus": [
            [
             0,
             "#0d0887"
            ],
            [
             0.1111111111111111,
             "#46039f"
            ],
            [
             0.2222222222222222,
             "#7201a8"
            ],
            [
             0.3333333333333333,
             "#9c179e"
            ],
            [
             0.4444444444444444,
             "#bd3786"
            ],
            [
             0.5555555555555556,
             "#d8576b"
            ],
            [
             0.6666666666666666,
             "#ed7953"
            ],
            [
             0.7777777777777778,
             "#fb9f3a"
            ],
            [
             0.8888888888888888,
             "#fdca26"
            ],
            [
             1,
             "#f0f921"
            ]
           ]
          },
          "colorway": [
           "#636efa",
           "#EF553B",
           "#00cc96",
           "#ab63fa",
           "#FFA15A",
           "#19d3f3",
           "#FF6692",
           "#B6E880",
           "#FF97FF",
           "#FECB52"
          ],
          "font": {
           "color": "#2a3f5f"
          },
          "geo": {
           "bgcolor": "white",
           "lakecolor": "white",
           "landcolor": "#E5ECF6",
           "showlakes": true,
           "showland": true,
           "subunitcolor": "white"
          },
          "hoverlabel": {
           "align": "left"
          },
          "hovermode": "closest",
          "mapbox": {
           "style": "light"
          },
          "paper_bgcolor": "white",
          "plot_bgcolor": "#E5ECF6",
          "polar": {
           "angularaxis": {
            "gridcolor": "white",
            "linecolor": "white",
            "ticks": ""
           },
           "bgcolor": "#E5ECF6",
           "radialaxis": {
            "gridcolor": "white",
            "linecolor": "white",
            "ticks": ""
           }
          },
          "scene": {
           "xaxis": {
            "backgroundcolor": "#E5ECF6",
            "gridcolor": "white",
            "gridwidth": 2,
            "linecolor": "white",
            "showbackground": true,
            "ticks": "",
            "zerolinecolor": "white"
           },
           "yaxis": {
            "backgroundcolor": "#E5ECF6",
            "gridcolor": "white",
            "gridwidth": 2,
            "linecolor": "white",
            "showbackground": true,
            "ticks": "",
            "zerolinecolor": "white"
           },
           "zaxis": {
            "backgroundcolor": "#E5ECF6",
            "gridcolor": "white",
            "gridwidth": 2,
            "linecolor": "white",
            "showbackground": true,
            "ticks": "",
            "zerolinecolor": "white"
           }
          },
          "shapedefaults": {
           "line": {
            "color": "#2a3f5f"
           }
          },
          "ternary": {
           "aaxis": {
            "gridcolor": "white",
            "linecolor": "white",
            "ticks": ""
           },
           "baxis": {
            "gridcolor": "white",
            "linecolor": "white",
            "ticks": ""
           },
           "bgcolor": "#E5ECF6",
           "caxis": {
            "gridcolor": "white",
            "linecolor": "white",
            "ticks": ""
           }
          },
          "title": {
           "x": 0.05
          },
          "xaxis": {
           "automargin": true,
           "gridcolor": "white",
           "linecolor": "white",
           "ticks": "",
           "title": {
            "standoff": 15
           },
           "zerolinecolor": "white",
           "zerolinewidth": 2
          },
          "yaxis": {
           "automargin": true,
           "gridcolor": "white",
           "linecolor": "white",
           "ticks": "",
           "title": {
            "standoff": 15
           },
           "zerolinecolor": "white",
           "zerolinewidth": 2
          }
         }
        },
        "title": {
         "text": "World Population Distribution"
        },
        "width": 1200
       }
      },
      "text/html": [
       "<div>                            <div id=\"f688c9a5-ca13-47c0-8022-e2b126da0401\" class=\"plotly-graph-div\" style=\"height:800px; width:1200px;\"></div>            <script type=\"text/javascript\">                require([\"plotly\"], function(Plotly) {                    window.PLOTLYENV=window.PLOTLYENV || {};                                    if (document.getElementById(\"f688c9a5-ca13-47c0-8022-e2b126da0401\")) {                    Plotly.newPlot(                        \"f688c9a5-ca13-47c0-8022-e2b126da0401\",                        [{\"coloraxis\":\"coloraxis\",\"geo\":\"geo\",\"hovertemplate\":\"\\u003cb\\u003e%{hovertext}\\u003c\\u002fb\\u003e\\u003cbr\\u003e\\u003cbr\\u003ecca3=%{location}\\u003cbr\\u003ePopulation=%{z}\\u003cextra\\u003e\\u003c\\u002fextra\\u003e\",\"hovertext\":[\"Afghanistan\",\"Albania\",\"Algeria\",\"American Samoa\",\"Andorra\",\"Angola\",\"Anguilla\",\"Antigua and Barbuda\",\"Argentina\",\"Armenia\",\"Aruba\",\"Australia\",\"Austria\",\"Azerbaijan\",\"Bahamas\",\"Bahrain\",\"Bangladesh\",\"Barbados\",\"Belarus\",\"Belgium\",\"Belize\",\"Benin\",\"Bermuda\",\"Bhutan\",\"Bolivia\",\"Bosnia and Herzegovina\",\"Botswana\",\"Brazil\",\"British Virgin Islands\",\"Brunei\",\"Bulgaria\",\"Burkina Faso\",\"Burundi\",\"Cambodia\",\"Cameroon\",\"Canada\",\"Cape Verde\",\"Cayman Islands\",\"Central African Republic\",\"Chad\",\"Chile\",\"China\",\"Colombia\",\"Comoros\",\"Cook Islands\",\"Costa Rica\",\"Croatia\",\"Cuba\",\"Curacao\",\"Cyprus\",\"Czech Republic\",\"Denmark\",\"Djibouti\",\"Dominica\",\"Dominican Republic\",\"DR Congo\",\"Ecuador\",\"Egypt\",\"El Salvador\",\"Equatorial Guinea\",\"Eritrea\",\"Estonia\",\"Eswatini\",\"Ethiopia\",\"Falkland Islands\",\"Faroe Islands\",\"Fiji\",\"Finland\",\"France\",\"French Guiana\",\"French Polynesia\",\"Gabon\",\"Gambia\",\"Georgia\",\"Germany\",\"Ghana\",\"Gibraltar\",\"Greece\",\"Greenland\",\"Grenada\",\"Guadeloupe\",\"Guam\",\"Guatemala\",\"Guernsey\",\"Guinea\",\"Guinea-Bissau\",\"Guyana\",\"Haiti\",\"Honduras\",\"Hong Kong\",\"Hungary\",\"Iceland\",\"India\",\"Indonesia\",\"Iran\",\"Iraq\",\"Ireland\",\"Isle of Man\",\"Israel\",\"Italy\",\"Ivory Coast\",\"Jamaica\",\"Japan\",\"Jersey\",\"Jordan\",\"Kazakhstan\",\"Kenya\",\"Kiribati\",\"Kuwait\",\"Kyrgyzstan\",\"Laos\",\"Latvia\",\"Lebanon\",\"Lesotho\",\"Liberia\",\"Libya\",\"Liechtenstein\",\"Lithuania\",\"Luxembourg\",\"Macau\",\"Madagascar\",\"Malawi\",\"Malaysia\",\"Maldives\",\"Mali\",\"Malta\",\"Marshall Islands\",\"Martinique\",\"Mauritania\",\"Mauritius\",\"Mayotte\",\"Mexico\",\"Micronesia\",\"Moldova\",\"Monaco\",\"Mongolia\",\"Montenegro\",\"Montserrat\",\"Morocco\",\"Mozambique\",\"Myanmar\",\"Namibia\",\"Nauru\",\"Nepal\",\"Netherlands\",\"New Caledonia\",\"New Zealand\",\"Nicaragua\",\"Niger\",\"Nigeria\",\"Niue\",\"North Korea\",\"North Macedonia\",\"Northern Mariana Islands\",\"Norway\",\"Oman\",\"Pakistan\",\"Palau\",\"Palestine\",\"Panama\",\"Papua New Guinea\",\"Paraguay\",\"Peru\",\"Philippines\",\"Poland\",\"Portugal\",\"Puerto Rico\",\"Qatar\",\"Republic of the Congo\",\"Reunion\",\"Romania\",\"Russia\",\"Rwanda\",\"Saint Barthelemy\",\"Saint Kitts and Nevis\",\"Saint Lucia\",\"Saint Martin\",\"Saint Pierre and Miquelon\",\"Saint Vincent and the Grenadines\",\"Samoa\",\"San Marino\",\"Sao Tome and Principe\",\"Saudi Arabia\",\"Senegal\",\"Serbia\",\"Seychelles\",\"Sierra Leone\",\"Singapore\",\"Sint Maarten\",\"Slovakia\",\"Slovenia\",\"Solomon Islands\",\"Somalia\",\"South Africa\",\"South Korea\",\"South Sudan\",\"Spain\",\"Sri Lanka\",\"Sudan\",\"Suriname\",\"Sweden\",\"Switzerland\",\"Syria\",\"Taiwan\",\"Tajikistan\",\"Tanzania\",\"Thailand\",\"Timor-Leste\",\"Togo\",\"Tokelau\",\"Tonga\",\"Trinidad and Tobago\",\"Tunisia\",\"Turkey\",\"Turkmenistan\",\"Turks and Caicos Islands\",\"Tuvalu\",\"Uganda\",\"Ukraine\",\"United Arab Emirates\",\"United Kingdom\",\"United States\",\"United States Virgin Islands\",\"Uruguay\",\"Uzbekistan\",\"Vanuatu\",\"Vatican City\",\"Venezuela\",\"Vietnam\",\"Wallis and Futuna\",\"Western Sahara\",\"Yemen\",\"Zambia\",\"Zimbabwe\"],\"locations\":[\"AFG\",\"ALB\",\"DZA\",\"ASM\",\"AND\",\"AGO\",\"AIA\",\"ATG\",\"ARG\",\"ARM\",\"ABW\",\"AUS\",\"AUT\",\"AZE\",\"BHS\",\"BHR\",\"BGD\",\"BRB\",\"BLR\",\"BEL\",\"BLZ\",\"BEN\",\"BMU\",\"BTN\",\"BOL\",\"BIH\",\"BWA\",\"BRA\",\"VGB\",\"BRN\",\"BGR\",\"BFA\",\"BDI\",\"KHM\",\"CMR\",\"CAN\",\"CPV\",\"CYM\",\"CAF\",\"TCD\",\"CHL\",\"CHN\",\"COL\",\"COM\",\"COK\",\"CRI\",\"HRV\",\"CUB\",\"CUW\",\"CYP\",\"CZE\",\"DNK\",\"DJI\",\"DMA\",\"DOM\",\"COD\",\"ECU\",\"EGY\",\"SLV\",\"GNQ\",\"ERI\",\"EST\",\"SWZ\",\"ETH\",\"FLK\",\"FRO\",\"FJI\",\"FIN\",\"FRA\",\"GUF\",\"PYF\",\"GAB\",\"GMB\",\"GEO\",\"DEU\",\"GHA\",\"GIB\",\"GRC\",\"GRL\",\"GRD\",\"GLP\",\"GUM\",\"GTM\",\"GGY\",\"GIN\",\"GNB\",\"GUY\",\"HTI\",\"HND\",\"HKG\",\"HUN\",\"ISL\",\"IND\",\"IDN\",\"IRN\",\"IRQ\",\"IRL\",\"IMN\",\"ISR\",\"ITA\",\"CIV\",\"JAM\",\"JPN\",\"JEY\",\"JOR\",\"KAZ\",\"KEN\",\"KIR\",\"KWT\",\"KGZ\",\"LAO\",\"LVA\",\"LBN\",\"LSO\",\"LBR\",\"LBY\",\"LIE\",\"LTU\",\"LUX\",\"MAC\",\"MDG\",\"MWI\",\"MYS\",\"MDV\",\"MLI\",\"MLT\",\"MHL\",\"MTQ\",\"MRT\",\"MUS\",\"MYT\",\"MEX\",\"FSM\",\"MDA\",\"MCO\",\"MNG\",\"MNE\",\"MSR\",\"MAR\",\"MOZ\",\"MMR\",\"NAM\",\"NRU\",\"NPL\",\"NLD\",\"NCL\",\"NZL\",\"NIC\",\"NER\",\"NGA\",\"NIU\",\"PRK\",\"MKD\",\"NFK\",\"NOR\",\"OMN\",\"PAK\",\"PLW\",\"PSE\",\"PAN\",\"PNG\",\"PRY\",\"PER\",\"PHL\",\"POL\",\"PRT\",\"PRI\",\"QAT\",\"COG\",\"REU\",\"ROU\",\"RUS\",\"RWA\",\"BLM\",\"KNA\",\"LCA\",\"MAF\",\"SPM\",\"VCT\",\"WSM\",\"SMR\",\"STP\",\"SAU\",\"SEN\",\"SRB\",\"SYC\",\"SLE\",\"SGP\",\"SXM\",\"SVK\",\"SVN\",\"SLB\",\"SOM\",\"ZAF\",\"KOR\",\"SSD\",\"ESP\",\"LKA\",\"SDN\",\"SUR\",\"SWE\",\"CHE\",\"SYR\",\"TWN\",\"TJK\",\"TZA\",\"THA\",\"TLS\",\"TGO\",\"TKL\",\"TON\",\"TTO\",\"TUN\",\"TUR\",\"TKM\",\"TCA\",\"TUV\",\"UGA\",\"UKR\",\"ARE\",\"GBR\",\"USA\",\"VIR\",\"URY\",\"UZB\",\"VUT\",\"VAT\",\"VEN\",\"VNM\",\"WLF\",\"ESH\",\"YEM\",\"ZMB\",\"ZWE\"],\"name\":\"\",\"z\":[41128771,2842321,44903225,44273,79824,35588987,15857,93763,45510318,2780469,106445,26177413,8939617,10358074,409984,1472233,171186372,281635,9534954,11655930,405272,13352864,64184,782455,12224110,3233526,2630296,215313498,31305,449002,6781953,22673762,12889576,16767842,27914536,38454327,593149,68706,5579144,17723315,19603733,1425887337,51874024,836774,17011,5180829,4030358,11212191,191163,1251488,10493986,5882261,1120849,72737,11228821,99010212,18001000,110990103,6336392,1674908,3684032,1326062,1201670,123379924,3780,53090,929766,5540745,64626628,304557,306279,2388992,2705992,3744385,83369843,33475870,32649,10384971,56466,125438,395752,171774,17843908,63301,13859341,2105566,808726,11584996,10432860,7488865,9967308,372899,1417173173,275501339,88550570,44496122,5023109,84519,9038309,59037474,28160542,2827377,123951692,110778,11285869,19397998,54027487,131232,4268873,6630623,7529475,1850651,5489739,2305825,5302681,6812341,39327,2750055,647599,695168,29611714,20405317,33938221,523787,22593590,533286,41569,367507,4736139,1299469,326101,127504125,114164,3272996,36469,3398366,627082,4390,37457971,32969517,54179306,2567012,12668,30547580,17564014,289950,5185288,6948392,26207977,218541212,1934,26069416,2093599,49551,5434319,4576298,235824862,18055,5250072,4408581,10142619,6780744,34049588,115559009,39857145,10270865,3252407,2695122,5970424,974052,19659267,144713314,13776698,10967,47657,179857,31791,5862,103948,222382,33660,227380,36408820,17316449,7221365,107118,8605718,5975689,44175,5643453,2119844,724273,17597511,59893885,51815810,10913164,47558630,21832143,46874204,618040,10549347,8740472,22125249,23893394,9952787,65497748,71697030,1341296,8848699,1871,106858,1531044,12356117,85341241,6430770,45703,11312,47249585,39701739,9441129,67508936,338289857,99465,3422794,34627652,326740,510,28301696,98186856,11572,575986,33696614,20017675,16320537],\"type\":\"choropleth\"}],                        {\"template\":{\"data\":{\"histogram2dcontour\":[{\"type\":\"histogram2dcontour\",\"colorbar\":{\"outlinewidth\":0,\"ticks\":\"\"},\"colorscale\":[[0.0,\"#0d0887\"],[0.1111111111111111,\"#46039f\"],[0.2222222222222222,\"#7201a8\"],[0.3333333333333333,\"#9c179e\"],[0.4444444444444444,\"#bd3786\"],[0.5555555555555556,\"#d8576b\"],[0.6666666666666666,\"#ed7953\"],[0.7777777777777778,\"#fb9f3a\"],[0.8888888888888888,\"#fdca26\"],[1.0,\"#f0f921\"]]}],\"choropleth\":[{\"type\":\"choropleth\",\"colorbar\":{\"outlinewidth\":0,\"ticks\":\"\"}}],\"histogram2d\":[{\"type\":\"histogram2d\",\"colorbar\":{\"outlinewidth\":0,\"ticks\":\"\"},\"colorscale\":[[0.0,\"#0d0887\"],[0.1111111111111111,\"#46039f\"],[0.2222222222222222,\"#7201a8\"],[0.3333333333333333,\"#9c179e\"],[0.4444444444444444,\"#bd3786\"],[0.5555555555555556,\"#d8576b\"],[0.6666666666666666,\"#ed7953\"],[0.7777777777777778,\"#fb9f3a\"],[0.8888888888888888,\"#fdca26\"],[1.0,\"#f0f921\"]]}],\"heatmap\":[{\"type\":\"heatmap\",\"colorbar\":{\"outlinewidth\":0,\"ticks\":\"\"},\"colorscale\":[[0.0,\"#0d0887\"],[0.1111111111111111,\"#46039f\"],[0.2222222222222222,\"#7201a8\"],[0.3333333333333333,\"#9c179e\"],[0.4444444444444444,\"#bd3786\"],[0.5555555555555556,\"#d8576b\"],[0.6666666666666666,\"#ed7953\"],[0.7777777777777778,\"#fb9f3a\"],[0.8888888888888888,\"#fdca26\"],[1.0,\"#f0f921\"]]}],\"heatmapgl\":[{\"type\":\"heatmapgl\",\"colorbar\":{\"outlinewidth\":0,\"ticks\":\"\"},\"colorscale\":[[0.0,\"#0d0887\"],[0.1111111111111111,\"#46039f\"],[0.2222222222222222,\"#7201a8\"],[0.3333333333333333,\"#9c179e\"],[0.4444444444444444,\"#bd3786\"],[0.5555555555555556,\"#d8576b\"],[0.6666666666666666,\"#ed7953\"],[0.7777777777777778,\"#fb9f3a\"],[0.8888888888888888,\"#fdca26\"],[1.0,\"#f0f921\"]]}],\"contourcarpet\":[{\"type\":\"contourcarpet\",\"colorbar\":{\"outlinewidth\":0,\"ticks\":\"\"}}],\"contour\":[{\"type\":\"contour\",\"colorbar\":{\"outlinewidth\":0,\"ticks\":\"\"},\"colorscale\":[[0.0,\"#0d0887\"],[0.1111111111111111,\"#46039f\"],[0.2222222222222222,\"#7201a8\"],[0.3333333333333333,\"#9c179e\"],[0.4444444444444444,\"#bd3786\"],[0.5555555555555556,\"#d8576b\"],[0.6666666666666666,\"#ed7953\"],[0.7777777777777778,\"#fb9f3a\"],[0.8888888888888888,\"#fdca26\"],[1.0,\"#f0f921\"]]}],\"surface\":[{\"type\":\"surface\",\"colorbar\":{\"outlinewidth\":0,\"ticks\":\"\"},\"colorscale\":[[0.0,\"#0d0887\"],[0.1111111111111111,\"#46039f\"],[0.2222222222222222,\"#7201a8\"],[0.3333333333333333,\"#9c179e\"],[0.4444444444444444,\"#bd3786\"],[0.5555555555555556,\"#d8576b\"],[0.6666666666666666,\"#ed7953\"],[0.7777777777777778,\"#fb9f3a\"],[0.8888888888888888,\"#fdca26\"],[1.0,\"#f0f921\"]]}],\"mesh3d\":[{\"type\":\"mesh3d\",\"colorbar\":{\"outlinewidth\":0,\"ticks\":\"\"}}],\"scatter\":[{\"fillpattern\":{\"fillmode\":\"overlay\",\"size\":10,\"solidity\":0.2},\"type\":\"scatter\"}],\"parcoords\":[{\"type\":\"parcoords\",\"line\":{\"colorbar\":{\"outlinewidth\":0,\"ticks\":\"\"}}}],\"scatterpolargl\":[{\"type\":\"scatterpolargl\",\"marker\":{\"colorbar\":{\"outlinewidth\":0,\"ticks\":\"\"}}}],\"bar\":[{\"error_x\":{\"color\":\"#2a3f5f\"},\"error_y\":{\"color\":\"#2a3f5f\"},\"marker\":{\"line\":{\"color\":\"#E5ECF6\",\"width\":0.5},\"pattern\":{\"fillmode\":\"overlay\",\"size\":10,\"solidity\":0.2}},\"type\":\"bar\"}],\"scattergeo\":[{\"type\":\"scattergeo\",\"marker\":{\"colorbar\":{\"outlinewidth\":0,\"ticks\":\"\"}}}],\"scatterpolar\":[{\"type\":\"scatterpolar\",\"marker\":{\"colorbar\":{\"outlinewidth\":0,\"ticks\":\"\"}}}],\"histogram\":[{\"marker\":{\"pattern\":{\"fillmode\":\"overlay\",\"size\":10,\"solidity\":0.2}},\"type\":\"histogram\"}],\"scattergl\":[{\"type\":\"scattergl\",\"marker\":{\"colorbar\":{\"outlinewidth\":0,\"ticks\":\"\"}}}],\"scatter3d\":[{\"type\":\"scatter3d\",\"line\":{\"colorbar\":{\"outlinewidth\":0,\"ticks\":\"\"}},\"marker\":{\"colorbar\":{\"outlinewidth\":0,\"ticks\":\"\"}}}],\"scattermapbox\":[{\"type\":\"scattermapbox\",\"marker\":{\"colorbar\":{\"outlinewidth\":0,\"ticks\":\"\"}}}],\"scatterternary\":[{\"type\":\"scatterternary\",\"marker\":{\"colorbar\":{\"outlinewidth\":0,\"ticks\":\"\"}}}],\"scattercarpet\":[{\"type\":\"scattercarpet\",\"marker\":{\"colorbar\":{\"outlinewidth\":0,\"ticks\":\"\"}}}],\"carpet\":[{\"aaxis\":{\"endlinecolor\":\"#2a3f5f\",\"gridcolor\":\"white\",\"linecolor\":\"white\",\"minorgridcolor\":\"white\",\"startlinecolor\":\"#2a3f5f\"},\"baxis\":{\"endlinecolor\":\"#2a3f5f\",\"gridcolor\":\"white\",\"linecolor\":\"white\",\"minorgridcolor\":\"white\",\"startlinecolor\":\"#2a3f5f\"},\"type\":\"carpet\"}],\"table\":[{\"cells\":{\"fill\":{\"color\":\"#EBF0F8\"},\"line\":{\"color\":\"white\"}},\"header\":{\"fill\":{\"color\":\"#C8D4E3\"},\"line\":{\"color\":\"white\"}},\"type\":\"table\"}],\"barpolar\":[{\"marker\":{\"line\":{\"color\":\"#E5ECF6\",\"width\":0.5},\"pattern\":{\"fillmode\":\"overlay\",\"size\":10,\"solidity\":0.2}},\"type\":\"barpolar\"}],\"pie\":[{\"automargin\":true,\"type\":\"pie\"}]},\"layout\":{\"autotypenumbers\":\"strict\",\"colorway\":[\"#636efa\",\"#EF553B\",\"#00cc96\",\"#ab63fa\",\"#FFA15A\",\"#19d3f3\",\"#FF6692\",\"#B6E880\",\"#FF97FF\",\"#FECB52\"],\"font\":{\"color\":\"#2a3f5f\"},\"hovermode\":\"closest\",\"hoverlabel\":{\"align\":\"left\"},\"paper_bgcolor\":\"white\",\"plot_bgcolor\":\"#E5ECF6\",\"polar\":{\"bgcolor\":\"#E5ECF6\",\"angularaxis\":{\"gridcolor\":\"white\",\"linecolor\":\"white\",\"ticks\":\"\"},\"radialaxis\":{\"gridcolor\":\"white\",\"linecolor\":\"white\",\"ticks\":\"\"}},\"ternary\":{\"bgcolor\":\"#E5ECF6\",\"aaxis\":{\"gridcolor\":\"white\",\"linecolor\":\"white\",\"ticks\":\"\"},\"baxis\":{\"gridcolor\":\"white\",\"linecolor\":\"white\",\"ticks\":\"\"},\"caxis\":{\"gridcolor\":\"white\",\"linecolor\":\"white\",\"ticks\":\"\"}},\"coloraxis\":{\"colorbar\":{\"outlinewidth\":0,\"ticks\":\"\"}},\"colorscale\":{\"sequential\":[[0.0,\"#0d0887\"],[0.1111111111111111,\"#46039f\"],[0.2222222222222222,\"#7201a8\"],[0.3333333333333333,\"#9c179e\"],[0.4444444444444444,\"#bd3786\"],[0.5555555555555556,\"#d8576b\"],[0.6666666666666666,\"#ed7953\"],[0.7777777777777778,\"#fb9f3a\"],[0.8888888888888888,\"#fdca26\"],[1.0,\"#f0f921\"]],\"sequentialminus\":[[0.0,\"#0d0887\"],[0.1111111111111111,\"#46039f\"],[0.2222222222222222,\"#7201a8\"],[0.3333333333333333,\"#9c179e\"],[0.4444444444444444,\"#bd3786\"],[0.5555555555555556,\"#d8576b\"],[0.6666666666666666,\"#ed7953\"],[0.7777777777777778,\"#fb9f3a\"],[0.8888888888888888,\"#fdca26\"],[1.0,\"#f0f921\"]],\"diverging\":[[0,\"#8e0152\"],[0.1,\"#c51b7d\"],[0.2,\"#de77ae\"],[0.3,\"#f1b6da\"],[0.4,\"#fde0ef\"],[0.5,\"#f7f7f7\"],[0.6,\"#e6f5d0\"],[0.7,\"#b8e186\"],[0.8,\"#7fbc41\"],[0.9,\"#4d9221\"],[1,\"#276419\"]]},\"xaxis\":{\"gridcolor\":\"white\",\"linecolor\":\"white\",\"ticks\":\"\",\"title\":{\"standoff\":15},\"zerolinecolor\":\"white\",\"automargin\":true,\"zerolinewidth\":2},\"yaxis\":{\"gridcolor\":\"white\",\"linecolor\":\"white\",\"ticks\":\"\",\"title\":{\"standoff\":15},\"zerolinecolor\":\"white\",\"automargin\":true,\"zerolinewidth\":2},\"scene\":{\"xaxis\":{\"backgroundcolor\":\"#E5ECF6\",\"gridcolor\":\"white\",\"linecolor\":\"white\",\"showbackground\":true,\"ticks\":\"\",\"zerolinecolor\":\"white\",\"gridwidth\":2},\"yaxis\":{\"backgroundcolor\":\"#E5ECF6\",\"gridcolor\":\"white\",\"linecolor\":\"white\",\"showbackground\":true,\"ticks\":\"\",\"zerolinecolor\":\"white\",\"gridwidth\":2},\"zaxis\":{\"backgroundcolor\":\"#E5ECF6\",\"gridcolor\":\"white\",\"linecolor\":\"white\",\"showbackground\":true,\"ticks\":\"\",\"zerolinecolor\":\"white\",\"gridwidth\":2}},\"shapedefaults\":{\"line\":{\"color\":\"#2a3f5f\"}},\"annotationdefaults\":{\"arrowcolor\":\"#2a3f5f\",\"arrowhead\":0,\"arrowwidth\":1},\"geo\":{\"bgcolor\":\"white\",\"landcolor\":\"#E5ECF6\",\"subunitcolor\":\"white\",\"showland\":true,\"showlakes\":true,\"lakecolor\":\"white\"},\"title\":{\"x\":0.05},\"mapbox\":{\"style\":\"light\"}}},\"geo\":{\"domain\":{\"x\":[0.0,1.0],\"y\":[0.0,1.0]},\"center\":{}},\"coloraxis\":{\"colorbar\":{\"title\":{\"text\":\"Population\"}},\"colorscale\":[[0.0,\"rgb(255,255,217)\"],[0.125,\"rgb(237,248,177)\"],[0.25,\"rgb(199,233,180)\"],[0.375,\"rgb(127,205,187)\"],[0.5,\"rgb(65,182,196)\"],[0.625,\"rgb(29,145,192)\"],[0.75,\"rgb(34,94,168)\"],[0.875,\"rgb(37,52,148)\"],[1.0,\"rgb(8,29,88)\"]]},\"legend\":{\"tracegroupgap\":0},\"title\":{\"text\":\"World Population Distribution\"},\"height\":800,\"width\":1200},                        {\"responsive\": true}                    ).then(function(){\n",
       "                            \n",
       "var gd = document.getElementById('f688c9a5-ca13-47c0-8022-e2b126da0401');\n",
       "var x = new MutationObserver(function (mutations, observer) {{\n",
       "        var display = window.getComputedStyle(gd).display;\n",
       "        if (!display || display === 'none') {{\n",
       "            console.log([gd, 'removed!']);\n",
       "            Plotly.purge(gd);\n",
       "            observer.disconnect();\n",
       "        }}\n",
       "}});\n",
       "\n",
       "// Listen for the removal of the full notebook cells\n",
       "var notebookContainer = gd.closest('#notebook-container');\n",
       "if (notebookContainer) {{\n",
       "    x.observe(notebookContainer, {childList: true});\n",
       "}}\n",
       "\n",
       "// Listen for the clearing of the current output cell\n",
       "var outputEl = gd.closest('.output');\n",
       "if (outputEl) {{\n",
       "    x.observe(outputEl, {childList: true});\n",
       "}}\n",
       "\n",
       "                        })                };                });            </script>        </div>"
      ]
     },
     "metadata": {},
     "output_type": "display_data"
    }
   ],
   "source": [
    "# Create a choropleth map for the world population \n",
    "fig = px.choropleth(df,\n",
    "                    locations='cca3',\n",
    "                    color='2022 population',\n",
    "                    hover_name='country/territory',\n",
    "                    color_continuous_scale='YlGnBu',\n",
    "                    title='World Population Distribution',\n",
    "                    labels={'2022 population': 'Population'},\n",
    "                    height=800,\n",
    "                    width=1200)\n",
    "\n",
    "# Show the interactive map\n",
    "fig.show()"
   ]
  },
  {
   "cell_type": "code",
   "execution_count": 111,
   "id": "37450614",
   "metadata": {},
   "outputs": [
    {
     "data": {
      "image/png": "[encoded data removed]",
      "text/plain": [
       "<Figure size 1296x432 with 2 Axes>"
      ]
     },
     "metadata": {
      "needs_background": "light"
     },
     "output_type": "display_data"
    }
   ],
   "source": [
    "# Set color palette for both plots\n",
    "palette = \"viridis\"\n",
    "\n",
    "# Extracting world population data for the line and bar plots\n",
    "world_population = df[['2022 population', '2020 population', '2015 population', '2010 population', '2000 population', '1990 population', '1980 population', '1970 population']].sum() / 1e9\n",
    "years = ['2022', '2020', '2015', '2010', '2000', '1990', '1980', '1970']\n",
    "\n",
    "# Subplots\n",
    "plt.figure(figsize=(18, 6))\n",
    "\n",
    "# First subplot for the line plot\n",
    "plt.subplot(1, 2, 1)\n",
    "sns.lineplot(x=years, y=world_population, marker=\"o\", linewidth=2, markersize=8, color=\"blue\")\n",
    "plt.axhline(0, color='black', linewidth=0.5, linestyle=\"--\")\n",
    "plt.title('World Population Trend (Line Plot)')\n",
    "plt.xlabel('Year')\n",
    "plt.ylabel('Population (Billions)')\n",
    "\n",
    "# Second subplot for the bar plot\n",
    "plt.subplot(1, 2, 2)\n",
    "bar_plot = sns.barplot(x=years, y=world_population, palette=palette)\n",
    "plt.title('World Population Trend (Bar Plot)')\n",
    "plt.xlabel('Year')\n",
    "plt.ylabel('Population (Billions)')\n",
    "\n",
    "# Annotate each bar with the population values in billions\n",
    "for p in bar_plot.patches:\n",
    "    bar_plot.annotate(f'{p.get_height():.2f}B', (p.get_x() + p.get_width() / 2., p.get_height()), ha='center', va='center', xytext=(0, 10), textcoords='offset points')\n",
    "\n",
    "# Remove y-axis gridlines for the bar plot\n",
    "bar_plot.yaxis.grid(False)\n",
    "\n",
    "plt.tight_layout()\n",
    "plt.show()\n"
   ]
  },
  {
   "cell_type": "markdown",
   "id": "0ebf9565",
   "metadata": {},
   "source": [
    "### Growth Rate vs. Population Density (Interactive)"
   ]
  },
  {
   "cell_type": "code",
   "execution_count": 115,
   "id": "530e9183",
   "metadata": {},
   "outputs": [
    {
     "data": {
      "application/vnd.plotly.v1+json": {
       "config": {
        "plotlyServerURL": "https://plot.ly"
       },
       "data": [
        {
         "hovertemplate": "<b>%{hovertext}</b><br><br>continent=Asia<br>Population Density (people/km²)=%{x}<br>Growth Rate=%{y}<br>2022 population=%{marker.size}<extra></extra>",
         "hovertext": [
          "Afghanistan",
          "Armenia",
          "Azerbaijan",
          "Bahrain",
          "Bangladesh",
          "Bhutan",
          "Brunei",
          "Cambodia",
          "China",
          "Georgia",
          "Hong Kong",
          "India",
          "Indonesia",
          "Iran",
          "Iraq",
          "Israel",
          "Japan",
          "Jordan",
          "Kazakhstan",
          "Kuwait",
          "Kyrgyzstan",
          "Laos",
          "Lebanon",
          "Macau",
          "Malaysia",
          "Maldives",
          "Mongolia",
          "Myanmar",
          "Nepal",
          "North Korea",
          "Oman",
          "Pakistan",
          "Palestine",
          "Philippines",
          "Qatar",
          "Saudi Arabia",
          "Singapore",
          "South Korea",
          "Sri Lanka",
          "Syria",
          "Taiwan",
          "Tajikistan",
          "Thailand",
          "Timor-Leste",
          "Turkey",
          "Turkmenistan",
          "United Arab Emirates",
          "Uzbekistan",
          "Vietnam",
          "Yemen"
         ],
         "legendgroup": "Asia",
         "marker": {
          "color": "#440154",
          "size": [
           41128771,
           2780469,
           10358074,
           1472233,
           171186372,
           782455,
           449002,
           16767842,
           1425887337,
           3744385,
           7488865,
           1417173173,
           275501339,
           88550570,
           44496122,
           9038309,
           123951692,
           11285869,
           19397998,
           4268873,
           6630623,
           7529475,
           5489739,
           695168,
           33938221,
           523787,
           3398366,
           54179306,
           30547580,
           26069416,
           4576298,
           235824862,
           5250072,
           115559009,
           2695122,
           36408820,
           5975689,
           51815810,
           21832143,
           22125249,
           23893394,
           9952787,
           71697030,
           1341296,
           85341241,
           6430770,
           9441129,
           34627652,
           98186856,
           33696614
          ],
          "sizemode": "area",
          "sizeref": 1584319.2633333334,
          "symbol": "circle"
         },
         "mode": "markers",
         "name": "Asia",
         "orientation": "v",
         "showlegend": true,
         "type": "scatter",
         "x": [
          63.0587,
          93.4831,
          119.6082,
          1924.4876,
          1160.035,
          20.3796,
          77.8841,
          92.6221,
          146.8933,
          53.7214,
          6783.3922,
          431.0675,
          144.6529,
          53.7258,
          101.5158,
          435.1617,
          327.9753,
          126.3221,
          7.1188,
          239.5821,
          33.1612,
          31.7968,
          525.2334,
          23172.2667,
          102.5934,
          1745.9567,
          2.1727,
          80.0784,
          207.5511,
          216.2755,
          14.7861,
          267.4018,
          844.063,
          337.5434,
          232.6189,
          16.9368,
          8416.4634,
          517.0722,
          332.7563,
          119.4797,
          660.1662,
          69.5513,
          139.7276,
          90.1772,
          108.9145,
          13.1751,
          112.9322,
          77.3975,
          296.4472,
          63.8232
         ],
         "xaxis": "x",
         "y": [
          1.0257,
          0.9962,
          1.0044,
          1.0061,
          1.0108,
          1.0064,
          1.0081,
          1.0108,
          1,
          0.9964,
          0.9992,
          1.0068,
          1.0064,
          1.0071,
          1.0221,
          1.0155,
          0.9947,
          1.0123,
          1.0105,
          1.0044,
          1.0158,
          1.0141,
          0.9816,
          1.0125,
          1.0109,
          1.0045,
          1.0151,
          1.0071,
          1.0171,
          1.0038,
          1.0123,
          1.0191,
          1.0227,
          1.0147,
          1.0026,
          1.0128,
          1.0058,
          0.9997,
          1.0027,
          1.0376,
          1.0014,
          1.0208,
          1.0013,
          1.0154,
          1.0067,
          1.014,
          1.0081,
          1.016,
          1.0074,
          1.0217
         ],
         "yaxis": "y"
        },
        {
         "hovertemplate": "<b>%{hovertext}</b><br><br>continent=Europe<br>Population Density (people/km²)=%{x}<br>Growth Rate=%{y}<br>2022 population=%{marker.size}<extra></extra>",
         "hovertext": [
          "Albania",
          "Andorra",
          "Austria",
          "Belarus",
          "Belgium",
          "Bosnia and Herzegovina",
          "Bulgaria",
          "Croatia",
          "Cyprus",
          "Czech Republic",
          "Denmark",
          "Estonia",
          "Faroe Islands",
          "Finland",
          "France",
          "Germany",
          "Gibraltar",
          "Greece",
          "Guernsey",
          "Hungary",
          "Iceland",
          "Ireland",
          "Isle of Man",
          "Italy",
          "Jersey",
          "Latvia",
          "Liechtenstein",
          "Lithuania",
          "Luxembourg",
          "Malta",
          "Moldova",
          "Monaco",
          "Montenegro",
          "Netherlands",
          "North Macedonia",
          "Norway",
          "Poland",
          "Portugal",
          "Romania",
          "Russia",
          "San Marino",
          "Serbia",
          "Slovakia",
          "Slovenia",
          "Spain",
          "Sweden",
          "Switzerland",
          "Ukraine",
          "United Kingdom",
          "Vatican City"
         ],
         "legendgroup": "Europe",
         "marker": {
          "color": "#482677",
          "size": [
           2842321,
           79824,
           8939617,
           9534954,
           11655930,
           3233526,
           6781953,
           4030358,
           1251488,
           10493986,
           5882261,
           1326062,
           53090,
           5540745,
           64626628,
           83369843,
           32649,
           10384971,
           63301,
           9967308,
           372899,
           5023109,
           84519,
           59037474,
           110778,
           1850651,
           39327,
           2750055,
           647599,
           533286,
           3272996,
           36469,
           627082,
           17564014,
           2093599,
           5434319,
           39857145,
           10270865,
           19659267,
           144713314,
           33660,
           7221365,
           5643453,
           2119844,
           47558630,
           10549347,
           8740472,
           39701739,
           67508936,
           510
          ],
          "sizemode": "area",
          "sizeref": 1584319.2633333334,
          "symbol": "circle"
         },
         "mode": "markers",
         "name": "Europe",
         "orientation": "v",
         "showlegend": true,
         "type": "scatter",
         "x": [
          98.8702,
          170.5641,
          106.5877,
          45.9295,
          381.8111,
          63.1437,
          61.1654,
          71.2153,
          135.2814,
          133.0627,
          136.4984,
          29.3201,
          38.112,
          16.3722,
          117.1419,
          233.4544,
          5441.5,
          78.68,
          811.5513,
          107.1431,
          3.6204,
          71.4799,
          147.7605,
          195.9191,
          954.9828,
          28.666,
          245.7937,
          42.1142,
          250.425,
          1687.6139,
          96.7026,
          18234.5,
          45.4012,
          419.6897,
          81.4218,
          16.7828,
          127.4698,
          111.5307,
          82.4665,
          8.4636,
          551.8033,
          81.7257,
          115.0856,
          104.5649,
          93.9909,
          23.4276,
          211.7157,
          65.7858,
          277.9289,
          510
         ],
         "xaxis": "x",
         "y": [
          0.9957,
          1.01,
          1.002,
          0.9955,
          1.0038,
          0.9886,
          0.9849,
          0.9927,
          1.0059,
          0.9984,
          1.0048,
          0.998,
          1.0038,
          1.0009,
          1.0015,
          0.9995,
          0.9994,
          0.9942,
          1.0037,
          1.0265,
          1.0069,
          1.0073,
          1.003,
          0.9966,
          1.0106,
          0.9876,
          1.0074,
          0.9869,
          1.0129,
          1.0124,
          1.0691,
          0.9941,
          0.9988,
          1.0036,
          0.9954,
          1.0058,
          1.0404,
          0.9981,
          1.0171,
          0.9973,
          0.9975,
          0.9897,
          1.0359,
          1.0002,
          1.0015,
          1.0079,
          1.0056,
          0.912,
          1.0034,
          0.998
         ],
         "yaxis": "y"
        },
        {
         "hovertemplate": "<b>%{hovertext}</b><br><br>continent=Africa<br>Population Density (people/km²)=%{x}<br>Growth Rate=%{y}<br>2022 population=%{marker.size}<extra></extra>",
         "hovertext": [
          "Algeria",
          "Angola",
          "Benin",
          "Botswana",
          "Burkina Faso",
          "Burundi",
          "Cameroon",
          "Cape Verde",
          "Central African Republic",
          "Chad",
          "Comoros",
          "Djibouti",
          "DR Congo",
          "Egypt",
          "Equatorial Guinea",
          "Eritrea",
          "Eswatini",
          "Ethiopia",
          "Gabon",
          "Gambia",
          "Ghana",
          "Guinea",
          "Guinea-Bissau",
          "Ivory Coast",
          "Kenya",
          "Lesotho",
          "Liberia",
          "Libya",
          "Madagascar",
          "Malawi",
          "Mali",
          "Mauritania",
          "Mauritius",
          "Mayotte",
          "Morocco",
          "Mozambique",
          "Namibia",
          "Niger",
          "Nigeria",
          "Republic of the Congo",
          "Reunion",
          "Rwanda",
          "Sao Tome and Principe",
          "Senegal",
          "Seychelles",
          "Sierra Leone",
          "Somalia",
          "South Africa",
          "South Sudan",
          "Sudan",
          "Tanzania",
          "Togo",
          "Tunisia",
          "Uganda",
          "Western Sahara",
          "Zambia",
          "Zimbabwe"
         ],
         "legendgroup": "Africa",
         "marker": {
          "color": "#3E4989",
          "size": [
           44903225,
           35588987,
           13352864,
           2630296,
           22673762,
           12889576,
           27914536,
           593149,
           5579144,
           17723315,
           836774,
           1120849,
           99010212,
           110990103,
           1674908,
           3684032,
           1201670,
           123379924,
           2388992,
           2705992,
           33475870,
           13859341,
           2105566,
           28160542,
           54027487,
           2305825,
           5302681,
           6812341,
           29611714,
           20405317,
           22593590,
           4736139,
           1299469,
           326101,
           37457971,
           32969517,
           2567012,
           26207977,
           218541212,
           5970424,
           974052,
           13776698,
           227380,
           17316449,
           107118,
           8605718,
           17597511,
           59893885,
           10913164,
           46874204,
           65497748,
           8848699,
           12356117,
           47249585,
           575986,
           20017675,
           16320537
          ],
          "sizemode": "area",
          "sizeref": 1584319.2633333334,
          "symbol": "circle"
         },
         "mode": "markers",
         "name": "Africa",
         "orientation": "v",
         "showlegend": true,
         "type": "scatter",
         "x": [
          18.8531,
          28.5466,
          118.5635,
          4.5194,
          83.0641,
          463.0874,
          58.7128,
          147.0739,
          8.9555,
          13.8032,
          449.3953,
          48.3125,
          42.2244,
          110.7188,
          59.7094,
          31.3268,
          69.2047,
          111.7268,
          8.9252,
          253.1567,
          140.3406,
          56.3716,
          58.2856,
          87.3295,
          93.0919,
          75.962,
          47.6136,
          3.8717,
          50.4423,
          172.22,
          18.2178,
          4.5951,
          636.9946,
          871.9278,
          83.883,
          41.1302,
          3.1092,
          20.6851,
          236.5759,
          17.4574,
          387.914,
          523.0731,
          235.8714,
          88.025,
          236.9867,
          119.957,
          27.5971,
          49.0517,
          17.6091,
          24.8529,
          69.3034,
          155.8281,
          75.5218,
          195.61,
          2.1654,
          26.5976,
          41.7665
         ],
         "xaxis": "x",
         "y": [
          1.0164,
          1.0315,
          1.0274,
          1.0162,
          1.0259,
          1.027,
          1.0263,
          1.0089,
          1.0224,
          1.0316,
          1.0184,
          1.0138,
          1.0325,
          1.0158,
          1.0247,
          1.0176,
          1.0079,
          1.0257,
          1.0204,
          1.025,
          1.0196,
          1.0242,
          1.0218,
          1.0248,
          1.0193,
          1.0107,
          1.021,
          1.0114,
          1.0241,
          1.0259,
          1.0314,
          1.0263,
          1.0004,
          1.0319,
          1.0103,
          1.0278,
          1.0146,
          1.0378,
          1.0241,
          1.0231,
          1.0082,
          1.0234,
          1.0192,
          1.0261,
          1.0061,
          1.022,
          1.0312,
          1.0084,
          1.0153,
          1.0267,
          1.03,
          1.0236,
          1.0076,
          1.0304,
          1.0184,
          1.028,
          1.0204
         ],
         "yaxis": "y"
        },
        {
         "hovertemplate": "<b>%{hovertext}</b><br><br>continent=Oceania<br>Population Density (people/km²)=%{x}<br>Growth Rate=%{y}<br>2022 population=%{marker.size}<extra></extra>",
         "hovertext": [
          "American Samoa",
          "Australia",
          "Cook Islands",
          "Fiji",
          "French Polynesia",
          "Guam",
          "Kiribati",
          "Marshall Islands",
          "Micronesia",
          "Nauru",
          "New Caledonia",
          "New Zealand",
          "Niue",
          "Northern Mariana Islands",
          "Palau",
          "Papua New Guinea",
          "Samoa",
          "Solomon Islands",
          "Tokelau",
          "Tonga",
          "Tuvalu",
          "Vanuatu",
          "Wallis and Futuna"
         ],
         "legendgroup": "Oceania",
         "marker": {
          "color": "#31688E",
          "size": [
           44273,
           26177413,
           17011,
           929766,
           306279,
           171774,
           131232,
           41569,
           114164,
           12668,
           289950,
           5185288,
           1934,
           49551,
           18055,
           10142619,
           222382,
           724273,
           1871,
           106858,
           11312,
           326740,
           11572
          ],
          "sizemode": "area",
          "sizeref": 1584319.2633333334,
          "symbol": "circle"
         },
         "mode": "markers",
         "name": "Oceania",
         "orientation": "v",
         "showlegend": true,
         "type": "scatter",
         "x": [
          222.4774,
          3.4032,
          72.0805,
          50.8847,
          73.5011,
          312.8852,
          161.815,
          229.663,
          162.6268,
          603.2381,
          15.6097,
          19.1716,
          7.4385,
          106.7909,
          39.3355,
          21.9139,
          78.2484,
          25.0648,
          155.9167,
          143.0495,
          435.0769,
          26.8061,
          81.493
         ],
         "xaxis": "x",
         "y": [
          0.9831,
          1.0099,
          1.0005,
          1.0056,
          1.0074,
          1.0073,
          1.0183,
          0.9886,
          1.0091,
          1.0125,
          1.0075,
          1.0108,
          0.9985,
          1.0014,
          1.0017,
          1.0194,
          1.0165,
          1.0232,
          1.0119,
          1.0079,
          1.0096,
          1.0238,
          0.9953
         ],
         "yaxis": "y"
        },
        {
         "hovertemplate": "<b>%{hovertext}</b><br><br>continent=North America<br>Population Density (people/km²)=%{x}<br>Growth Rate=%{y}<br>2022 population=%{marker.size}<extra></extra>",
         "hovertext": [
          "Anguilla",
          "Antigua and Barbuda",
          "Aruba",
          "Bahamas",
          "Barbados",
          "Belize",
          "Bermuda",
          "British Virgin Islands",
          "Canada",
          "Cayman Islands",
          "Costa Rica",
          "Cuba",
          "Curacao",
          "Dominica",
          "Dominican Republic",
          "El Salvador",
          "Greenland",
          "Grenada",
          "Guadeloupe",
          "Guatemala",
          "Haiti",
          "Honduras",
          "Jamaica",
          "Martinique",
          "Mexico",
          "Montserrat",
          "Nicaragua",
          "Panama",
          "Puerto Rico",
          "Saint Barthelemy",
          "Saint Kitts and Nevis",
          "Saint Lucia",
          "Saint Martin",
          "Saint Pierre and Miquelon",
          "Saint Vincent and the Grenadines",
          "Sint Maarten",
          "Trinidad and Tobago",
          "Turks and Caicos Islands",
          "United States",
          "United States Virgin Islands"
         ],
         "legendgroup": "North America",
         "marker": {
          "color": "#26828E",
          "size": [
           15857,
           93763,
           106445,
           409984,
           281635,
           405272,
           64184,
           31305,
           38454327,
           68706,
           5180829,
           11212191,
           191163,
           72737,
           11228821,
           6336392,
           56466,
           125438,
           395752,
           17843908,
           11584996,
           10432860,
           2827377,
           367507,
           127504125,
           4390,
           6948392,
           4408581,
           3252407,
           10967,
           47657,
           179857,
           31791,
           5862,
           103948,
           44175,
           1531044,
           45703,
           338289857,
           99465
          ],
          "sizemode": "area",
          "sizeref": 1584319.2633333334,
          "symbol": "circle"
         },
         "mode": "markers",
         "name": "North America",
         "orientation": "v",
         "showlegend": true,
         "type": "scatter",
         "x": [
          174.2527,
          212.1335,
          591.3611,
          29.4043,
          654.9651,
          17.6466,
          1188.5926,
          207.3179,
          3.8513,
          260.25,
          101.3861,
          102.0366,
          430.5473,
          96.8535,
          230.7087,
          301.145,
          0.0261,
          364.6453,
          243.0909,
          163.8725,
          417.4773,
          92.7431,
          257.2447,
          325.8041,
          64.9082,
          43.0392,
          53.2962,
          58.4561,
          366.675,
          522.2381,
          182.5939,
          291.9756,
          599.8302,
          24.2231,
          267.2185,
          1299.2647,
          298.4491,
          48.2099,
          36.0935,
          286.6427
         ],
         "xaxis": "x",
         "y": [
          1.0066,
          1.0058,
          0.9991,
          1.0051,
          1.0015,
          1.0131,
          1,
          1.0059,
          1.0078,
          1.0084,
          1.0052,
          0.9961,
          1.0043,
          1.0045,
          1.01,
          1.0035,
          1.004,
          1.0066,
          0.9992,
          1.0134,
          1.012,
          1.015,
          0.9999,
          0.9965,
          1.0063,
          0.9939,
          1.0143,
          1.0132,
          0.9989,
          1.0098,
          1.0011,
          1.0011,
          0.9951,
          0.9964,
          0.9963,
          1.003,
          1.0035,
          1.0131,
          1.0038,
          0.9937
         ],
         "yaxis": "y"
        },
        {
         "hovertemplate": "<b>%{hovertext}</b><br><br>continent=South America<br>Population Density (people/km²)=%{x}<br>Growth Rate=%{y}<br>2022 population=%{marker.size}<extra></extra>",
         "hovertext": [
          "Argentina",
          "Bolivia",
          "Brazil",
          "Chile",
          "Colombia",
          "Ecuador",
          "Falkland Islands",
          "French Guiana",
          "Guyana",
          "Paraguay",
          "Peru",
          "Suriname",
          "Uruguay",
          "Venezuela"
         ],
         "legendgroup": "South America",
         "marker": {
          "color": "#1F9E89",
          "size": [
           45510318,
           12224110,
           215313498,
           19603733,
           51874024,
           18001000,
           3780,
           304557,
           808726,
           6780744,
           34049588,
           618040,
           3422794,
           28301696
          ],
          "sizemode": "area",
          "sizeref": 1584319.2633333334,
          "symbol": "circle"
         },
         "mode": "markers",
         "name": "South America",
         "orientation": "v",
         "showlegend": true,
         "type": "scatter",
         "x": [
          16.3683,
          11.1272,
          25.2841,
          25.9274,
          45.4339,
          65.0229,
          0.3105,
          3.6459,
          3.7621,
          16.6705,
          26.4933,
          3.7727,
          18.9069,
          30.882
         ],
         "xaxis": "x",
         "y": [
          1.0052,
          1.012,
          1.0046,
          1.0057,
          1.0069,
          1.0114,
          1.0043,
          1.0239,
          1.0052,
          1.0115,
          1.0099,
          1.0082,
          0.999,
          1.0036
         ],
         "yaxis": "y"
        }
       ],
       "layout": {
        "height": 800,
        "legend": {
         "itemsizing": "constant",
         "title": {
          "text": "continent"
         },
         "tracegroupgap": 0
        },
        "template": {
         "data": {
          "bar": [
           {
            "error_x": {
             "color": "#2a3f5f"
            },
            "error_y": {
             "color": "#2a3f5f"
            },
            "marker": {
             "line": {
              "color": "#E5ECF6",
              "width": 0.5
             },
             "pattern": {
              "fillmode": "overlay",
              "size": 10,
              "solidity": 0.2
             }
            },
            "type": "bar"
           }
          ],
          "barpolar": [
           {
            "marker": {
             "line": {
              "color": "#E5ECF6",
              "width": 0.5
             },
             "pattern": {
              "fillmode": "overlay",
              "size": 10,
              "solidity": 0.2
             }
            },
            "type": "barpolar"
           }
          ],
          "carpet": [
           {
            "aaxis": {
             "endlinecolor": "#2a3f5f",
             "gridcolor": "white",
             "linecolor": "white",
             "minorgridcolor": "white",
             "startlinecolor": "#2a3f5f"
            },
            "baxis": {
             "endlinecolor": "#2a3f5f",
             "gridcolor": "white",
             "linecolor": "white",
             "minorgridcolor": "white",
             "startlinecolor": "#2a3f5f"
            },
            "type": "carpet"
           }
          ],
          "choropleth": [
           {
            "colorbar": {
             "outlinewidth": 0,
             "ticks": ""
            },
            "type": "choropleth"
           }
          ],
          "contour": [
           {
            "colorbar": {
             "outlinewidth": 0,
             "ticks": ""
            },
            "colorscale": [
             [
              0,
              "#0d0887"
             ],
             [
              0.1111111111111111,
              "#46039f"
             ],
             [
              0.2222222222222222,
              "#7201a8"
             ],
             [
              0.3333333333333333,
              "#9c179e"
             ],
             [
              0.4444444444444444,
              "#bd3786"
             ],
             [
              0.5555555555555556,
              "#d8576b"
             ],
             [
              0.6666666666666666,
              "#ed7953"
             ],
             [
              0.7777777777777778,
              "#fb9f3a"
             ],
             [
              0.8888888888888888,
              "#fdca26"
             ],
             [
              1,
              "#f0f921"
             ]
            ],
            "type": "contour"
           }
          ],
          "contourcarpet": [
           {
            "colorbar": {
             "outlinewidth": 0,
             "ticks": ""
            },
            "type": "contourcarpet"
           }
          ],
          "heatmap": [
           {
            "colorbar": {
             "outlinewidth": 0,
             "ticks": ""
            },
            "colorscale": [
             [
              0,
              "#0d0887"
             ],
             [
              0.1111111111111111,
              "#46039f"
             ],
             [
              0.2222222222222222,
              "#7201a8"
             ],
             [
              0.3333333333333333,
              "#9c179e"
             ],
             [
              0.4444444444444444,
              "#bd3786"
             ],
             [
              0.5555555555555556,
              "#d8576b"
             ],
             [
              0.6666666666666666,
              "#ed7953"
             ],
             [
              0.7777777777777778,
              "#fb9f3a"
             ],
             [
              0.8888888888888888,
              "#fdca26"
             ],
             [
              1,
              "#f0f921"
             ]
            ],
            "type": "heatmap"
           }
          ],
          "heatmapgl": [
           {
            "colorbar": {
             "outlinewidth": 0,
             "ticks": ""
            },
            "colorscale": [
             [
              0,
              "#0d0887"
             ],
             [
              0.1111111111111111,
              "#46039f"
             ],
             [
              0.2222222222222222,
              "#7201a8"
             ],
             [
              0.3333333333333333,
              "#9c179e"
             ],
             [
              0.4444444444444444,
              "#bd3786"
             ],
             [
              0.5555555555555556,
              "#d8576b"
             ],
             [
              0.6666666666666666,
              "#ed7953"
             ],
             [
              0.7777777777777778,
              "#fb9f3a"
             ],
             [
              0.8888888888888888,
              "#fdca26"
             ],
             [
              1,
              "#f0f921"
             ]
            ],
            "type": "heatmapgl"
           }
          ],
          "histogram": [
           {
            "marker": {
             "pattern": {
              "fillmode": "overlay",
              "size": 10,
              "solidity": 0.2
             }
            },
            "type": "histogram"
           }
          ],
          "histogram2d": [
           {
            "colorbar": {
             "outlinewidth": 0,
             "ticks": ""
            },
            "colorscale": [
             [
              0,
              "#0d0887"
             ],
             [
              0.1111111111111111,
              "#46039f"
             ],
             [
              0.2222222222222222,
              "#7201a8"
             ],
             [
              0.3333333333333333,
              "#9c179e"
             ],
             [
              0.4444444444444444,
              "#bd3786"
             ],
             [
              0.5555555555555556,
              "#d8576b"
             ],
             [
              0.6666666666666666,
              "#ed7953"
             ],
             [
              0.7777777777777778,
              "#fb9f3a"
             ],
             [
              0.8888888888888888,
              "#fdca26"
             ],
             [
              1,
              "#f0f921"
             ]
            ],
            "type": "histogram2d"
           }
          ],
          "histogram2dcontour": [
           {
            "colorbar": {
             "outlinewidth": 0,
             "ticks": ""
            },
            "colorscale": [
             [
              0,
              "#0d0887"
             ],
             [
              0.1111111111111111,
              "#46039f"
             ],
             [
              0.2222222222222222,
              "#7201a8"
             ],
             [
              0.3333333333333333,
              "#9c179e"
             ],
             [
              0.4444444444444444,
              "#bd3786"
             ],
             [
              0.5555555555555556,
              "#d8576b"
             ],
             [
              0.6666666666666666,
              "#ed7953"
             ],
             [
              0.7777777777777778,
              "#fb9f3a"
             ],
             [
              0.8888888888888888,
              "#fdca26"
             ],
             [
              1,
              "#f0f921"
             ]
            ],
            "type": "histogram2dcontour"
           }
          ],
          "mesh3d": [
           {
            "colorbar": {
             "outlinewidth": 0,
             "ticks": ""
            },
            "type": "mesh3d"
           }
          ],
          "parcoords": [
           {
            "line": {
             "colorbar": {
              "outlinewidth": 0,
              "ticks": ""
             }
            },
            "type": "parcoords"
           }
          ],
          "pie": [
           {
            "automargin": true,
            "type": "pie"
           }
          ],
          "scatter": [
           {
            "fillpattern": {
             "fillmode": "overlay",
             "size": 10,
             "solidity": 0.2
            },
            "type": "scatter"
           }
          ],
          "scatter3d": [
           {
            "line": {
             "colorbar": {
              "outlinewidth": 0,
              "ticks": ""
             }
            },
            "marker": {
             "colorbar": {
              "outlinewidth": 0,
              "ticks": ""
             }
            },
            "type": "scatter3d"
           }
          ],
          "scattercarpet": [
           {
            "marker": {
             "colorbar": {
              "outlinewidth": 0,
              "ticks": ""
             }
            },
            "type": "scattercarpet"
           }
          ],
          "scattergeo": [
           {
            "marker": {
             "colorbar": {
              "outlinewidth": 0,
              "ticks": ""
             }
            },
            "type": "scattergeo"
           }
          ],
          "scattergl": [
           {
            "marker": {
             "colorbar": {
              "outlinewidth": 0,
              "ticks": ""
             }
            },
            "type": "scattergl"
           }
          ],
          "scattermapbox": [
           {
            "marker": {
             "colorbar": {
              "outlinewidth": 0,
              "ticks": ""
             }
            },
            "type": "scattermapbox"
           }
          ],
          "scatterpolar": [
           {
            "marker": {
             "colorbar": {
              "outlinewidth": 0,
              "ticks": ""
             }
            },
            "type": "scatterpolar"
           }
          ],
          "scatterpolargl": [
           {
            "marker": {
             "colorbar": {
              "outlinewidth": 0,
              "ticks": ""
             }
            },
            "type": "scatterpolargl"
           }
          ],
          "scatterternary": [
           {
            "marker": {
             "colorbar": {
              "outlinewidth": 0,
              "ticks": ""
             }
            },
            "type": "scatterternary"
           }
          ],
          "surface": [
           {
            "colorbar": {
             "outlinewidth": 0,
             "ticks": ""
            },
            "colorscale": [
             [
              0,
              "#0d0887"
             ],
             [
              0.1111111111111111,
              "#46039f"
             ],
             [
              0.2222222222222222,
              "#7201a8"
             ],
             [
              0.3333333333333333,
              "#9c179e"
             ],
             [
              0.4444444444444444,
              "#bd3786"
             ],
             [
              0.5555555555555556,
              "#d8576b"
             ],
             [
              0.6666666666666666,
              "#ed7953"
             ],
             [
              0.7777777777777778,
              "#fb9f3a"
             ],
             [
              0.8888888888888888,
              "#fdca26"
             ],
             [
              1,
              "#f0f921"
             ]
            ],
            "type": "surface"
           }
          ],
          "table": [
           {
            "cells": {
             "fill": {
              "color": "#EBF0F8"
             },
             "line": {
              "color": "white"
             }
            },
            "header": {
             "fill": {
              "color": "#C8D4E3"
             },
             "line": {
              "color": "white"
             }
            },
            "type": "table"
           }
          ]
         },
         "layout": {
          "annotationdefaults": {
           "arrowcolor": "#2a3f5f",
           "arrowhead": 0,
           "arrowwidth": 1
          },
          "autotypenumbers": "strict",
          "coloraxis": {
           "colorbar": {
            "outlinewidth": 0,
            "ticks": ""
           }
          },
          "colorscale": {
           "diverging": [
            [
             0,
             "#8e0152"
            ],
            [
             0.1,
             "#c51b7d"
            ],
            [
             0.2,
             "#de77ae"
            ],
            [
             0.3,
             "#f1b6da"
            ],
            [
             0.4,
             "#fde0ef"
            ],
            [
             0.5,
             "#f7f7f7"
            ],
            [
             0.6,
             "#e6f5d0"
            ],
            [
             0.7,
             "#b8e186"
            ],
            [
             0.8,
             "#7fbc41"
            ],
            [
             0.9,
             "#4d9221"
            ],
            [
             1,
             "#276419"
            ]
           ],
           "sequential": [
            [
             0,
             "#0d0887"
            ],
            [
             0.1111111111111111,
             "#46039f"
            ],
            [
             0.2222222222222222,
             "#7201a8"
            ],
            [
             0.3333333333333333,
             "#9c179e"
            ],
            [
             0.4444444444444444,
             "#bd3786"
            ],
            [
             0.5555555555555556,
             "#d8576b"
            ],
            [
             0.6666666666666666,
             "#ed7953"
            ],
            [
             0.7777777777777778,
             "#fb9f3a"
            ],
            [
             0.8888888888888888,
             "#fdca26"
            ],
            [
             1,
             "#f0f921"
            ]
           ],
           "sequentialminus": [
            [
             0,
             "#0d0887"
            ],
            [
             0.1111111111111111,
             "#46039f"
            ],
            [
             0.2222222222222222,
             "#7201a8"
            ],
            [
             0.3333333333333333,
             "#9c179e"
            ],
            [
             0.4444444444444444,
             "#bd3786"
            ],
            [
             0.5555555555555556,
             "#d8576b"
            ],
            [
             0.6666666666666666,
             "#ed7953"
            ],
            [
             0.7777777777777778,
             "#fb9f3a"
            ],
            [
             0.8888888888888888,
             "#fdca26"
            ],
            [
             1,
             "#f0f921"
            ]
           ]
          },
          "colorway": [
           "#636efa",
           "#EF553B",
           "#00cc96",
           "#ab63fa",
           "#FFA15A",
           "#19d3f3",
           "#FF6692",
           "#B6E880",
           "#FF97FF",
           "#FECB52"
          ],
          "font": {
           "color": "#2a3f5f"
          },
          "geo": {
           "bgcolor": "white",
           "lakecolor": "white",
           "landcolor": "#E5ECF6",
           "showlakes": true,
           "showland": true,
           "subunitcolor": "white"
          },
          "hoverlabel": {
           "align": "left"
          },
          "hovermode": "closest",
          "mapbox": {
           "style": "light"
          },
          "paper_bgcolor": "white",
          "plot_bgcolor": "#E5ECF6",
          "polar": {
           "angularaxis": {
            "gridcolor": "white",
            "linecolor": "white",
            "ticks": ""
           },
           "bgcolor": "#E5ECF6",
           "radialaxis": {
            "gridcolor": "white",
            "linecolor": "white",
            "ticks": ""
           }
          },
          "scene": {
           "xaxis": {
            "backgroundcolor": "#E5ECF6",
            "gridcolor": "white",
            "gridwidth": 2,
            "linecolor": "white",
            "showbackground": true,
            "ticks": "",
            "zerolinecolor": "white"
           },
           "yaxis": {
            "backgroundcolor": "#E5ECF6",
            "gridcolor": "white",
            "gridwidth": 2,
            "linecolor": "white",
            "showbackground": true,
            "ticks": "",
            "zerolinecolor": "white"
           },
           "zaxis": {
            "backgroundcolor": "#E5ECF6",
            "gridcolor": "white",
            "gridwidth": 2,
            "linecolor": "white",
            "showbackground": true,
            "ticks": "",
            "zerolinecolor": "white"
           }
          },
          "shapedefaults": {
           "line": {
            "color": "#2a3f5f"
           }
          },
          "ternary": {
           "aaxis": {
            "gridcolor": "white",
            "linecolor": "white",
            "ticks": ""
           },
           "baxis": {
            "gridcolor": "white",
            "linecolor": "white",
            "ticks": ""
           },
           "bgcolor": "#E5ECF6",
           "caxis": {
            "gridcolor": "white",
            "linecolor": "white",
            "ticks": ""
           }
          },
          "title": {
           "x": 0.05
          },
          "xaxis": {
           "automargin": true,
           "gridcolor": "white",
           "linecolor": "white",
           "ticks": "",
           "title": {
            "standoff": 15
           },
           "zerolinecolor": "white",
           "zerolinewidth": 2
          },
          "yaxis": {
           "automargin": true,
           "gridcolor": "white",
           "linecolor": "white",
           "ticks": "",
           "title": {
            "standoff": 15
           },
           "zerolinecolor": "white",
           "zerolinewidth": 2
          }
         }
        },
        "title": {
         "text": "Growth Rate vs. Population Density"
        },
        "width": 1200,
        "xaxis": {
         "anchor": "y",
         "domain": [
          0,
          1
         ],
         "title": {
          "text": "Population Density (people/km²)"
         }
        },
        "yaxis": {
         "anchor": "x",
         "domain": [
          0,
          1
         ],
         "title": {
          "text": "Growth Rate"
         }
        }
       }
      },
      "text/html": [
       "<div>                            <div id=\"1581b894-2cb7-4630-8146-23e897a225cb\" class=\"plotly-graph-div\" style=\"height:800px; width:1200px;\"></div>            <script type=\"text/javascript\">                require([\"plotly\"], function(Plotly) {                    window.PLOTLYENV=window.PLOTLYENV || {};                                    if (document.getElementById(\"1581b894-2cb7-4630-8146-23e897a225cb\")) {                    Plotly.newPlot(                        \"1581b894-2cb7-4630-8146-23e897a225cb\",                        [{\"hovertemplate\":\"\\u003cb\\u003e%{hovertext}\\u003c\\u002fb\\u003e\\u003cbr\\u003e\\u003cbr\\u003econtinent=Asia\\u003cbr\\u003ePopulation Density (people\\u002fkm\\u00b2)=%{x}\\u003cbr\\u003eGrowth Rate=%{y}\\u003cbr\\u003e2022 population=%{marker.size}\\u003cextra\\u003e\\u003c\\u002fextra\\u003e\",\"hovertext\":[\"Afghanistan\",\"Armenia\",\"Azerbaijan\",\"Bahrain\",\"Bangladesh\",\"Bhutan\",\"Brunei\",\"Cambodia\",\"China\",\"Georgia\",\"Hong Kong\",\"India\",\"Indonesia\",\"Iran\",\"Iraq\",\"Israel\",\"Japan\",\"Jordan\",\"Kazakhstan\",\"Kuwait\",\"Kyrgyzstan\",\"Laos\",\"Lebanon\",\"Macau\",\"Malaysia\",\"Maldives\",\"Mongolia\",\"Myanmar\",\"Nepal\",\"North Korea\",\"Oman\",\"Pakistan\",\"Palestine\",\"Philippines\",\"Qatar\",\"Saudi Arabia\",\"Singapore\",\"South Korea\",\"Sri Lanka\",\"Syria\",\"Taiwan\",\"Tajikistan\",\"Thailand\",\"Timor-Leste\",\"Turkey\",\"Turkmenistan\",\"United Arab Emirates\",\"Uzbekistan\",\"Vietnam\",\"Yemen\"],\"legendgroup\":\"Asia\",\"marker\":{\"color\":\"#440154\",\"size\":[41128771,2780469,10358074,1472233,171186372,782455,449002,16767842,1425887337,3744385,7488865,1417173173,275501339,88550570,44496122,9038309,123951692,11285869,19397998,4268873,6630623,7529475,5489739,695168,33938221,523787,3398366,54179306,30547580,26069416,4576298,235824862,5250072,115559009,2695122,36408820,5975689,51815810,21832143,22125249,23893394,9952787,71697030,1341296,85341241,6430770,9441129,34627652,98186856,33696614],\"sizemode\":\"area\",\"sizeref\":1584319.2633333334,\"symbol\":\"circle\"},\"mode\":\"markers\",\"name\":\"Asia\",\"orientation\":\"v\",\"showlegend\":true,\"x\":[63.0587,93.4831,119.6082,1924.4876,1160.035,20.3796,77.8841,92.6221,146.8933,53.7214,6783.3922,431.0675,144.6529,53.7258,101.5158,435.1617,327.9753,126.3221,7.1188,239.5821,33.1612,31.7968,525.2334,23172.2667,102.5934,1745.9567,2.1727,80.0784,207.5511,216.2755,14.7861,267.4018,844.063,337.5434,232.6189,16.9368,8416.4634,517.0722,332.7563,119.4797,660.1662,69.5513,139.7276,90.1772,108.9145,13.1751,112.9322,77.3975,296.4472,63.8232],\"xaxis\":\"x\",\"y\":[1.0257,0.9962,1.0044,1.0061,1.0108,1.0064,1.0081,1.0108,1.0,0.9964,0.9992,1.0068,1.0064,1.0071,1.0221,1.0155,0.9947,1.0123,1.0105,1.0044,1.0158,1.0141,0.9816,1.0125,1.0109,1.0045,1.0151,1.0071,1.0171,1.0038,1.0123,1.0191,1.0227,1.0147,1.0026,1.0128,1.0058,0.9997,1.0027,1.0376,1.0014,1.0208,1.0013,1.0154,1.0067,1.014,1.0081,1.016,1.0074,1.0217],\"yaxis\":\"y\",\"type\":\"scatter\"},{\"hovertemplate\":\"\\u003cb\\u003e%{hovertext}\\u003c\\u002fb\\u003e\\u003cbr\\u003e\\u003cbr\\u003econtinent=Europe\\u003cbr\\u003ePopulation Density (people\\u002fkm\\u00b2)=%{x}\\u003cbr\\u003eGrowth Rate=%{y}\\u003cbr\\u003e2022 population=%{marker.size}\\u003cextra\\u003e\\u003c\\u002fextra\\u003e\",\"hovertext\":[\"Albania\",\"Andorra\",\"Austria\",\"Belarus\",\"Belgium\",\"Bosnia and Herzegovina\",\"Bulgaria\",\"Croatia\",\"Cyprus\",\"Czech Republic\",\"Denmark\",\"Estonia\",\"Faroe Islands\",\"Finland\",\"France\",\"Germany\",\"Gibraltar\",\"Greece\",\"Guernsey\",\"Hungary\",\"Iceland\",\"Ireland\",\"Isle of Man\",\"Italy\",\"Jersey\",\"Latvia\",\"Liechtenstein\",\"Lithuania\",\"Luxembourg\",\"Malta\",\"Moldova\",\"Monaco\",\"Montenegro\",\"Netherlands\",\"North Macedonia\",\"Norway\",\"Poland\",\"Portugal\",\"Romania\",\"Russia\",\"San Marino\",\"Serbia\",\"Slovakia\",\"Slovenia\",\"Spain\",\"Sweden\",\"Switzerland\",\"Ukraine\",\"United Kingdom\",\"Vatican City\"],\"legendgroup\":\"Europe\",\"marker\":{\"color\":\"#482677\",\"size\":[2842321,79824,8939617,9534954,11655930,3233526,6781953,4030358,1251488,10493986,5882261,1326062,53090,5540745,64626628,83369843,32649,10384971,63301,9967308,372899,5023109,84519,59037474,110778,1850651,39327,2750055,647599,533286,3272996,36469,627082,17564014,2093599,5434319,39857145,10270865,19659267,144713314,33660,7221365,5643453,2119844,47558630,10549347,8740472,39701739,67508936,510],\"sizemode\":\"area\",\"sizeref\":1584319.2633333334,\"symbol\":\"circle\"},\"mode\":\"markers\",\"name\":\"Europe\",\"orientation\":\"v\",\"showlegend\":true,\"x\":[98.8702,170.5641,106.5877,45.9295,381.8111,63.1437,61.1654,71.2153,135.2814,133.0627,136.4984,29.3201,38.112,16.3722,117.1419,233.4544,5441.5,78.68,811.5513,107.1431,3.6204,71.4799,147.7605,195.9191,954.9828,28.666,245.7937,42.1142,250.425,1687.6139,96.7026,18234.5,45.4012,419.6897,81.4218,16.7828,127.4698,111.5307,82.4665,8.4636,551.8033,81.7257,115.0856,104.5649,93.9909,23.4276,211.7157,65.7858,277.9289,510.0],\"xaxis\":\"x\",\"y\":[0.9957,1.01,1.002,0.9955,1.0038,0.9886,0.9849,0.9927,1.0059,0.9984,1.0048,0.998,1.0038,1.0009,1.0015,0.9995,0.9994,0.9942,1.0037,1.0265,1.0069,1.0073,1.003,0.9966,1.0106,0.9876,1.0074,0.9869,1.0129,1.0124,1.0691,0.9941,0.9988,1.0036,0.9954,1.0058,1.0404,0.9981,1.0171,0.9973,0.9975,0.9897,1.0359,1.0002,1.0015,1.0079,1.0056,0.912,1.0034,0.998],\"yaxis\":\"y\",\"type\":\"scatter\"},{\"hovertemplate\":\"\\u003cb\\u003e%{hovertext}\\u003c\\u002fb\\u003e\\u003cbr\\u003e\\u003cbr\\u003econtinent=Africa\\u003cbr\\u003ePopulation Density (people\\u002fkm\\u00b2)=%{x}\\u003cbr\\u003eGrowth Rate=%{y}\\u003cbr\\u003e2022 population=%{marker.size}\\u003cextra\\u003e\\u003c\\u002fextra\\u003e\",\"hovertext\":[\"Algeria\",\"Angola\",\"Benin\",\"Botswana\",\"Burkina Faso\",\"Burundi\",\"Cameroon\",\"Cape Verde\",\"Central African Republic\",\"Chad\",\"Comoros\",\"Djibouti\",\"DR Congo\",\"Egypt\",\"Equatorial Guinea\",\"Eritrea\",\"Eswatini\",\"Ethiopia\",\"Gabon\",\"Gambia\",\"Ghana\",\"Guinea\",\"Guinea-Bissau\",\"Ivory Coast\",\"Kenya\",\"Lesotho\",\"Liberia\",\"Libya\",\"Madagascar\",\"Malawi\",\"Mali\",\"Mauritania\",\"Mauritius\",\"Mayotte\",\"Morocco\",\"Mozambique\",\"Namibia\",\"Niger\",\"Nigeria\",\"Republic of the Congo\",\"Reunion\",\"Rwanda\",\"Sao Tome and Principe\",\"Senegal\",\"Seychelles\",\"Sierra Leone\",\"Somalia\",\"South Africa\",\"South Sudan\",\"Sudan\",\"Tanzania\",\"Togo\",\"Tunisia\",\"Uganda\",\"Western Sahara\",\"Zambia\",\"Zimbabwe\"],\"legendgroup\":\"Africa\",\"marker\":{\"color\":\"#3E4989\",\"size\":[44903225,35588987,13352864,2630296,22673762,12889576,27914536,593149,5579144,17723315,836774,1120849,99010212,110990103,1674908,3684032,1201670,123379924,2388992,2705992,33475870,13859341,2105566,28160542,54027487,2305825,5302681,6812341,29611714,20405317,22593590,4736139,1299469,326101,37457971,32969517,2567012,26207977,218541212,5970424,974052,13776698,227380,17316449,107118,8605718,17597511,59893885,10913164,46874204,65497748,8848699,12356117,47249585,575986,20017675,16320537],\"sizemode\":\"area\",\"sizeref\":1584319.2633333334,\"symbol\":\"circle\"},\"mode\":\"markers\",\"name\":\"Africa\",\"orientation\":\"v\",\"showlegend\":true,\"x\":[18.8531,28.5466,118.5635,4.5194,83.0641,463.0874,58.7128,147.0739,8.9555,13.8032,449.3953,48.3125,42.2244,110.7188,59.7094,31.3268,69.2047,111.7268,8.9252,253.1567,140.3406,56.3716,58.2856,87.3295,93.0919,75.962,47.6136,3.8717,50.4423,172.22,18.2178,4.5951,636.9946,871.9278,83.883,41.1302,3.1092,20.6851,236.5759,17.4574,387.914,523.0731,235.8714,88.025,236.9867,119.957,27.5971,49.0517,17.6091,24.8529,69.3034,155.8281,75.5218,195.61,2.1654,26.5976,41.7665],\"xaxis\":\"x\",\"y\":[1.0164,1.0315,1.0274,1.0162,1.0259,1.027,1.0263,1.0089,1.0224,1.0316,1.0184,1.0138,1.0325,1.0158,1.0247,1.0176,1.0079,1.0257,1.0204,1.025,1.0196,1.0242,1.0218,1.0248,1.0193,1.0107,1.021,1.0114,1.0241,1.0259,1.0314,1.0263,1.0004,1.0319,1.0103,1.0278,1.0146,1.0378,1.0241,1.0231,1.0082,1.0234,1.0192,1.0261,1.0061,1.022,1.0312,1.0084,1.0153,1.0267,1.03,1.0236,1.0076,1.0304,1.0184,1.028,1.0204],\"yaxis\":\"y\",\"type\":\"scatter\"},{\"hovertemplate\":\"\\u003cb\\u003e%{hovertext}\\u003c\\u002fb\\u003e\\u003cbr\\u003e\\u003cbr\\u003econtinent=Oceania\\u003cbr\\u003ePopulation Density (people\\u002fkm\\u00b2)=%{x}\\u003cbr\\u003eGrowth Rate=%{y}\\u003cbr\\u003e2022 population=%{marker.size}\\u003cextra\\u003e\\u003c\\u002fextra\\u003e\",\"hovertext\":[\"American Samoa\",\"Australia\",\"Cook Islands\",\"Fiji\",\"French Polynesia\",\"Guam\",\"Kiribati\",\"Marshall Islands\",\"Micronesia\",\"Nauru\",\"New Caledonia\",\"New Zealand\",\"Niue\",\"Northern Mariana Islands\",\"Palau\",\"Papua New Guinea\",\"Samoa\",\"Solomon Islands\",\"Tokelau\",\"Tonga\",\"Tuvalu\",\"Vanuatu\",\"Wallis and Futuna\"],\"legendgroup\":\"Oceania\",\"marker\":{\"color\":\"#31688E\",\"size\":[44273,26177413,17011,929766,306279,171774,131232,41569,114164,12668,289950,5185288,1934,49551,18055,10142619,222382,724273,1871,106858,11312,326740,11572],\"sizemode\":\"area\",\"sizeref\":1584319.2633333334,\"symbol\":\"circle\"},\"mode\":\"markers\",\"name\":\"Oceania\",\"orientation\":\"v\",\"showlegend\":true,\"x\":[222.4774,3.4032,72.0805,50.8847,73.5011,312.8852,161.815,229.663,162.6268,603.2381,15.6097,19.1716,7.4385,106.7909,39.3355,21.9139,78.2484,25.0648,155.9167,143.0495,435.0769,26.8061,81.493],\"xaxis\":\"x\",\"y\":[0.9831,1.0099,1.0005,1.0056,1.0074,1.0073,1.0183,0.9886,1.0091,1.0125,1.0075,1.0108,0.9985,1.0014,1.0017,1.0194,1.0165,1.0232,1.0119,1.0079,1.0096,1.0238,0.9953],\"yaxis\":\"y\",\"type\":\"scatter\"},{\"hovertemplate\":\"\\u003cb\\u003e%{hovertext}\\u003c\\u002fb\\u003e\\u003cbr\\u003e\\u003cbr\\u003econtinent=North America\\u003cbr\\u003ePopulation Density (people\\u002fkm\\u00b2)=%{x}\\u003cbr\\u003eGrowth Rate=%{y}\\u003cbr\\u003e2022 population=%{marker.size}\\u003cextra\\u003e\\u003c\\u002fextra\\u003e\",\"hovertext\":[\"Anguilla\",\"Antigua and Barbuda\",\"Aruba\",\"Bahamas\",\"Barbados\",\"Belize\",\"Bermuda\",\"British Virgin Islands\",\"Canada\",\"Cayman Islands\",\"Costa Rica\",\"Cuba\",\"Curacao\",\"Dominica\",\"Dominican Republic\",\"El Salvador\",\"Greenland\",\"Grenada\",\"Guadeloupe\",\"Guatemala\",\"Haiti\",\"Honduras\",\"Jamaica\",\"Martinique\",\"Mexico\",\"Montserrat\",\"Nicaragua\",\"Panama\",\"Puerto Rico\",\"Saint Barthelemy\",\"Saint Kitts and Nevis\",\"Saint Lucia\",\"Saint Martin\",\"Saint Pierre and Miquelon\",\"Saint Vincent and the Grenadines\",\"Sint Maarten\",\"Trinidad and Tobago\",\"Turks and Caicos Islands\",\"United States\",\"United States Virgin Islands\"],\"legendgroup\":\"North America\",\"marker\":{\"color\":\"#26828E\",\"size\":[15857,93763,106445,409984,281635,405272,64184,31305,38454327,68706,5180829,11212191,191163,72737,11228821,6336392,56466,125438,395752,17843908,11584996,10432860,2827377,367507,127504125,4390,6948392,4408581,3252407,10967,47657,179857,31791,5862,103948,44175,1531044,45703,338289857,99465],\"sizemode\":\"area\",\"sizeref\":1584319.2633333334,\"symbol\":\"circle\"},\"mode\":\"markers\",\"name\":\"North America\",\"orientation\":\"v\",\"showlegend\":true,\"x\":[174.2527,212.1335,591.3611,29.4043,654.9651,17.6466,1188.5926,207.3179,3.8513,260.25,101.3861,102.0366,430.5473,96.8535,230.7087,301.145,0.0261,364.6453,243.0909,163.8725,417.4773,92.7431,257.2447,325.8041,64.9082,43.0392,53.2962,58.4561,366.675,522.2381,182.5939,291.9756,599.8302,24.2231,267.2185,1299.2647,298.4491,48.2099,36.0935,286.6427],\"xaxis\":\"x\",\"y\":[1.0066,1.0058,0.9991,1.0051,1.0015,1.0131,1.0,1.0059,1.0078,1.0084,1.0052,0.9961,1.0043,1.0045,1.01,1.0035,1.004,1.0066,0.9992,1.0134,1.012,1.015,0.9999,0.9965,1.0063,0.9939,1.0143,1.0132,0.9989,1.0098,1.0011,1.0011,0.9951,0.9964,0.9963,1.003,1.0035,1.0131,1.0038,0.9937],\"yaxis\":\"y\",\"type\":\"scatter\"},{\"hovertemplate\":\"\\u003cb\\u003e%{hovertext}\\u003c\\u002fb\\u003e\\u003cbr\\u003e\\u003cbr\\u003econtinent=South America\\u003cbr\\u003ePopulation Density (people\\u002fkm\\u00b2)=%{x}\\u003cbr\\u003eGrowth Rate=%{y}\\u003cbr\\u003e2022 population=%{marker.size}\\u003cextra\\u003e\\u003c\\u002fextra\\u003e\",\"hovertext\":[\"Argentina\",\"Bolivia\",\"Brazil\",\"Chile\",\"Colombia\",\"Ecuador\",\"Falkland Islands\",\"French Guiana\",\"Guyana\",\"Paraguay\",\"Peru\",\"Suriname\",\"Uruguay\",\"Venezuela\"],\"legendgroup\":\"South America\",\"marker\":{\"color\":\"#1F9E89\",\"size\":[45510318,12224110,215313498,19603733,51874024,18001000,3780,304557,808726,6780744,34049588,618040,3422794,28301696],\"sizemode\":\"area\",\"sizeref\":1584319.2633333334,\"symbol\":\"circle\"},\"mode\":\"markers\",\"name\":\"South America\",\"orientation\":\"v\",\"showlegend\":true,\"x\":[16.3683,11.1272,25.2841,25.9274,45.4339,65.0229,0.3105,3.6459,3.7621,16.6705,26.4933,3.7727,18.9069,30.882],\"xaxis\":\"x\",\"y\":[1.0052,1.012,1.0046,1.0057,1.0069,1.0114,1.0043,1.0239,1.0052,1.0115,1.0099,1.0082,0.999,1.0036],\"yaxis\":\"y\",\"type\":\"scatter\"}],                        {\"template\":{\"data\":{\"histogram2dcontour\":[{\"type\":\"histogram2dcontour\",\"colorbar\":{\"outlinewidth\":0,\"ticks\":\"\"},\"colorscale\":[[0.0,\"#0d0887\"],[0.1111111111111111,\"#46039f\"],[0.2222222222222222,\"#7201a8\"],[0.3333333333333333,\"#9c179e\"],[0.4444444444444444,\"#bd3786\"],[0.5555555555555556,\"#d8576b\"],[0.6666666666666666,\"#ed7953\"],[0.7777777777777778,\"#fb9f3a\"],[0.8888888888888888,\"#fdca26\"],[1.0,\"#f0f921\"]]}],\"choropleth\":[{\"type\":\"choropleth\",\"colorbar\":{\"outlinewidth\":0,\"ticks\":\"\"}}],\"histogram2d\":[{\"type\":\"histogram2d\",\"colorbar\":{\"outlinewidth\":0,\"ticks\":\"\"},\"colorscale\":[[0.0,\"#0d0887\"],[0.1111111111111111,\"#46039f\"],[0.2222222222222222,\"#7201a8\"],[0.3333333333333333,\"#9c179e\"],[0.4444444444444444,\"#bd3786\"],[0.5555555555555556,\"#d8576b\"],[0.6666666666666666,\"#ed7953\"],[0.7777777777777778,\"#fb9f3a\"],[0.8888888888888888,\"#fdca26\"],[1.0,\"#f0f921\"]]}],\"heatmap\":[{\"type\":\"heatmap\",\"colorbar\":{\"outlinewidth\":0,\"ticks\":\"\"},\"colorscale\":[[0.0,\"#0d0887\"],[0.1111111111111111,\"#46039f\"],[0.2222222222222222,\"#7201a8\"],[0.3333333333333333,\"#9c179e\"],[0.4444444444444444,\"#bd3786\"],[0.5555555555555556,\"#d8576b\"],[0.6666666666666666,\"#ed7953\"],[0.7777777777777778,\"#fb9f3a\"],[0.8888888888888888,\"#fdca26\"],[1.0,\"#f0f921\"]]}],\"heatmapgl\":[{\"type\":\"heatmapgl\",\"colorbar\":{\"outlinewidth\":0,\"ticks\":\"\"},\"colorscale\":[[0.0,\"#0d0887\"],[0.1111111111111111,\"#46039f\"],[0.2222222222222222,\"#7201a8\"],[0.3333333333333333,\"#9c179e\"],[0.4444444444444444,\"#bd3786\"],[0.5555555555555556,\"#d8576b\"],[0.6666666666666666,\"#ed7953\"],[0.7777777777777778,\"#fb9f3a\"],[0.8888888888888888,\"#fdca26\"],[1.0,\"#f0f921\"]]}],\"contourcarpet\":[{\"type\":\"contourcarpet\",\"colorbar\":{\"outlinewidth\":0,\"ticks\":\"\"}}],\"contour\":[{\"type\":\"contour\",\"colorbar\":{\"outlinewidth\":0,\"ticks\":\"\"},\"colorscale\":[[0.0,\"#0d0887\"],[0.1111111111111111,\"#46039f\"],[0.2222222222222222,\"#7201a8\"],[0.3333333333333333,\"#9c179e\"],[0.4444444444444444,\"#bd3786\"],[0.5555555555555556,\"#d8576b\"],[0.6666666666666666,\"#ed7953\"],[0.7777777777777778,\"#fb9f3a\"],[0.8888888888888888,\"#fdca26\"],[1.0,\"#f0f921\"]]}],\"surface\":[{\"type\":\"surface\",\"colorbar\":{\"outlinewidth\":0,\"ticks\":\"\"},\"colorscale\":[[0.0,\"#0d0887\"],[0.1111111111111111,\"#46039f\"],[0.2222222222222222,\"#7201a8\"],[0.3333333333333333,\"#9c179e\"],[0.4444444444444444,\"#bd3786\"],[0.5555555555555556,\"#d8576b\"],[0.6666666666666666,\"#ed7953\"],[0.7777777777777778,\"#fb9f3a\"],[0.8888888888888888,\"#fdca26\"],[1.0,\"#f0f921\"]]}],\"mesh3d\":[{\"type\":\"mesh3d\",\"colorbar\":{\"outlinewidth\":0,\"ticks\":\"\"}}],\"scatter\":[{\"fillpattern\":{\"fillmode\":\"overlay\",\"size\":10,\"solidity\":0.2},\"type\":\"scatter\"}],\"parcoords\":[{\"type\":\"parcoords\",\"line\":{\"colorbar\":{\"outlinewidth\":0,\"ticks\":\"\"}}}],\"scatterpolargl\":[{\"type\":\"scatterpolargl\",\"marker\":{\"colorbar\":{\"outlinewidth\":0,\"ticks\":\"\"}}}],\"bar\":[{\"error_x\":{\"color\":\"#2a3f5f\"},\"error_y\":{\"color\":\"#2a3f5f\"},\"marker\":{\"line\":{\"color\":\"#E5ECF6\",\"width\":0.5},\"pattern\":{\"fillmode\":\"overlay\",\"size\":10,\"solidity\":0.2}},\"type\":\"bar\"}],\"scattergeo\":[{\"type\":\"scattergeo\",\"marker\":{\"colorbar\":{\"outlinewidth\":0,\"ticks\":\"\"}}}],\"scatterpolar\":[{\"type\":\"scatterpolar\",\"marker\":{\"colorbar\":{\"outlinewidth\":0,\"ticks\":\"\"}}}],\"histogram\":[{\"marker\":{\"pattern\":{\"fillmode\":\"overlay\",\"size\":10,\"solidity\":0.2}},\"type\":\"histogram\"}],\"scattergl\":[{\"type\":\"scattergl\",\"marker\":{\"colorbar\":{\"outlinewidth\":0,\"ticks\":\"\"}}}],\"scatter3d\":[{\"type\":\"scatter3d\",\"line\":{\"colorbar\":{\"outlinewidth\":0,\"ticks\":\"\"}},\"marker\":{\"colorbar\":{\"outlinewidth\":0,\"ticks\":\"\"}}}],\"scattermapbox\":[{\"type\":\"scattermapbox\",\"marker\":{\"colorbar\":{\"outlinewidth\":0,\"ticks\":\"\"}}}],\"scatterternary\":[{\"type\":\"scatterternary\",\"marker\":{\"colorbar\":{\"outlinewidth\":0,\"ticks\":\"\"}}}],\"scattercarpet\":[{\"type\":\"scattercarpet\",\"marker\":{\"colorbar\":{\"outlinewidth\":0,\"ticks\":\"\"}}}],\"carpet\":[{\"aaxis\":{\"endlinecolor\":\"#2a3f5f\",\"gridcolor\":\"white\",\"linecolor\":\"white\",\"minorgridcolor\":\"white\",\"startlinecolor\":\"#2a3f5f\"},\"baxis\":{\"endlinecolor\":\"#2a3f5f\",\"gridcolor\":\"white\",\"linecolor\":\"white\",\"minorgridcolor\":\"white\",\"startlinecolor\":\"#2a3f5f\"},\"type\":\"carpet\"}],\"table\":[{\"cells\":{\"fill\":{\"color\":\"#EBF0F8\"},\"line\":{\"color\":\"white\"}},\"header\":{\"fill\":{\"color\":\"#C8D4E3\"},\"line\":{\"color\":\"white\"}},\"type\":\"table\"}],\"barpolar\":[{\"marker\":{\"line\":{\"color\":\"#E5ECF6\",\"width\":0.5},\"pattern\":{\"fillmode\":\"overlay\",\"size\":10,\"solidity\":0.2}},\"type\":\"barpolar\"}],\"pie\":[{\"automargin\":true,\"type\":\"pie\"}]},\"layout\":{\"autotypenumbers\":\"strict\",\"colorway\":[\"#636efa\",\"#EF553B\",\"#00cc96\",\"#ab63fa\",\"#FFA15A\",\"#19d3f3\",\"#FF6692\",\"#B6E880\",\"#FF97FF\",\"#FECB52\"],\"font\":{\"color\":\"#2a3f5f\"},\"hovermode\":\"closest\",\"hoverlabel\":{\"align\":\"left\"},\"paper_bgcolor\":\"white\",\"plot_bgcolor\":\"#E5ECF6\",\"polar\":{\"bgcolor\":\"#E5ECF6\",\"angularaxis\":{\"gridcolor\":\"white\",\"linecolor\":\"white\",\"ticks\":\"\"},\"radialaxis\":{\"gridcolor\":\"white\",\"linecolor\":\"white\",\"ticks\":\"\"}},\"ternary\":{\"bgcolor\":\"#E5ECF6\",\"aaxis\":{\"gridcolor\":\"white\",\"linecolor\":\"white\",\"ticks\":\"\"},\"baxis\":{\"gridcolor\":\"white\",\"linecolor\":\"white\",\"ticks\":\"\"},\"caxis\":{\"gridcolor\":\"white\",\"linecolor\":\"white\",\"ticks\":\"\"}},\"coloraxis\":{\"colorbar\":{\"outlinewidth\":0,\"ticks\":\"\"}},\"colorscale\":{\"sequential\":[[0.0,\"#0d0887\"],[0.1111111111111111,\"#46039f\"],[0.2222222222222222,\"#7201a8\"],[0.3333333333333333,\"#9c179e\"],[0.4444444444444444,\"#bd3786\"],[0.5555555555555556,\"#d8576b\"],[0.6666666666666666,\"#ed7953\"],[0.7777777777777778,\"#fb9f3a\"],[0.8888888888888888,\"#fdca26\"],[1.0,\"#f0f921\"]],\"sequentialminus\":[[0.0,\"#0d0887\"],[0.1111111111111111,\"#46039f\"],[0.2222222222222222,\"#7201a8\"],[0.3333333333333333,\"#9c179e\"],[0.4444444444444444,\"#bd3786\"],[0.5555555555555556,\"#d8576b\"],[0.6666666666666666,\"#ed7953\"],[0.7777777777777778,\"#fb9f3a\"],[0.8888888888888888,\"#fdca26\"],[1.0,\"#f0f921\"]],\"diverging\":[[0,\"#8e0152\"],[0.1,\"#c51b7d\"],[0.2,\"#de77ae\"],[0.3,\"#f1b6da\"],[0.4,\"#fde0ef\"],[0.5,\"#f7f7f7\"],[0.6,\"#e6f5d0\"],[0.7,\"#b8e186\"],[0.8,\"#7fbc41\"],[0.9,\"#4d9221\"],[1,\"#276419\"]]},\"xaxis\":{\"gridcolor\":\"white\",\"linecolor\":\"white\",\"ticks\":\"\",\"title\":{\"standoff\":15},\"zerolinecolor\":\"white\",\"automargin\":true,\"zerolinewidth\":2},\"yaxis\":{\"gridcolor\":\"white\",\"linecolor\":\"white\",\"ticks\":\"\",\"title\":{\"standoff\":15},\"zerolinecolor\":\"white\",\"automargin\":true,\"zerolinewidth\":2},\"scene\":{\"xaxis\":{\"backgroundcolor\":\"#E5ECF6\",\"gridcolor\":\"white\",\"linecolor\":\"white\",\"showbackground\":true,\"ticks\":\"\",\"zerolinecolor\":\"white\",\"gridwidth\":2},\"yaxis\":{\"backgroundcolor\":\"#E5ECF6\",\"gridcolor\":\"white\",\"linecolor\":\"white\",\"showbackground\":true,\"ticks\":\"\",\"zerolinecolor\":\"white\",\"gridwidth\":2},\"zaxis\":{\"backgroundcolor\":\"#E5ECF6\",\"gridcolor\":\"white\",\"linecolor\":\"white\",\"showbackground\":true,\"ticks\":\"\",\"zerolinecolor\":\"white\",\"gridwidth\":2}},\"shapedefaults\":{\"line\":{\"color\":\"#2a3f5f\"}},\"annotationdefaults\":{\"arrowcolor\":\"#2a3f5f\",\"arrowhead\":0,\"arrowwidth\":1},\"geo\":{\"bgcolor\":\"white\",\"landcolor\":\"#E5ECF6\",\"subunitcolor\":\"white\",\"showland\":true,\"showlakes\":true,\"lakecolor\":\"white\"},\"title\":{\"x\":0.05},\"mapbox\":{\"style\":\"light\"}}},\"xaxis\":{\"anchor\":\"y\",\"domain\":[0.0,1.0],\"title\":{\"text\":\"Population Density (people\\u002fkm\\u00b2)\"}},\"yaxis\":{\"anchor\":\"x\",\"domain\":[0.0,1.0],\"title\":{\"text\":\"Growth Rate\"}},\"legend\":{\"title\":{\"text\":\"continent\"},\"tracegroupgap\":0,\"itemsizing\":\"constant\"},\"title\":{\"text\":\"Growth Rate vs. Population Density\"},\"width\":1200,\"height\":800},                        {\"responsive\": true}                    ).then(function(){\n",
       "                            \n",
       "var gd = document.getElementById('1581b894-2cb7-4630-8146-23e897a225cb');\n",
       "var x = new MutationObserver(function (mutations, observer) {{\n",
       "        var display = window.getComputedStyle(gd).display;\n",
       "        if (!display || display === 'none') {{\n",
       "            console.log([gd, 'removed!']);\n",
       "            Plotly.purge(gd);\n",
       "            observer.disconnect();\n",
       "        }}\n",
       "}});\n",
       "\n",
       "// Listen for the removal of the full notebook cells\n",
       "var notebookContainer = gd.closest('#notebook-container');\n",
       "if (notebookContainer) {{\n",
       "    x.observe(notebookContainer, {childList: true});\n",
       "}}\n",
       "\n",
       "// Listen for the clearing of the current output cell\n",
       "var outputEl = gd.closest('.output');\n",
       "if (outputEl) {{\n",
       "    x.observe(outputEl, {childList: true});\n",
       "}}\n",
       "\n",
       "                        })                };                });            </script>        </div>"
      ]
     },
     "metadata": {},
     "output_type": "display_data"
    }
   ],
   "source": [
    "# Create a custom color palette similar to viridis\n",
    "custom_palette = [\"#440154\", \"#482677\", \"#3E4989\", \"#31688E\", \"#26828E\", \"#1F9E89\", \"#35B779\", \"#6DCD59\", \"#B4DE2C\", \"#FDE725\"]\n",
    "\n",
    "# Scatter plot for growth rate and population density with Plotly\n",
    "fig = px.scatter(df, \n",
    "                 x='density (per km²)', \n",
    "                 y='growth rate', \n",
    "                 color='continent', \n",
    "                 size='2022 population',\n",
    "                 hover_name='country/territory', \n",
    "                 title='Growth Rate vs. Population Density',\n",
    "                 labels={'density (per km²)': 'Population Density (people/km²)', 'growth rate': 'Growth Rate'},\n",
    "                 size_max=30,\n",
    "                 color_discrete_sequence=custom_palette)  # Set custom color palette\n",
    "\n",
    "# Update layout for better fitting\n",
    "fig.update_layout(\n",
    "    width=1200,\n",
    "    height=800,\n",
    ")\n",
    "\n",
    "# Show the interactive plot\n",
    "fig.show()\n"
   ]
  },
  {
   "cell_type": "markdown",
   "id": "15e8e230",
   "metadata": {},
   "source": [
    "# ThankYou"
   ]
  },
  {
   "cell_type": "code",
   "execution_count": null,
   "id": "d0895eda",
   "metadata": {},
   "outputs": [],
   "source": []
  }
 ],
 "metadata": {
  "kernelspec": {
   "display_name": "Python 3 (ipykernel)",
   "language": "python",
   "name": "python3"
  },
  "language_info": {
   "codemirror_mode": {
    "name": "ipython",
    "version": 3
   },
   "file_extension": ".py",
   "mimetype": "text/x-python",
   "name": "python",
   "nbconvert_exporter": "python",
   "pygments_lexer": "ipython3",
   "version": "3.9.7"
  }
 },
 "nbformat": 4,
 "nbformat_minor": 5
}
